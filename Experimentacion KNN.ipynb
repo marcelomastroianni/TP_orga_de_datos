{
 "cells": [
  {
   "cell_type": "code",
   "execution_count": 79,
   "metadata": {},
   "outputs": [],
   "source": [
    "import pandas as pd\n",
    "import numpy as np\n",
    "import matplotlib.pyplot as plt\n",
    "from matplotlib.legend import Legend\n",
    "import matplotlib.patches as mpatches\n",
    "import seaborn as sns\n",
    "#from statsmodels.graphics.mosaicplot import mosaic\n",
    "import io\n",
    "import requests\n",
    "\n",
    "%matplotlib inline\n",
    "\n",
    "from sklearn.ensemble import RandomForestRegressor\n",
    "from sklearn.metrics import mean_squared_error\n",
    "from sklearn.metrics import accuracy_score\n",
    "import matplotlib.pyplot as plt\n",
    "from sklearn import tree\n",
    "\n",
    "from sklearn.metrics import log_loss"
   ]
  },
  {
   "cell_type": "code",
   "execution_count": 80,
   "metadata": {},
   "outputs": [
    {
     "data": {
      "text/html": [
       "<div>\n",
       "<style scoped>\n",
       "    .dataframe tbody tr th:only-of-type {\n",
       "        vertical-align: middle;\n",
       "    }\n",
       "\n",
       "    .dataframe tbody tr th {\n",
       "        vertical-align: top;\n",
       "    }\n",
       "\n",
       "    .dataframe thead th {\n",
       "        text-align: right;\n",
       "    }\n",
       "</style>\n",
       "<table border=\"1\" class=\"dataframe\">\n",
       "  <thead>\n",
       "    <tr style=\"text-align: right;\">\n",
       "      <th></th>\n",
       "      <th>ID</th>\n",
       "      <th>Region</th>\n",
       "      <th>Territory</th>\n",
       "      <th>Pricing, Delivery_Terms_Quote_Appr</th>\n",
       "      <th>Pricing, Delivery_Terms_Approved</th>\n",
       "      <th>Bureaucratic_Code_0_Approval</th>\n",
       "      <th>Bureaucratic_Code_0_Approved</th>\n",
       "      <th>Submitted_for_Approval</th>\n",
       "      <th>Bureaucratic_Code</th>\n",
       "      <th>Account_Created_Date</th>\n",
       "      <th>...</th>\n",
       "      <th>Delivery_Quarter</th>\n",
       "      <th>Delivery_Year</th>\n",
       "      <th>Actual_Delivery_Date</th>\n",
       "      <th>TRF</th>\n",
       "      <th>Total_Amount_Currency</th>\n",
       "      <th>Total_Amount</th>\n",
       "      <th>Total_Taxable_Amount_Currency</th>\n",
       "      <th>Total_Taxable_Amount</th>\n",
       "      <th>Stage</th>\n",
       "      <th>Prod_Category_A</th>\n",
       "    </tr>\n",
       "  </thead>\n",
       "  <tbody>\n",
       "    <tr>\n",
       "      <th>0</th>\n",
       "      <td>27761</td>\n",
       "      <td>EMEA</td>\n",
       "      <td>None</td>\n",
       "      <td>1</td>\n",
       "      <td>1</td>\n",
       "      <td>1</td>\n",
       "      <td>1</td>\n",
       "      <td>0</td>\n",
       "      <td>Bureaucratic_Code_4</td>\n",
       "      <td>2015-06-16</td>\n",
       "      <td>...</td>\n",
       "      <td>Q2</td>\n",
       "      <td>2016</td>\n",
       "      <td>NaT</td>\n",
       "      <td>10</td>\n",
       "      <td>EUR</td>\n",
       "      <td>5272800.0</td>\n",
       "      <td>EUR</td>\n",
       "      <td>5272800.0</td>\n",
       "      <td>Closed Lost</td>\n",
       "      <td>Prod_Category_A_None</td>\n",
       "    </tr>\n",
       "    <tr>\n",
       "      <th>1</th>\n",
       "      <td>27760</td>\n",
       "      <td>EMEA</td>\n",
       "      <td>None</td>\n",
       "      <td>0</td>\n",
       "      <td>0</td>\n",
       "      <td>0</td>\n",
       "      <td>0</td>\n",
       "      <td>0</td>\n",
       "      <td>Bureaucratic_Code_4</td>\n",
       "      <td>2015-06-16</td>\n",
       "      <td>...</td>\n",
       "      <td>Q1</td>\n",
       "      <td>2016</td>\n",
       "      <td>NaT</td>\n",
       "      <td>0</td>\n",
       "      <td>EUR</td>\n",
       "      <td>48230.0</td>\n",
       "      <td>EUR</td>\n",
       "      <td>48230.0</td>\n",
       "      <td>Closed Won</td>\n",
       "      <td>Prod_Category_A_None</td>\n",
       "    </tr>\n",
       "    <tr>\n",
       "      <th>2</th>\n",
       "      <td>27446</td>\n",
       "      <td>Americas</td>\n",
       "      <td>NW America</td>\n",
       "      <td>0</td>\n",
       "      <td>0</td>\n",
       "      <td>0</td>\n",
       "      <td>0</td>\n",
       "      <td>0</td>\n",
       "      <td>Bureaucratic_Code_4</td>\n",
       "      <td>2015-04-21</td>\n",
       "      <td>...</td>\n",
       "      <td>Q1</td>\n",
       "      <td>2016</td>\n",
       "      <td>NaT</td>\n",
       "      <td>0</td>\n",
       "      <td>USD</td>\n",
       "      <td>83865.6</td>\n",
       "      <td>USD</td>\n",
       "      <td>83865.6</td>\n",
       "      <td>Closed Won</td>\n",
       "      <td>Prod_Category_A_None</td>\n",
       "    </tr>\n",
       "    <tr>\n",
       "      <th>3</th>\n",
       "      <td>16808</td>\n",
       "      <td>Americas</td>\n",
       "      <td>NW America</td>\n",
       "      <td>1</td>\n",
       "      <td>0</td>\n",
       "      <td>1</td>\n",
       "      <td>0</td>\n",
       "      <td>0</td>\n",
       "      <td>Bureaucratic_Code_5</td>\n",
       "      <td>2013-07-27</td>\n",
       "      <td>...</td>\n",
       "      <td>Q1</td>\n",
       "      <td>2018</td>\n",
       "      <td>NaT</td>\n",
       "      <td>14</td>\n",
       "      <td>USD</td>\n",
       "      <td>7421881.5</td>\n",
       "      <td>USD</td>\n",
       "      <td>7421881.5</td>\n",
       "      <td>Closed Lost</td>\n",
       "      <td>Prod_Category_A_None</td>\n",
       "    </tr>\n",
       "    <tr>\n",
       "      <th>4</th>\n",
       "      <td>16805</td>\n",
       "      <td>Americas</td>\n",
       "      <td>NW America</td>\n",
       "      <td>1</td>\n",
       "      <td>0</td>\n",
       "      <td>1</td>\n",
       "      <td>0</td>\n",
       "      <td>0</td>\n",
       "      <td>Bureaucratic_Code_5</td>\n",
       "      <td>2013-07-27</td>\n",
       "      <td>...</td>\n",
       "      <td>Q1</td>\n",
       "      <td>2018</td>\n",
       "      <td>NaT</td>\n",
       "      <td>25</td>\n",
       "      <td>USD</td>\n",
       "      <td>13357192.5</td>\n",
       "      <td>USD</td>\n",
       "      <td>13357192.5</td>\n",
       "      <td>Closed Lost</td>\n",
       "      <td>Prod_Category_A_None</td>\n",
       "    </tr>\n",
       "  </tbody>\n",
       "</table>\n",
       "<p>5 rows × 52 columns</p>\n",
       "</div>"
      ],
      "text/plain": [
       "      ID    Region   Territory  Pricing, Delivery_Terms_Quote_Appr  \\\n",
       "0  27761      EMEA        None                                   1   \n",
       "1  27760      EMEA        None                                   0   \n",
       "2  27446  Americas  NW America                                   0   \n",
       "3  16808  Americas  NW America                                   1   \n",
       "4  16805  Americas  NW America                                   1   \n",
       "\n",
       "   Pricing, Delivery_Terms_Approved  Bureaucratic_Code_0_Approval  \\\n",
       "0                                 1                             1   \n",
       "1                                 0                             0   \n",
       "2                                 0                             0   \n",
       "3                                 0                             1   \n",
       "4                                 0                             1   \n",
       "\n",
       "   Bureaucratic_Code_0_Approved  Submitted_for_Approval    Bureaucratic_Code  \\\n",
       "0                             1                       0  Bureaucratic_Code_4   \n",
       "1                             0                       0  Bureaucratic_Code_4   \n",
       "2                             0                       0  Bureaucratic_Code_4   \n",
       "3                             0                       0  Bureaucratic_Code_5   \n",
       "4                             0                       0  Bureaucratic_Code_5   \n",
       "\n",
       "  Account_Created_Date  ... Delivery_Quarter Delivery_Year  \\\n",
       "0           2015-06-16  ...               Q2          2016   \n",
       "1           2015-06-16  ...               Q1          2016   \n",
       "2           2015-04-21  ...               Q1          2016   \n",
       "3           2013-07-27  ...               Q1          2018   \n",
       "4           2013-07-27  ...               Q1          2018   \n",
       "\n",
       "  Actual_Delivery_Date TRF  Total_Amount_Currency Total_Amount  \\\n",
       "0                  NaT  10                    EUR    5272800.0   \n",
       "1                  NaT   0                    EUR      48230.0   \n",
       "2                  NaT   0                    USD      83865.6   \n",
       "3                  NaT  14                    USD    7421881.5   \n",
       "4                  NaT  25                    USD   13357192.5   \n",
       "\n",
       "  Total_Taxable_Amount_Currency Total_Taxable_Amount        Stage  \\\n",
       "0                           EUR            5272800.0  Closed Lost   \n",
       "1                           EUR              48230.0   Closed Won   \n",
       "2                           USD              83865.6   Closed Won   \n",
       "3                           USD            7421881.5  Closed Lost   \n",
       "4                           USD           13357192.5  Closed Lost   \n",
       "\n",
       "        Prod_Category_A  \n",
       "0  Prod_Category_A_None  \n",
       "1  Prod_Category_A_None  \n",
       "2  Prod_Category_A_None  \n",
       "3  Prod_Category_A_None  \n",
       "4  Prod_Category_A_None  \n",
       "\n",
       "[5 rows x 52 columns]"
      ]
     },
     "execution_count": 80,
     "metadata": {},
     "output_type": "execute_result"
    }
   ],
   "source": [
    "url=\"https://raw.githubusercontent.com/joacols/TP_orga_de_datos/main/Train_TP2_Datos_2020-2C.csv\"\n",
    "s=requests.get(url).content\n",
    "df=pd.read_csv(io.StringIO(s.decode('utf-8')),\n",
    "\n",
    "#df = pd.read_csv('Entrenamieto_ECI_2020.csv',\n",
    "dtype={\n",
    "'ID': np.int64,\n",
    "'Pricing, Delivery_Terms_Quote_Approval': np.int64,\n",
    "'Pricing, Delivery_Terms_Approved': np.int64,\n",
    "'Bureaucratic_Code_0_Approval': np.int64,\n",
    "'Bureaucratic_Code_0_Approved': np.int64,\n",
    "'Submitted_for_Approval': np.int64,\n",
    "'Opportunity_ID': np.int64,\n",
    "#'Sales_Contract_No': np.int64,\n",
    "'Delivery_Year': np.int64,\n",
    "'Total_Power': np.int64,\n",
    "#'Price':np.float64,\n",
    "'ASP':np.float64,\n",
    "'ASP_(converted)':np.float64,\n",
    "'Total_Amount':np.float64},\n",
    "parse_dates=[\n",
    "'Account_Created_Date',\n",
    "'Planned_Delivery_Start_Date',\n",
    "'Planned_Delivery_End_Date',\n",
    "'Opportunity_Created_Date',\n",
    "'Last_Activity',\n",
    "'Quote_Expiry_Date',\n",
    "'Actual_Delivery_Date',\n",
    "'Last_Modified_Date'\n",
    "])\n",
    "\n",
    "df.head()"
   ]
  },
  {
   "cell_type": "markdown",
   "metadata": {},
   "source": [
    "## Conversion de \"Delivery_Quarter\" variable que indica el trimestre del limite inferior del rango previsto para la fecha de entrega"
   ]
  },
  {
   "cell_type": "code",
   "execution_count": 81,
   "metadata": {},
   "outputs": [
    {
     "data": {
      "text/plain": [
       "Q2    4443\n",
       "Q1    4317\n",
       "Q4    4144\n",
       "Q3    4043\n",
       "Name: Delivery_Quarter, dtype: int64"
      ]
     },
     "execution_count": 81,
     "metadata": {},
     "output_type": "execute_result"
    }
   ],
   "source": [
    "df['Delivery_Quarter'].value_counts()"
   ]
  },
  {
   "cell_type": "code",
   "execution_count": 82,
   "metadata": {
    "scrolled": true
   },
   "outputs": [
    {
     "data": {
      "text/plain": [
       "2.0    4443\n",
       "1.0    4317\n",
       "4.0    4144\n",
       "3.0    4043\n",
       "Name: Delivery_Quarter, dtype: int64"
      ]
     },
     "execution_count": 82,
     "metadata": {},
     "output_type": "execute_result"
    }
   ],
   "source": [
    "df['Delivery_Quarter']=df['Delivery_Quarter'].str.slice(start=-1).astype(float)\n",
    "df['Delivery_Quarter'].value_counts()"
   ]
  },
  {
   "cell_type": "code",
   "execution_count": 83,
   "metadata": {
    "scrolled": true
   },
   "outputs": [],
   "source": [
    "df_paso = pd.DataFrame()"
   ]
  },
  {
   "cell_type": "code",
   "execution_count": 84,
   "metadata": {},
   "outputs": [],
   "source": [
    " df_paso['Account_Created_Date_Day'] = df['Account_Created_Date'].dt.day\n",
    " df_paso['Account_Created_Date_Month'] = df['Account_Created_Date'].dt.month\n",
    " df_paso['Account_Created_Date_Year'] = df['Account_Created_Date'].dt.year\n",
    "\n",
    " df_paso['Opportunity_Created_Date_Day'] = df['Opportunity_Created_Date'].dt.day\n",
    " df_paso['Opportunity_Created_Date_Month'] = df['Opportunity_Created_Date'].dt.month\n",
    " df_paso['Opportunity_Created_Date_Year'] = df['Opportunity_Created_Date'].dt.year\n",
    "\n",
    " df_paso['Last_Activity_Day'] = df['Last_Activity'].dt.day\n",
    " df_paso['Last_Activity_Month'] = df['Last_Activity'].dt.month\n",
    " df_paso['Last_Activity_Year'] = df['Last_Activity'].dt.year\n",
    "\n",
    " df_paso['Quote_Expiry_Date_Day'] = df['Quote_Expiry_Date'].dt.day\n",
    " df_paso['Quote_Expiry_Date_Month'] = df['Quote_Expiry_Date'].dt.month\n",
    " df_paso['Quote_Expiry_Date_Year'] = df['Quote_Expiry_Date'].dt.year\n",
    "\n",
    " df_paso['Last_Modified_Date_Day'] = df['Last_Modified_Date'].dt.day\n",
    " df_paso['Last_Modified_Date_Month'] = df['Last_Modified_Date'].dt.month\n",
    " df_paso['Last_Modified_Date_Year'] = df['Last_Modified_Date'].dt.year\n",
    "\n",
    " df_paso['Planned_Delivery_Start_Date_Day'] = df['Planned_Delivery_Start_Date'].dt.day\n",
    " df_paso['Planned_Delivery_Start_Date_Month'] = df['Planned_Delivery_Start_Date'].dt.month\n",
    " df_paso['Planned_Delivery_Start_Date_Year'] = df['Planned_Delivery_Start_Date'].dt.year\n",
    "\n",
    " df_paso['Planned_Delivery_End_Date_Day'] = df['Planned_Delivery_End_Date'].dt.day\n",
    " df_paso['Planned_Delivery_End_Date_Month'] = df['Planned_Delivery_End_Date'].dt.month\n",
    " df_paso['Planned_Delivery_End_Date_Year'] = df['Planned_Delivery_End_Date'].dt.year\n",
    "\n",
    " df_paso['Actual_Delivery_Date_Day'] = df['Actual_Delivery_Date'].dt.day\n",
    " df_paso['Actual_Delivery_Date_Month'] = df['Actual_Delivery_Date'].dt.month\n",
    " df_paso['Actual_Delivery_Date_Year'] = df['Actual_Delivery_Date'].dt.year"
   ]
  },
  {
   "cell_type": "code",
   "execution_count": 85,
   "metadata": {},
   "outputs": [
    {
     "data": {
      "text/html": [
       "<div>\n",
       "<style scoped>\n",
       "    .dataframe tbody tr th:only-of-type {\n",
       "        vertical-align: middle;\n",
       "    }\n",
       "\n",
       "    .dataframe tbody tr th {\n",
       "        vertical-align: top;\n",
       "    }\n",
       "\n",
       "    .dataframe thead th {\n",
       "        text-align: right;\n",
       "    }\n",
       "</style>\n",
       "<table border=\"1\" class=\"dataframe\">\n",
       "  <thead>\n",
       "    <tr style=\"text-align: right;\">\n",
       "      <th></th>\n",
       "      <th>Account_Created_Date_Day</th>\n",
       "      <th>Account_Created_Date_Month</th>\n",
       "      <th>Account_Created_Date_Year</th>\n",
       "      <th>Opportunity_Created_Date_Day</th>\n",
       "      <th>Opportunity_Created_Date_Month</th>\n",
       "      <th>Opportunity_Created_Date_Year</th>\n",
       "      <th>Last_Activity_Day</th>\n",
       "      <th>Last_Activity_Month</th>\n",
       "      <th>Last_Activity_Year</th>\n",
       "      <th>Quote_Expiry_Date_Day</th>\n",
       "      <th>...</th>\n",
       "      <th>Last_Modified_Date_Year</th>\n",
       "      <th>Planned_Delivery_Start_Date_Day</th>\n",
       "      <th>Planned_Delivery_Start_Date_Month</th>\n",
       "      <th>Planned_Delivery_Start_Date_Year</th>\n",
       "      <th>Planned_Delivery_End_Date_Day</th>\n",
       "      <th>Planned_Delivery_End_Date_Month</th>\n",
       "      <th>Planned_Delivery_End_Date_Year</th>\n",
       "      <th>Actual_Delivery_Date_Day</th>\n",
       "      <th>Actual_Delivery_Date_Month</th>\n",
       "      <th>Actual_Delivery_Date_Year</th>\n",
       "    </tr>\n",
       "  </thead>\n",
       "  <tbody>\n",
       "    <tr>\n",
       "      <th>0</th>\n",
       "      <td>16</td>\n",
       "      <td>6</td>\n",
       "      <td>2015</td>\n",
       "      <td>7</td>\n",
       "      <td>12</td>\n",
       "      <td>2015</td>\n",
       "      <td>NaN</td>\n",
       "      <td>NaN</td>\n",
       "      <td>NaN</td>\n",
       "      <td>30.0</td>\n",
       "      <td>...</td>\n",
       "      <td>2016</td>\n",
       "      <td>1</td>\n",
       "      <td>5</td>\n",
       "      <td>2016</td>\n",
       "      <td>30.0</td>\n",
       "      <td>6.0</td>\n",
       "      <td>2016.0</td>\n",
       "      <td>NaN</td>\n",
       "      <td>NaN</td>\n",
       "      <td>NaN</td>\n",
       "    </tr>\n",
       "    <tr>\n",
       "      <th>1</th>\n",
       "      <td>16</td>\n",
       "      <td>6</td>\n",
       "      <td>2015</td>\n",
       "      <td>7</td>\n",
       "      <td>12</td>\n",
       "      <td>2015</td>\n",
       "      <td>NaN</td>\n",
       "      <td>NaN</td>\n",
       "      <td>NaN</td>\n",
       "      <td>20.0</td>\n",
       "      <td>...</td>\n",
       "      <td>2016</td>\n",
       "      <td>18</td>\n",
       "      <td>1</td>\n",
       "      <td>2016</td>\n",
       "      <td>20.0</td>\n",
       "      <td>1.0</td>\n",
       "      <td>2016.0</td>\n",
       "      <td>NaN</td>\n",
       "      <td>NaN</td>\n",
       "      <td>NaN</td>\n",
       "    </tr>\n",
       "    <tr>\n",
       "      <th>2</th>\n",
       "      <td>21</td>\n",
       "      <td>4</td>\n",
       "      <td>2015</td>\n",
       "      <td>8</td>\n",
       "      <td>12</td>\n",
       "      <td>2015</td>\n",
       "      <td>NaN</td>\n",
       "      <td>NaN</td>\n",
       "      <td>NaN</td>\n",
       "      <td>30.0</td>\n",
       "      <td>...</td>\n",
       "      <td>2016</td>\n",
       "      <td>25</td>\n",
       "      <td>1</td>\n",
       "      <td>2016</td>\n",
       "      <td>25.0</td>\n",
       "      <td>1.0</td>\n",
       "      <td>2016.0</td>\n",
       "      <td>NaN</td>\n",
       "      <td>NaN</td>\n",
       "      <td>NaN</td>\n",
       "    </tr>\n",
       "    <tr>\n",
       "      <th>3</th>\n",
       "      <td>27</td>\n",
       "      <td>7</td>\n",
       "      <td>2013</td>\n",
       "      <td>8</td>\n",
       "      <td>12</td>\n",
       "      <td>2015</td>\n",
       "      <td>NaN</td>\n",
       "      <td>NaN</td>\n",
       "      <td>NaN</td>\n",
       "      <td>NaN</td>\n",
       "      <td>...</td>\n",
       "      <td>2018</td>\n",
       "      <td>1</td>\n",
       "      <td>2</td>\n",
       "      <td>2018</td>\n",
       "      <td>31.0</td>\n",
       "      <td>3.0</td>\n",
       "      <td>2018.0</td>\n",
       "      <td>NaN</td>\n",
       "      <td>NaN</td>\n",
       "      <td>NaN</td>\n",
       "    </tr>\n",
       "    <tr>\n",
       "      <th>4</th>\n",
       "      <td>27</td>\n",
       "      <td>7</td>\n",
       "      <td>2013</td>\n",
       "      <td>8</td>\n",
       "      <td>12</td>\n",
       "      <td>2015</td>\n",
       "      <td>NaN</td>\n",
       "      <td>NaN</td>\n",
       "      <td>NaN</td>\n",
       "      <td>2.0</td>\n",
       "      <td>...</td>\n",
       "      <td>2018</td>\n",
       "      <td>1</td>\n",
       "      <td>2</td>\n",
       "      <td>2018</td>\n",
       "      <td>28.0</td>\n",
       "      <td>2.0</td>\n",
       "      <td>2018.0</td>\n",
       "      <td>NaN</td>\n",
       "      <td>NaN</td>\n",
       "      <td>NaN</td>\n",
       "    </tr>\n",
       "    <tr>\n",
       "      <th>...</th>\n",
       "      <td>...</td>\n",
       "      <td>...</td>\n",
       "      <td>...</td>\n",
       "      <td>...</td>\n",
       "      <td>...</td>\n",
       "      <td>...</td>\n",
       "      <td>...</td>\n",
       "      <td>...</td>\n",
       "      <td>...</td>\n",
       "      <td>...</td>\n",
       "      <td>...</td>\n",
       "      <td>...</td>\n",
       "      <td>...</td>\n",
       "      <td>...</td>\n",
       "      <td>...</td>\n",
       "      <td>...</td>\n",
       "      <td>...</td>\n",
       "      <td>...</td>\n",
       "      <td>...</td>\n",
       "      <td>...</td>\n",
       "      <td>...</td>\n",
       "    </tr>\n",
       "    <tr>\n",
       "      <th>16942</th>\n",
       "      <td>15</td>\n",
       "      <td>1</td>\n",
       "      <td>2016</td>\n",
       "      <td>4</td>\n",
       "      <td>12</td>\n",
       "      <td>2015</td>\n",
       "      <td>NaN</td>\n",
       "      <td>NaN</td>\n",
       "      <td>NaN</td>\n",
       "      <td>NaN</td>\n",
       "      <td>...</td>\n",
       "      <td>2016</td>\n",
       "      <td>21</td>\n",
       "      <td>3</td>\n",
       "      <td>2016</td>\n",
       "      <td>25.0</td>\n",
       "      <td>3.0</td>\n",
       "      <td>2016.0</td>\n",
       "      <td>NaN</td>\n",
       "      <td>NaN</td>\n",
       "      <td>NaN</td>\n",
       "    </tr>\n",
       "    <tr>\n",
       "      <th>16943</th>\n",
       "      <td>15</td>\n",
       "      <td>1</td>\n",
       "      <td>2016</td>\n",
       "      <td>4</td>\n",
       "      <td>12</td>\n",
       "      <td>2015</td>\n",
       "      <td>NaN</td>\n",
       "      <td>NaN</td>\n",
       "      <td>NaN</td>\n",
       "      <td>NaN</td>\n",
       "      <td>...</td>\n",
       "      <td>2016</td>\n",
       "      <td>4</td>\n",
       "      <td>4</td>\n",
       "      <td>2016</td>\n",
       "      <td>8.0</td>\n",
       "      <td>4.0</td>\n",
       "      <td>2016.0</td>\n",
       "      <td>NaN</td>\n",
       "      <td>NaN</td>\n",
       "      <td>NaN</td>\n",
       "    </tr>\n",
       "    <tr>\n",
       "      <th>16944</th>\n",
       "      <td>15</td>\n",
       "      <td>1</td>\n",
       "      <td>2016</td>\n",
       "      <td>4</td>\n",
       "      <td>12</td>\n",
       "      <td>2015</td>\n",
       "      <td>NaN</td>\n",
       "      <td>NaN</td>\n",
       "      <td>NaN</td>\n",
       "      <td>NaN</td>\n",
       "      <td>...</td>\n",
       "      <td>2016</td>\n",
       "      <td>28</td>\n",
       "      <td>3</td>\n",
       "      <td>2016</td>\n",
       "      <td>31.0</td>\n",
       "      <td>3.0</td>\n",
       "      <td>2016.0</td>\n",
       "      <td>NaN</td>\n",
       "      <td>NaN</td>\n",
       "      <td>NaN</td>\n",
       "    </tr>\n",
       "    <tr>\n",
       "      <th>16945</th>\n",
       "      <td>20</td>\n",
       "      <td>10</td>\n",
       "      <td>2015</td>\n",
       "      <td>5</td>\n",
       "      <td>12</td>\n",
       "      <td>2015</td>\n",
       "      <td>NaN</td>\n",
       "      <td>NaN</td>\n",
       "      <td>NaN</td>\n",
       "      <td>29.0</td>\n",
       "      <td>...</td>\n",
       "      <td>2016</td>\n",
       "      <td>25</td>\n",
       "      <td>4</td>\n",
       "      <td>2016</td>\n",
       "      <td>29.0</td>\n",
       "      <td>4.0</td>\n",
       "      <td>2016.0</td>\n",
       "      <td>NaN</td>\n",
       "      <td>NaN</td>\n",
       "      <td>NaN</td>\n",
       "    </tr>\n",
       "    <tr>\n",
       "      <th>16946</th>\n",
       "      <td>3</td>\n",
       "      <td>9</td>\n",
       "      <td>2015</td>\n",
       "      <td>5</td>\n",
       "      <td>12</td>\n",
       "      <td>2015</td>\n",
       "      <td>NaN</td>\n",
       "      <td>NaN</td>\n",
       "      <td>NaN</td>\n",
       "      <td>6.0</td>\n",
       "      <td>...</td>\n",
       "      <td>2016</td>\n",
       "      <td>1</td>\n",
       "      <td>7</td>\n",
       "      <td>2016</td>\n",
       "      <td>31.0</td>\n",
       "      <td>8.0</td>\n",
       "      <td>2016.0</td>\n",
       "      <td>NaN</td>\n",
       "      <td>NaN</td>\n",
       "      <td>NaN</td>\n",
       "    </tr>\n",
       "  </tbody>\n",
       "</table>\n",
       "<p>16947 rows × 24 columns</p>\n",
       "</div>"
      ],
      "text/plain": [
       "       Account_Created_Date_Day  Account_Created_Date_Month  \\\n",
       "0                            16                           6   \n",
       "1                            16                           6   \n",
       "2                            21                           4   \n",
       "3                            27                           7   \n",
       "4                            27                           7   \n",
       "...                         ...                         ...   \n",
       "16942                        15                           1   \n",
       "16943                        15                           1   \n",
       "16944                        15                           1   \n",
       "16945                        20                          10   \n",
       "16946                         3                           9   \n",
       "\n",
       "       Account_Created_Date_Year  Opportunity_Created_Date_Day  \\\n",
       "0                           2015                             7   \n",
       "1                           2015                             7   \n",
       "2                           2015                             8   \n",
       "3                           2013                             8   \n",
       "4                           2013                             8   \n",
       "...                          ...                           ...   \n",
       "16942                       2016                             4   \n",
       "16943                       2016                             4   \n",
       "16944                       2016                             4   \n",
       "16945                       2015                             5   \n",
       "16946                       2015                             5   \n",
       "\n",
       "       Opportunity_Created_Date_Month  Opportunity_Created_Date_Year  \\\n",
       "0                                  12                           2015   \n",
       "1                                  12                           2015   \n",
       "2                                  12                           2015   \n",
       "3                                  12                           2015   \n",
       "4                                  12                           2015   \n",
       "...                               ...                            ...   \n",
       "16942                              12                           2015   \n",
       "16943                              12                           2015   \n",
       "16944                              12                           2015   \n",
       "16945                              12                           2015   \n",
       "16946                              12                           2015   \n",
       "\n",
       "       Last_Activity_Day  Last_Activity_Month  Last_Activity_Year  \\\n",
       "0                    NaN                  NaN                 NaN   \n",
       "1                    NaN                  NaN                 NaN   \n",
       "2                    NaN                  NaN                 NaN   \n",
       "3                    NaN                  NaN                 NaN   \n",
       "4                    NaN                  NaN                 NaN   \n",
       "...                  ...                  ...                 ...   \n",
       "16942                NaN                  NaN                 NaN   \n",
       "16943                NaN                  NaN                 NaN   \n",
       "16944                NaN                  NaN                 NaN   \n",
       "16945                NaN                  NaN                 NaN   \n",
       "16946                NaN                  NaN                 NaN   \n",
       "\n",
       "       Quote_Expiry_Date_Day  ...  Last_Modified_Date_Year  \\\n",
       "0                       30.0  ...                     2016   \n",
       "1                       20.0  ...                     2016   \n",
       "2                       30.0  ...                     2016   \n",
       "3                        NaN  ...                     2018   \n",
       "4                        2.0  ...                     2018   \n",
       "...                      ...  ...                      ...   \n",
       "16942                    NaN  ...                     2016   \n",
       "16943                    NaN  ...                     2016   \n",
       "16944                    NaN  ...                     2016   \n",
       "16945                   29.0  ...                     2016   \n",
       "16946                    6.0  ...                     2016   \n",
       "\n",
       "       Planned_Delivery_Start_Date_Day  Planned_Delivery_Start_Date_Month  \\\n",
       "0                                    1                                  5   \n",
       "1                                   18                                  1   \n",
       "2                                   25                                  1   \n",
       "3                                    1                                  2   \n",
       "4                                    1                                  2   \n",
       "...                                ...                                ...   \n",
       "16942                               21                                  3   \n",
       "16943                                4                                  4   \n",
       "16944                               28                                  3   \n",
       "16945                               25                                  4   \n",
       "16946                                1                                  7   \n",
       "\n",
       "       Planned_Delivery_Start_Date_Year  Planned_Delivery_End_Date_Day  \\\n",
       "0                                  2016                           30.0   \n",
       "1                                  2016                           20.0   \n",
       "2                                  2016                           25.0   \n",
       "3                                  2018                           31.0   \n",
       "4                                  2018                           28.0   \n",
       "...                                 ...                            ...   \n",
       "16942                              2016                           25.0   \n",
       "16943                              2016                            8.0   \n",
       "16944                              2016                           31.0   \n",
       "16945                              2016                           29.0   \n",
       "16946                              2016                           31.0   \n",
       "\n",
       "       Planned_Delivery_End_Date_Month  Planned_Delivery_End_Date_Year  \\\n",
       "0                                  6.0                          2016.0   \n",
       "1                                  1.0                          2016.0   \n",
       "2                                  1.0                          2016.0   \n",
       "3                                  3.0                          2018.0   \n",
       "4                                  2.0                          2018.0   \n",
       "...                                ...                             ...   \n",
       "16942                              3.0                          2016.0   \n",
       "16943                              4.0                          2016.0   \n",
       "16944                              3.0                          2016.0   \n",
       "16945                              4.0                          2016.0   \n",
       "16946                              8.0                          2016.0   \n",
       "\n",
       "       Actual_Delivery_Date_Day  Actual_Delivery_Date_Month  \\\n",
       "0                           NaN                         NaN   \n",
       "1                           NaN                         NaN   \n",
       "2                           NaN                         NaN   \n",
       "3                           NaN                         NaN   \n",
       "4                           NaN                         NaN   \n",
       "...                         ...                         ...   \n",
       "16942                       NaN                         NaN   \n",
       "16943                       NaN                         NaN   \n",
       "16944                       NaN                         NaN   \n",
       "16945                       NaN                         NaN   \n",
       "16946                       NaN                         NaN   \n",
       "\n",
       "       Actual_Delivery_Date_Year  \n",
       "0                            NaN  \n",
       "1                            NaN  \n",
       "2                            NaN  \n",
       "3                            NaN  \n",
       "4                            NaN  \n",
       "...                          ...  \n",
       "16942                        NaN  \n",
       "16943                        NaN  \n",
       "16944                        NaN  \n",
       "16945                        NaN  \n",
       "16946                        NaN  \n",
       "\n",
       "[16947 rows x 24 columns]"
      ]
     },
     "execution_count": 85,
     "metadata": {},
     "output_type": "execute_result"
    }
   ],
   "source": [
    "df_paso"
   ]
  },
  {
   "cell_type": "code",
   "execution_count": 86,
   "metadata": {},
   "outputs": [],
   "source": [
    "#df.drop(columns='Month','Delivery_Year','Last_Activity','Quote_Expiry_Date', 'Last_Modified_Date', 'Actual_Delivery_Date' , 'Planned_Deliver_Start_Date', 'Planned_Delivery_End_Date', 'Account_Created_Date', 'Opportunity_Created_Date', 'Region', 'Territory', 'Boreucratic_Code', 'Source', 'Billing_Country', '')"
   ]
  },
  {
   "cell_type": "code",
   "execution_count": 87,
   "metadata": {},
   "outputs": [],
   "source": [
    " df_paso['Account_Created_Date_Month'] = df_paso['Account_Created_Date_Month']*100\n",
    " df_paso['Account_Created_Date_Year'] = df_paso['Account_Created_Date_Year']*10000\n",
    "\n",
    " df_paso['Opportunity_Created_Date_Month'] = df_paso['Opportunity_Created_Date_Month']*100\n",
    " df_paso['Opportunity_Created_Date_Year'] = df_paso['Opportunity_Created_Date_Year']*10000\n",
    "\n",
    " df_paso['Last_Activity_Month'] = df_paso['Last_Activity_Month']*100\n",
    " df_paso['Last_Activity_Year'] = df_paso['Last_Activity_Year']*10000\n",
    "\n",
    " df_paso['Quote_Expiry_Date_Month'] = df_paso['Quote_Expiry_Date_Month']*100\n",
    " df_paso['Quote_Expiry_Date_Year'] = df_paso['Quote_Expiry_Date_Year']*10000\n",
    "\n",
    " df_paso['Last_Modified_Date_Month'] = df_paso['Last_Modified_Date_Month']*100\n",
    " df_paso['Last_Modified_Date_Year'] = df_paso['Last_Modified_Date_Year']*10000\n",
    "\n",
    " df_paso['Planned_Delivery_Start_Date_Month'] = df_paso['Planned_Delivery_Start_Date_Month']*100\n",
    " df_paso['Planned_Delivery_Start_Date_Year'] = df_paso['Planned_Delivery_Start_Date_Year']*10000\n",
    "\n",
    " df_paso['Planned_Delivery_End_Date_Month'] = df_paso['Planned_Delivery_End_Date_Month']*100\n",
    " df_paso['Planned_Delivery_End_Date_Year'] = df_paso['Planned_Delivery_End_Date_Year']*10000\n",
    "\n",
    " df_paso['Actual_Delivery_Date_Month'] = df_paso['Actual_Delivery_Date_Month']*100\n",
    " df_paso['Actual_Delivery_Date_Year'] = df_paso['Actual_Delivery_Date_Year']*10000\n"
   ]
  },
  {
   "cell_type": "code",
   "execution_count": 88,
   "metadata": {
    "scrolled": true
   },
   "outputs": [
    {
     "data": {
      "text/html": [
       "<div>\n",
       "<style scoped>\n",
       "    .dataframe tbody tr th:only-of-type {\n",
       "        vertical-align: middle;\n",
       "    }\n",
       "\n",
       "    .dataframe tbody tr th {\n",
       "        vertical-align: top;\n",
       "    }\n",
       "\n",
       "    .dataframe thead th {\n",
       "        text-align: right;\n",
       "    }\n",
       "</style>\n",
       "<table border=\"1\" class=\"dataframe\">\n",
       "  <thead>\n",
       "    <tr style=\"text-align: right;\">\n",
       "      <th></th>\n",
       "      <th>Account_Created_Date_Day</th>\n",
       "      <th>Account_Created_Date_Month</th>\n",
       "      <th>Account_Created_Date_Year</th>\n",
       "      <th>Opportunity_Created_Date_Day</th>\n",
       "      <th>Opportunity_Created_Date_Month</th>\n",
       "      <th>Opportunity_Created_Date_Year</th>\n",
       "      <th>Last_Activity_Day</th>\n",
       "      <th>Last_Activity_Month</th>\n",
       "      <th>Last_Activity_Year</th>\n",
       "      <th>Quote_Expiry_Date_Day</th>\n",
       "      <th>...</th>\n",
       "      <th>Last_Modified_Date_Year</th>\n",
       "      <th>Planned_Delivery_Start_Date_Day</th>\n",
       "      <th>Planned_Delivery_Start_Date_Month</th>\n",
       "      <th>Planned_Delivery_Start_Date_Year</th>\n",
       "      <th>Planned_Delivery_End_Date_Day</th>\n",
       "      <th>Planned_Delivery_End_Date_Month</th>\n",
       "      <th>Planned_Delivery_End_Date_Year</th>\n",
       "      <th>Actual_Delivery_Date_Day</th>\n",
       "      <th>Actual_Delivery_Date_Month</th>\n",
       "      <th>Actual_Delivery_Date_Year</th>\n",
       "    </tr>\n",
       "  </thead>\n",
       "  <tbody>\n",
       "    <tr>\n",
       "      <th>0</th>\n",
       "      <td>16</td>\n",
       "      <td>600</td>\n",
       "      <td>20150000</td>\n",
       "      <td>7</td>\n",
       "      <td>1200</td>\n",
       "      <td>20150000</td>\n",
       "      <td>NaN</td>\n",
       "      <td>NaN</td>\n",
       "      <td>NaN</td>\n",
       "      <td>30.0</td>\n",
       "      <td>...</td>\n",
       "      <td>20160000</td>\n",
       "      <td>1</td>\n",
       "      <td>500</td>\n",
       "      <td>20160000</td>\n",
       "      <td>30.0</td>\n",
       "      <td>600.0</td>\n",
       "      <td>20160000.0</td>\n",
       "      <td>NaN</td>\n",
       "      <td>NaN</td>\n",
       "      <td>NaN</td>\n",
       "    </tr>\n",
       "    <tr>\n",
       "      <th>1</th>\n",
       "      <td>16</td>\n",
       "      <td>600</td>\n",
       "      <td>20150000</td>\n",
       "      <td>7</td>\n",
       "      <td>1200</td>\n",
       "      <td>20150000</td>\n",
       "      <td>NaN</td>\n",
       "      <td>NaN</td>\n",
       "      <td>NaN</td>\n",
       "      <td>20.0</td>\n",
       "      <td>...</td>\n",
       "      <td>20160000</td>\n",
       "      <td>18</td>\n",
       "      <td>100</td>\n",
       "      <td>20160000</td>\n",
       "      <td>20.0</td>\n",
       "      <td>100.0</td>\n",
       "      <td>20160000.0</td>\n",
       "      <td>NaN</td>\n",
       "      <td>NaN</td>\n",
       "      <td>NaN</td>\n",
       "    </tr>\n",
       "    <tr>\n",
       "      <th>2</th>\n",
       "      <td>21</td>\n",
       "      <td>400</td>\n",
       "      <td>20150000</td>\n",
       "      <td>8</td>\n",
       "      <td>1200</td>\n",
       "      <td>20150000</td>\n",
       "      <td>NaN</td>\n",
       "      <td>NaN</td>\n",
       "      <td>NaN</td>\n",
       "      <td>30.0</td>\n",
       "      <td>...</td>\n",
       "      <td>20160000</td>\n",
       "      <td>25</td>\n",
       "      <td>100</td>\n",
       "      <td>20160000</td>\n",
       "      <td>25.0</td>\n",
       "      <td>100.0</td>\n",
       "      <td>20160000.0</td>\n",
       "      <td>NaN</td>\n",
       "      <td>NaN</td>\n",
       "      <td>NaN</td>\n",
       "    </tr>\n",
       "    <tr>\n",
       "      <th>3</th>\n",
       "      <td>27</td>\n",
       "      <td>700</td>\n",
       "      <td>20130000</td>\n",
       "      <td>8</td>\n",
       "      <td>1200</td>\n",
       "      <td>20150000</td>\n",
       "      <td>NaN</td>\n",
       "      <td>NaN</td>\n",
       "      <td>NaN</td>\n",
       "      <td>NaN</td>\n",
       "      <td>...</td>\n",
       "      <td>20180000</td>\n",
       "      <td>1</td>\n",
       "      <td>200</td>\n",
       "      <td>20180000</td>\n",
       "      <td>31.0</td>\n",
       "      <td>300.0</td>\n",
       "      <td>20180000.0</td>\n",
       "      <td>NaN</td>\n",
       "      <td>NaN</td>\n",
       "      <td>NaN</td>\n",
       "    </tr>\n",
       "    <tr>\n",
       "      <th>4</th>\n",
       "      <td>27</td>\n",
       "      <td>700</td>\n",
       "      <td>20130000</td>\n",
       "      <td>8</td>\n",
       "      <td>1200</td>\n",
       "      <td>20150000</td>\n",
       "      <td>NaN</td>\n",
       "      <td>NaN</td>\n",
       "      <td>NaN</td>\n",
       "      <td>2.0</td>\n",
       "      <td>...</td>\n",
       "      <td>20180000</td>\n",
       "      <td>1</td>\n",
       "      <td>200</td>\n",
       "      <td>20180000</td>\n",
       "      <td>28.0</td>\n",
       "      <td>200.0</td>\n",
       "      <td>20180000.0</td>\n",
       "      <td>NaN</td>\n",
       "      <td>NaN</td>\n",
       "      <td>NaN</td>\n",
       "    </tr>\n",
       "    <tr>\n",
       "      <th>...</th>\n",
       "      <td>...</td>\n",
       "      <td>...</td>\n",
       "      <td>...</td>\n",
       "      <td>...</td>\n",
       "      <td>...</td>\n",
       "      <td>...</td>\n",
       "      <td>...</td>\n",
       "      <td>...</td>\n",
       "      <td>...</td>\n",
       "      <td>...</td>\n",
       "      <td>...</td>\n",
       "      <td>...</td>\n",
       "      <td>...</td>\n",
       "      <td>...</td>\n",
       "      <td>...</td>\n",
       "      <td>...</td>\n",
       "      <td>...</td>\n",
       "      <td>...</td>\n",
       "      <td>...</td>\n",
       "      <td>...</td>\n",
       "      <td>...</td>\n",
       "    </tr>\n",
       "    <tr>\n",
       "      <th>16942</th>\n",
       "      <td>15</td>\n",
       "      <td>100</td>\n",
       "      <td>20160000</td>\n",
       "      <td>4</td>\n",
       "      <td>1200</td>\n",
       "      <td>20150000</td>\n",
       "      <td>NaN</td>\n",
       "      <td>NaN</td>\n",
       "      <td>NaN</td>\n",
       "      <td>NaN</td>\n",
       "      <td>...</td>\n",
       "      <td>20160000</td>\n",
       "      <td>21</td>\n",
       "      <td>300</td>\n",
       "      <td>20160000</td>\n",
       "      <td>25.0</td>\n",
       "      <td>300.0</td>\n",
       "      <td>20160000.0</td>\n",
       "      <td>NaN</td>\n",
       "      <td>NaN</td>\n",
       "      <td>NaN</td>\n",
       "    </tr>\n",
       "    <tr>\n",
       "      <th>16943</th>\n",
       "      <td>15</td>\n",
       "      <td>100</td>\n",
       "      <td>20160000</td>\n",
       "      <td>4</td>\n",
       "      <td>1200</td>\n",
       "      <td>20150000</td>\n",
       "      <td>NaN</td>\n",
       "      <td>NaN</td>\n",
       "      <td>NaN</td>\n",
       "      <td>NaN</td>\n",
       "      <td>...</td>\n",
       "      <td>20160000</td>\n",
       "      <td>4</td>\n",
       "      <td>400</td>\n",
       "      <td>20160000</td>\n",
       "      <td>8.0</td>\n",
       "      <td>400.0</td>\n",
       "      <td>20160000.0</td>\n",
       "      <td>NaN</td>\n",
       "      <td>NaN</td>\n",
       "      <td>NaN</td>\n",
       "    </tr>\n",
       "    <tr>\n",
       "      <th>16944</th>\n",
       "      <td>15</td>\n",
       "      <td>100</td>\n",
       "      <td>20160000</td>\n",
       "      <td>4</td>\n",
       "      <td>1200</td>\n",
       "      <td>20150000</td>\n",
       "      <td>NaN</td>\n",
       "      <td>NaN</td>\n",
       "      <td>NaN</td>\n",
       "      <td>NaN</td>\n",
       "      <td>...</td>\n",
       "      <td>20160000</td>\n",
       "      <td>28</td>\n",
       "      <td>300</td>\n",
       "      <td>20160000</td>\n",
       "      <td>31.0</td>\n",
       "      <td>300.0</td>\n",
       "      <td>20160000.0</td>\n",
       "      <td>NaN</td>\n",
       "      <td>NaN</td>\n",
       "      <td>NaN</td>\n",
       "    </tr>\n",
       "    <tr>\n",
       "      <th>16945</th>\n",
       "      <td>20</td>\n",
       "      <td>1000</td>\n",
       "      <td>20150000</td>\n",
       "      <td>5</td>\n",
       "      <td>1200</td>\n",
       "      <td>20150000</td>\n",
       "      <td>NaN</td>\n",
       "      <td>NaN</td>\n",
       "      <td>NaN</td>\n",
       "      <td>29.0</td>\n",
       "      <td>...</td>\n",
       "      <td>20160000</td>\n",
       "      <td>25</td>\n",
       "      <td>400</td>\n",
       "      <td>20160000</td>\n",
       "      <td>29.0</td>\n",
       "      <td>400.0</td>\n",
       "      <td>20160000.0</td>\n",
       "      <td>NaN</td>\n",
       "      <td>NaN</td>\n",
       "      <td>NaN</td>\n",
       "    </tr>\n",
       "    <tr>\n",
       "      <th>16946</th>\n",
       "      <td>3</td>\n",
       "      <td>900</td>\n",
       "      <td>20150000</td>\n",
       "      <td>5</td>\n",
       "      <td>1200</td>\n",
       "      <td>20150000</td>\n",
       "      <td>NaN</td>\n",
       "      <td>NaN</td>\n",
       "      <td>NaN</td>\n",
       "      <td>6.0</td>\n",
       "      <td>...</td>\n",
       "      <td>20160000</td>\n",
       "      <td>1</td>\n",
       "      <td>700</td>\n",
       "      <td>20160000</td>\n",
       "      <td>31.0</td>\n",
       "      <td>800.0</td>\n",
       "      <td>20160000.0</td>\n",
       "      <td>NaN</td>\n",
       "      <td>NaN</td>\n",
       "      <td>NaN</td>\n",
       "    </tr>\n",
       "  </tbody>\n",
       "</table>\n",
       "<p>16947 rows × 24 columns</p>\n",
       "</div>"
      ],
      "text/plain": [
       "       Account_Created_Date_Day  Account_Created_Date_Month  \\\n",
       "0                            16                         600   \n",
       "1                            16                         600   \n",
       "2                            21                         400   \n",
       "3                            27                         700   \n",
       "4                            27                         700   \n",
       "...                         ...                         ...   \n",
       "16942                        15                         100   \n",
       "16943                        15                         100   \n",
       "16944                        15                         100   \n",
       "16945                        20                        1000   \n",
       "16946                         3                         900   \n",
       "\n",
       "       Account_Created_Date_Year  Opportunity_Created_Date_Day  \\\n",
       "0                       20150000                             7   \n",
       "1                       20150000                             7   \n",
       "2                       20150000                             8   \n",
       "3                       20130000                             8   \n",
       "4                       20130000                             8   \n",
       "...                          ...                           ...   \n",
       "16942                   20160000                             4   \n",
       "16943                   20160000                             4   \n",
       "16944                   20160000                             4   \n",
       "16945                   20150000                             5   \n",
       "16946                   20150000                             5   \n",
       "\n",
       "       Opportunity_Created_Date_Month  Opportunity_Created_Date_Year  \\\n",
       "0                                1200                       20150000   \n",
       "1                                1200                       20150000   \n",
       "2                                1200                       20150000   \n",
       "3                                1200                       20150000   \n",
       "4                                1200                       20150000   \n",
       "...                               ...                            ...   \n",
       "16942                            1200                       20150000   \n",
       "16943                            1200                       20150000   \n",
       "16944                            1200                       20150000   \n",
       "16945                            1200                       20150000   \n",
       "16946                            1200                       20150000   \n",
       "\n",
       "       Last_Activity_Day  Last_Activity_Month  Last_Activity_Year  \\\n",
       "0                    NaN                  NaN                 NaN   \n",
       "1                    NaN                  NaN                 NaN   \n",
       "2                    NaN                  NaN                 NaN   \n",
       "3                    NaN                  NaN                 NaN   \n",
       "4                    NaN                  NaN                 NaN   \n",
       "...                  ...                  ...                 ...   \n",
       "16942                NaN                  NaN                 NaN   \n",
       "16943                NaN                  NaN                 NaN   \n",
       "16944                NaN                  NaN                 NaN   \n",
       "16945                NaN                  NaN                 NaN   \n",
       "16946                NaN                  NaN                 NaN   \n",
       "\n",
       "       Quote_Expiry_Date_Day  ...  Last_Modified_Date_Year  \\\n",
       "0                       30.0  ...                 20160000   \n",
       "1                       20.0  ...                 20160000   \n",
       "2                       30.0  ...                 20160000   \n",
       "3                        NaN  ...                 20180000   \n",
       "4                        2.0  ...                 20180000   \n",
       "...                      ...  ...                      ...   \n",
       "16942                    NaN  ...                 20160000   \n",
       "16943                    NaN  ...                 20160000   \n",
       "16944                    NaN  ...                 20160000   \n",
       "16945                   29.0  ...                 20160000   \n",
       "16946                    6.0  ...                 20160000   \n",
       "\n",
       "       Planned_Delivery_Start_Date_Day  Planned_Delivery_Start_Date_Month  \\\n",
       "0                                    1                                500   \n",
       "1                                   18                                100   \n",
       "2                                   25                                100   \n",
       "3                                    1                                200   \n",
       "4                                    1                                200   \n",
       "...                                ...                                ...   \n",
       "16942                               21                                300   \n",
       "16943                                4                                400   \n",
       "16944                               28                                300   \n",
       "16945                               25                                400   \n",
       "16946                                1                                700   \n",
       "\n",
       "       Planned_Delivery_Start_Date_Year  Planned_Delivery_End_Date_Day  \\\n",
       "0                              20160000                           30.0   \n",
       "1                              20160000                           20.0   \n",
       "2                              20160000                           25.0   \n",
       "3                              20180000                           31.0   \n",
       "4                              20180000                           28.0   \n",
       "...                                 ...                            ...   \n",
       "16942                          20160000                           25.0   \n",
       "16943                          20160000                            8.0   \n",
       "16944                          20160000                           31.0   \n",
       "16945                          20160000                           29.0   \n",
       "16946                          20160000                           31.0   \n",
       "\n",
       "       Planned_Delivery_End_Date_Month  Planned_Delivery_End_Date_Year  \\\n",
       "0                                600.0                      20160000.0   \n",
       "1                                100.0                      20160000.0   \n",
       "2                                100.0                      20160000.0   \n",
       "3                                300.0                      20180000.0   \n",
       "4                                200.0                      20180000.0   \n",
       "...                                ...                             ...   \n",
       "16942                            300.0                      20160000.0   \n",
       "16943                            400.0                      20160000.0   \n",
       "16944                            300.0                      20160000.0   \n",
       "16945                            400.0                      20160000.0   \n",
       "16946                            800.0                      20160000.0   \n",
       "\n",
       "       Actual_Delivery_Date_Day  Actual_Delivery_Date_Month  \\\n",
       "0                           NaN                         NaN   \n",
       "1                           NaN                         NaN   \n",
       "2                           NaN                         NaN   \n",
       "3                           NaN                         NaN   \n",
       "4                           NaN                         NaN   \n",
       "...                         ...                         ...   \n",
       "16942                       NaN                         NaN   \n",
       "16943                       NaN                         NaN   \n",
       "16944                       NaN                         NaN   \n",
       "16945                       NaN                         NaN   \n",
       "16946                       NaN                         NaN   \n",
       "\n",
       "       Actual_Delivery_Date_Year  \n",
       "0                            NaN  \n",
       "1                            NaN  \n",
       "2                            NaN  \n",
       "3                            NaN  \n",
       "4                            NaN  \n",
       "...                          ...  \n",
       "16942                        NaN  \n",
       "16943                        NaN  \n",
       "16944                        NaN  \n",
       "16945                        NaN  \n",
       "16946                        NaN  \n",
       "\n",
       "[16947 rows x 24 columns]"
      ]
     },
     "execution_count": 88,
     "metadata": {},
     "output_type": "execute_result"
    }
   ],
   "source": [
    "df_paso"
   ]
  },
  {
   "cell_type": "code",
   "execution_count": 89,
   "metadata": {},
   "outputs": [],
   "source": [
    "df_paso['Account_Created_Date']= df_paso['Account_Created_Date_Day'] + df_paso['Account_Created_Date_Month'] + df_paso['Account_Created_Date_Year']\n",
    "df_paso['Opportunity_Created_Date']= df_paso['Opportunity_Created_Date_Day'] + df_paso['Opportunity_Created_Date_Month'] + df_paso['Opportunity_Created_Date_Year']\n",
    "df_paso['Last_Activity']= df_paso['Last_Activity_Day'] + df_paso['Last_Activity_Month'] + df_paso['Last_Activity_Year']\n",
    "df_paso['Quote_Expiry_Date']= df_paso['Quote_Expiry_Date_Day'] + df_paso['Quote_Expiry_Date_Month'] + df_paso['Quote_Expiry_Date_Year']\n",
    "df_paso['Last_Modified_Date']= df_paso['Last_Modified_Date_Day'] + df_paso['Last_Modified_Date_Month'] + df_paso['Last_Modified_Date_Year']\n",
    "df_paso['Planned_Delivery_Start_Date']= df_paso['Planned_Delivery_Start_Date_Day'] + df_paso['Planned_Delivery_Start_Date_Month'] + df_paso['Planned_Delivery_Start_Date_Year']\n",
    "df_paso['Planned_Delivery_End_Date']= df_paso['Planned_Delivery_End_Date_Day'] + df_paso['Planned_Delivery_End_Date_Month'] + df_paso['Planned_Delivery_End_Date_Year']\n",
    "df_paso['Actual_Delivery_Date']= df_paso['Actual_Delivery_Date_Day'] + df_paso['Actual_Delivery_Date_Month'] + df_paso['Actual_Delivery_Date_Year']"
   ]
  },
  {
   "cell_type": "code",
   "execution_count": 90,
   "metadata": {
    "scrolled": true
   },
   "outputs": [
    {
     "data": {
      "text/html": [
       "<div>\n",
       "<style scoped>\n",
       "    .dataframe tbody tr th:only-of-type {\n",
       "        vertical-align: middle;\n",
       "    }\n",
       "\n",
       "    .dataframe tbody tr th {\n",
       "        vertical-align: top;\n",
       "    }\n",
       "\n",
       "    .dataframe thead th {\n",
       "        text-align: right;\n",
       "    }\n",
       "</style>\n",
       "<table border=\"1\" class=\"dataframe\">\n",
       "  <thead>\n",
       "    <tr style=\"text-align: right;\">\n",
       "      <th></th>\n",
       "      <th>Account_Created_Date_Day</th>\n",
       "      <th>Account_Created_Date_Month</th>\n",
       "      <th>Account_Created_Date_Year</th>\n",
       "      <th>Opportunity_Created_Date_Day</th>\n",
       "      <th>Opportunity_Created_Date_Month</th>\n",
       "      <th>Opportunity_Created_Date_Year</th>\n",
       "      <th>Last_Activity_Day</th>\n",
       "      <th>Last_Activity_Month</th>\n",
       "      <th>Last_Activity_Year</th>\n",
       "      <th>Quote_Expiry_Date_Day</th>\n",
       "      <th>...</th>\n",
       "      <th>Actual_Delivery_Date_Month</th>\n",
       "      <th>Actual_Delivery_Date_Year</th>\n",
       "      <th>Account_Created_Date</th>\n",
       "      <th>Opportunity_Created_Date</th>\n",
       "      <th>Last_Activity</th>\n",
       "      <th>Quote_Expiry_Date</th>\n",
       "      <th>Last_Modified_Date</th>\n",
       "      <th>Planned_Delivery_Start_Date</th>\n",
       "      <th>Planned_Delivery_End_Date</th>\n",
       "      <th>Actual_Delivery_Date</th>\n",
       "    </tr>\n",
       "  </thead>\n",
       "  <tbody>\n",
       "    <tr>\n",
       "      <th>0</th>\n",
       "      <td>16</td>\n",
       "      <td>600</td>\n",
       "      <td>20150000</td>\n",
       "      <td>7</td>\n",
       "      <td>1200</td>\n",
       "      <td>20150000</td>\n",
       "      <td>NaN</td>\n",
       "      <td>NaN</td>\n",
       "      <td>NaN</td>\n",
       "      <td>30.0</td>\n",
       "      <td>...</td>\n",
       "      <td>NaN</td>\n",
       "      <td>NaN</td>\n",
       "      <td>20150616</td>\n",
       "      <td>20151207</td>\n",
       "      <td>NaN</td>\n",
       "      <td>20160130.0</td>\n",
       "      <td>20160613</td>\n",
       "      <td>20160501</td>\n",
       "      <td>20160630.0</td>\n",
       "      <td>NaN</td>\n",
       "    </tr>\n",
       "    <tr>\n",
       "      <th>1</th>\n",
       "      <td>16</td>\n",
       "      <td>600</td>\n",
       "      <td>20150000</td>\n",
       "      <td>7</td>\n",
       "      <td>1200</td>\n",
       "      <td>20150000</td>\n",
       "      <td>NaN</td>\n",
       "      <td>NaN</td>\n",
       "      <td>NaN</td>\n",
       "      <td>20.0</td>\n",
       "      <td>...</td>\n",
       "      <td>NaN</td>\n",
       "      <td>NaN</td>\n",
       "      <td>20150616</td>\n",
       "      <td>20151207</td>\n",
       "      <td>NaN</td>\n",
       "      <td>20160120.0</td>\n",
       "      <td>20160115</td>\n",
       "      <td>20160118</td>\n",
       "      <td>20160120.0</td>\n",
       "      <td>NaN</td>\n",
       "    </tr>\n",
       "    <tr>\n",
       "      <th>2</th>\n",
       "      <td>21</td>\n",
       "      <td>400</td>\n",
       "      <td>20150000</td>\n",
       "      <td>8</td>\n",
       "      <td>1200</td>\n",
       "      <td>20150000</td>\n",
       "      <td>NaN</td>\n",
       "      <td>NaN</td>\n",
       "      <td>NaN</td>\n",
       "      <td>30.0</td>\n",
       "      <td>...</td>\n",
       "      <td>NaN</td>\n",
       "      <td>NaN</td>\n",
       "      <td>20150421</td>\n",
       "      <td>20151208</td>\n",
       "      <td>NaN</td>\n",
       "      <td>20160930.0</td>\n",
       "      <td>20160929</td>\n",
       "      <td>20160125</td>\n",
       "      <td>20160125.0</td>\n",
       "      <td>NaN</td>\n",
       "    </tr>\n",
       "    <tr>\n",
       "      <th>3</th>\n",
       "      <td>27</td>\n",
       "      <td>700</td>\n",
       "      <td>20130000</td>\n",
       "      <td>8</td>\n",
       "      <td>1200</td>\n",
       "      <td>20150000</td>\n",
       "      <td>NaN</td>\n",
       "      <td>NaN</td>\n",
       "      <td>NaN</td>\n",
       "      <td>NaN</td>\n",
       "      <td>...</td>\n",
       "      <td>NaN</td>\n",
       "      <td>NaN</td>\n",
       "      <td>20130727</td>\n",
       "      <td>20151208</td>\n",
       "      <td>NaN</td>\n",
       "      <td>NaN</td>\n",
       "      <td>20180327</td>\n",
       "      <td>20180201</td>\n",
       "      <td>20180331.0</td>\n",
       "      <td>NaN</td>\n",
       "    </tr>\n",
       "    <tr>\n",
       "      <th>4</th>\n",
       "      <td>27</td>\n",
       "      <td>700</td>\n",
       "      <td>20130000</td>\n",
       "      <td>8</td>\n",
       "      <td>1200</td>\n",
       "      <td>20150000</td>\n",
       "      <td>NaN</td>\n",
       "      <td>NaN</td>\n",
       "      <td>NaN</td>\n",
       "      <td>2.0</td>\n",
       "      <td>...</td>\n",
       "      <td>NaN</td>\n",
       "      <td>NaN</td>\n",
       "      <td>20130727</td>\n",
       "      <td>20151208</td>\n",
       "      <td>NaN</td>\n",
       "      <td>20170602.0</td>\n",
       "      <td>20180327</td>\n",
       "      <td>20180201</td>\n",
       "      <td>20180228.0</td>\n",
       "      <td>NaN</td>\n",
       "    </tr>\n",
       "    <tr>\n",
       "      <th>...</th>\n",
       "      <td>...</td>\n",
       "      <td>...</td>\n",
       "      <td>...</td>\n",
       "      <td>...</td>\n",
       "      <td>...</td>\n",
       "      <td>...</td>\n",
       "      <td>...</td>\n",
       "      <td>...</td>\n",
       "      <td>...</td>\n",
       "      <td>...</td>\n",
       "      <td>...</td>\n",
       "      <td>...</td>\n",
       "      <td>...</td>\n",
       "      <td>...</td>\n",
       "      <td>...</td>\n",
       "      <td>...</td>\n",
       "      <td>...</td>\n",
       "      <td>...</td>\n",
       "      <td>...</td>\n",
       "      <td>...</td>\n",
       "      <td>...</td>\n",
       "    </tr>\n",
       "    <tr>\n",
       "      <th>16942</th>\n",
       "      <td>15</td>\n",
       "      <td>100</td>\n",
       "      <td>20160000</td>\n",
       "      <td>4</td>\n",
       "      <td>1200</td>\n",
       "      <td>20150000</td>\n",
       "      <td>NaN</td>\n",
       "      <td>NaN</td>\n",
       "      <td>NaN</td>\n",
       "      <td>NaN</td>\n",
       "      <td>...</td>\n",
       "      <td>NaN</td>\n",
       "      <td>NaN</td>\n",
       "      <td>20160115</td>\n",
       "      <td>20151204</td>\n",
       "      <td>NaN</td>\n",
       "      <td>NaN</td>\n",
       "      <td>20160119</td>\n",
       "      <td>20160321</td>\n",
       "      <td>20160325.0</td>\n",
       "      <td>NaN</td>\n",
       "    </tr>\n",
       "    <tr>\n",
       "      <th>16943</th>\n",
       "      <td>15</td>\n",
       "      <td>100</td>\n",
       "      <td>20160000</td>\n",
       "      <td>4</td>\n",
       "      <td>1200</td>\n",
       "      <td>20150000</td>\n",
       "      <td>NaN</td>\n",
       "      <td>NaN</td>\n",
       "      <td>NaN</td>\n",
       "      <td>NaN</td>\n",
       "      <td>...</td>\n",
       "      <td>NaN</td>\n",
       "      <td>NaN</td>\n",
       "      <td>20160115</td>\n",
       "      <td>20151204</td>\n",
       "      <td>NaN</td>\n",
       "      <td>NaN</td>\n",
       "      <td>20160119</td>\n",
       "      <td>20160404</td>\n",
       "      <td>20160408.0</td>\n",
       "      <td>NaN</td>\n",
       "    </tr>\n",
       "    <tr>\n",
       "      <th>16944</th>\n",
       "      <td>15</td>\n",
       "      <td>100</td>\n",
       "      <td>20160000</td>\n",
       "      <td>4</td>\n",
       "      <td>1200</td>\n",
       "      <td>20150000</td>\n",
       "      <td>NaN</td>\n",
       "      <td>NaN</td>\n",
       "      <td>NaN</td>\n",
       "      <td>NaN</td>\n",
       "      <td>...</td>\n",
       "      <td>NaN</td>\n",
       "      <td>NaN</td>\n",
       "      <td>20160115</td>\n",
       "      <td>20151204</td>\n",
       "      <td>NaN</td>\n",
       "      <td>NaN</td>\n",
       "      <td>20160119</td>\n",
       "      <td>20160328</td>\n",
       "      <td>20160331.0</td>\n",
       "      <td>NaN</td>\n",
       "    </tr>\n",
       "    <tr>\n",
       "      <th>16945</th>\n",
       "      <td>20</td>\n",
       "      <td>1000</td>\n",
       "      <td>20150000</td>\n",
       "      <td>5</td>\n",
       "      <td>1200</td>\n",
       "      <td>20150000</td>\n",
       "      <td>NaN</td>\n",
       "      <td>NaN</td>\n",
       "      <td>NaN</td>\n",
       "      <td>29.0</td>\n",
       "      <td>...</td>\n",
       "      <td>NaN</td>\n",
       "      <td>NaN</td>\n",
       "      <td>20151020</td>\n",
       "      <td>20151205</td>\n",
       "      <td>NaN</td>\n",
       "      <td>20160229.0</td>\n",
       "      <td>20160122</td>\n",
       "      <td>20160425</td>\n",
       "      <td>20160429.0</td>\n",
       "      <td>NaN</td>\n",
       "    </tr>\n",
       "    <tr>\n",
       "      <th>16946</th>\n",
       "      <td>3</td>\n",
       "      <td>900</td>\n",
       "      <td>20150000</td>\n",
       "      <td>5</td>\n",
       "      <td>1200</td>\n",
       "      <td>20150000</td>\n",
       "      <td>NaN</td>\n",
       "      <td>NaN</td>\n",
       "      <td>NaN</td>\n",
       "      <td>6.0</td>\n",
       "      <td>...</td>\n",
       "      <td>NaN</td>\n",
       "      <td>NaN</td>\n",
       "      <td>20150903</td>\n",
       "      <td>20151205</td>\n",
       "      <td>NaN</td>\n",
       "      <td>20160106.0</td>\n",
       "      <td>20160928</td>\n",
       "      <td>20160701</td>\n",
       "      <td>20160831.0</td>\n",
       "      <td>NaN</td>\n",
       "    </tr>\n",
       "  </tbody>\n",
       "</table>\n",
       "<p>16947 rows × 32 columns</p>\n",
       "</div>"
      ],
      "text/plain": [
       "       Account_Created_Date_Day  Account_Created_Date_Month  \\\n",
       "0                            16                         600   \n",
       "1                            16                         600   \n",
       "2                            21                         400   \n",
       "3                            27                         700   \n",
       "4                            27                         700   \n",
       "...                         ...                         ...   \n",
       "16942                        15                         100   \n",
       "16943                        15                         100   \n",
       "16944                        15                         100   \n",
       "16945                        20                        1000   \n",
       "16946                         3                         900   \n",
       "\n",
       "       Account_Created_Date_Year  Opportunity_Created_Date_Day  \\\n",
       "0                       20150000                             7   \n",
       "1                       20150000                             7   \n",
       "2                       20150000                             8   \n",
       "3                       20130000                             8   \n",
       "4                       20130000                             8   \n",
       "...                          ...                           ...   \n",
       "16942                   20160000                             4   \n",
       "16943                   20160000                             4   \n",
       "16944                   20160000                             4   \n",
       "16945                   20150000                             5   \n",
       "16946                   20150000                             5   \n",
       "\n",
       "       Opportunity_Created_Date_Month  Opportunity_Created_Date_Year  \\\n",
       "0                                1200                       20150000   \n",
       "1                                1200                       20150000   \n",
       "2                                1200                       20150000   \n",
       "3                                1200                       20150000   \n",
       "4                                1200                       20150000   \n",
       "...                               ...                            ...   \n",
       "16942                            1200                       20150000   \n",
       "16943                            1200                       20150000   \n",
       "16944                            1200                       20150000   \n",
       "16945                            1200                       20150000   \n",
       "16946                            1200                       20150000   \n",
       "\n",
       "       Last_Activity_Day  Last_Activity_Month  Last_Activity_Year  \\\n",
       "0                    NaN                  NaN                 NaN   \n",
       "1                    NaN                  NaN                 NaN   \n",
       "2                    NaN                  NaN                 NaN   \n",
       "3                    NaN                  NaN                 NaN   \n",
       "4                    NaN                  NaN                 NaN   \n",
       "...                  ...                  ...                 ...   \n",
       "16942                NaN                  NaN                 NaN   \n",
       "16943                NaN                  NaN                 NaN   \n",
       "16944                NaN                  NaN                 NaN   \n",
       "16945                NaN                  NaN                 NaN   \n",
       "16946                NaN                  NaN                 NaN   \n",
       "\n",
       "       Quote_Expiry_Date_Day  ...  Actual_Delivery_Date_Month  \\\n",
       "0                       30.0  ...                         NaN   \n",
       "1                       20.0  ...                         NaN   \n",
       "2                       30.0  ...                         NaN   \n",
       "3                        NaN  ...                         NaN   \n",
       "4                        2.0  ...                         NaN   \n",
       "...                      ...  ...                         ...   \n",
       "16942                    NaN  ...                         NaN   \n",
       "16943                    NaN  ...                         NaN   \n",
       "16944                    NaN  ...                         NaN   \n",
       "16945                   29.0  ...                         NaN   \n",
       "16946                    6.0  ...                         NaN   \n",
       "\n",
       "       Actual_Delivery_Date_Year  Account_Created_Date  \\\n",
       "0                            NaN              20150616   \n",
       "1                            NaN              20150616   \n",
       "2                            NaN              20150421   \n",
       "3                            NaN              20130727   \n",
       "4                            NaN              20130727   \n",
       "...                          ...                   ...   \n",
       "16942                        NaN              20160115   \n",
       "16943                        NaN              20160115   \n",
       "16944                        NaN              20160115   \n",
       "16945                        NaN              20151020   \n",
       "16946                        NaN              20150903   \n",
       "\n",
       "       Opportunity_Created_Date  Last_Activity  Quote_Expiry_Date  \\\n",
       "0                      20151207            NaN         20160130.0   \n",
       "1                      20151207            NaN         20160120.0   \n",
       "2                      20151208            NaN         20160930.0   \n",
       "3                      20151208            NaN                NaN   \n",
       "4                      20151208            NaN         20170602.0   \n",
       "...                         ...            ...                ...   \n",
       "16942                  20151204            NaN                NaN   \n",
       "16943                  20151204            NaN                NaN   \n",
       "16944                  20151204            NaN                NaN   \n",
       "16945                  20151205            NaN         20160229.0   \n",
       "16946                  20151205            NaN         20160106.0   \n",
       "\n",
       "       Last_Modified_Date  Planned_Delivery_Start_Date  \\\n",
       "0                20160613                     20160501   \n",
       "1                20160115                     20160118   \n",
       "2                20160929                     20160125   \n",
       "3                20180327                     20180201   \n",
       "4                20180327                     20180201   \n",
       "...                   ...                          ...   \n",
       "16942            20160119                     20160321   \n",
       "16943            20160119                     20160404   \n",
       "16944            20160119                     20160328   \n",
       "16945            20160122                     20160425   \n",
       "16946            20160928                     20160701   \n",
       "\n",
       "       Planned_Delivery_End_Date  Actual_Delivery_Date  \n",
       "0                     20160630.0                   NaN  \n",
       "1                     20160120.0                   NaN  \n",
       "2                     20160125.0                   NaN  \n",
       "3                     20180331.0                   NaN  \n",
       "4                     20180228.0                   NaN  \n",
       "...                          ...                   ...  \n",
       "16942                 20160325.0                   NaN  \n",
       "16943                 20160408.0                   NaN  \n",
       "16944                 20160331.0                   NaN  \n",
       "16945                 20160429.0                   NaN  \n",
       "16946                 20160831.0                   NaN  \n",
       "\n",
       "[16947 rows x 32 columns]"
      ]
     },
     "execution_count": 90,
     "metadata": {},
     "output_type": "execute_result"
    }
   ],
   "source": [
    "df_paso"
   ]
  },
  {
   "cell_type": "markdown",
   "metadata": {},
   "source": [
    "### verificacion prospectiva de fechas sin datos"
   ]
  },
  {
   "cell_type": "code",
   "execution_count": 91,
   "metadata": {
    "scrolled": false
   },
   "outputs": [
    {
     "data": {
      "text/plain": [
       "0       NaT\n",
       "1       NaT\n",
       "2       NaT\n",
       "3       NaT\n",
       "4       NaT\n",
       "         ..\n",
       "16942   NaT\n",
       "16943   NaT\n",
       "16944   NaT\n",
       "16945   NaT\n",
       "16946   NaT\n",
       "Name: Last_Activity, Length: 16947, dtype: datetime64[ns]"
      ]
     },
     "execution_count": 91,
     "metadata": {},
     "output_type": "execute_result"
    }
   ],
   "source": [
    "df['Last_Activity']"
   ]
  },
  {
   "cell_type": "code",
   "execution_count": 92,
   "metadata": {},
   "outputs": [
    {
     "data": {
      "text/plain": [
       "0       NaT\n",
       "1       NaT\n",
       "2       NaT\n",
       "3       NaT\n",
       "4       NaT\n",
       "         ..\n",
       "16942   NaT\n",
       "16943   NaT\n",
       "16944   NaT\n",
       "16945   NaT\n",
       "16946   NaT\n",
       "Name: Actual_Delivery_Date, Length: 16947, dtype: datetime64[ns]"
      ]
     },
     "execution_count": 92,
     "metadata": {},
     "output_type": "execute_result"
    }
   ],
   "source": [
    "df['Actual_Delivery_Date']"
   ]
  },
  {
   "cell_type": "code",
   "execution_count": 93,
   "metadata": {},
   "outputs": [],
   "source": [
    "df=df.drop(columns='Last_Activity')\n",
    "df=df.drop(columns='Actual_Delivery_Date')"
   ]
  },
  {
   "cell_type": "code",
   "execution_count": 94,
   "metadata": {},
   "outputs": [],
   "source": [
    "df['Account_Created_Date']=df_paso['Account_Created_Date']\n",
    "df['Opportunity_Created_Date']=df_paso['Opportunity_Created_Date']\n",
    "df['Quote_Expiry_Date']=df_paso['Quote_Expiry_Date']\n",
    "df['Last_Modified_Date']=df_paso['Last_Modified_Date']\n",
    "df['Planned_Delivery_Start_Date']=df_paso['Planned_Delivery_Start_Date']\n",
    "df['Planned_Delivery_End_Date']=df_paso['Planned_Delivery_End_Date']"
   ]
  },
  {
   "cell_type": "markdown",
   "metadata": {},
   "source": [
    "### Borrado de columnas del tipo category"
   ]
  },
  {
   "cell_type": "code",
   "execution_count": 95,
   "metadata": {},
   "outputs": [],
   "source": [
    "del df['Region']\n",
    "del df['Territory']\n",
    "del df['Bureaucratic_Code']\n",
    "del df['Billing_Country']\n",
    "del df['Account_Name']\n",
    "del df['Opportunity_Name']\n",
    "del df['Account_Owner']\n",
    "del df['Opportunity_Owner']\n",
    "del df['Account_Type']\n",
    "del df['Opportunity_Type']\n",
    "del df['Quote_Type']\n",
    "del df['Delivery_Terms']\n",
    "del df['Brand']\n",
    "del df['Product_Type']\n",
    "del df['Prod_Category_A']\n",
    "del df['Product_Category_B']\n",
    "del df['Size']\n",
    "del df['Currency']\n",
    "del df['Last_Modified_By']\n",
    "del df['Product_Family']\n",
    "del df['Product_Name']\n",
    "del df['ASP_Currency']\n",
    "del df['ASP_(converted)_Currency']\n",
    "del df['Delivery_Quarter']\n",
    "del df['Total_Taxable_Amount_Currency']"
   ]
  },
  {
   "cell_type": "code",
   "execution_count": 96,
   "metadata": {
    "scrolled": true
   },
   "outputs": [],
   "source": [
    "del df['Source ']"
   ]
  },
  {
   "cell_type": "code",
   "execution_count": 97,
   "metadata": {},
   "outputs": [],
   "source": [
    "del df['Month']"
   ]
  },
  {
   "cell_type": "code",
   "execution_count": 98,
   "metadata": {},
   "outputs": [],
   "source": [
    "del df['Total_Amount_Currency']"
   ]
  },
  {
   "cell_type": "code",
   "execution_count": 99,
   "metadata": {},
   "outputs": [],
   "source": [
    "df.replace(to_replace='None', value=np.nan, inplace=True)\n",
    "df.replace(to_replace='Other', value=np.nan, inplace=True)\n",
    "df.replace(to_replace=[None], value=np.nan, inplace=True)\n",
    "df=df.fillna(0)"
   ]
  },
  {
   "cell_type": "code",
   "execution_count": 100,
   "metadata": {},
   "outputs": [],
   "source": [
    "df_train=df"
   ]
  },
  {
   "cell_type": "markdown",
   "metadata": {},
   "source": [
    "# Creación de un set de validación"
   ]
  },
  {
   "cell_type": "code",
   "execution_count": 101,
   "metadata": {},
   "outputs": [],
   "source": [
    "X = df_train.drop(['Stage','Sales_Contract_No'], axis=1)"
   ]
  },
  {
   "cell_type": "code",
   "execution_count": 102,
   "metadata": {},
   "outputs": [],
   "source": [
    "y = df_train['Stage']"
   ]
  },
  {
   "cell_type": "code",
   "execution_count": 103,
   "metadata": {},
   "outputs": [],
   "source": [
    "from sklearn.model_selection import train_test_split\n",
    "\n",
    "x_train, x_valid, y_train, y_valid = \\\n",
    "    train_test_split(X, y, test_size=0.2, random_state=123)"
   ]
  },
  {
   "cell_type": "code",
   "execution_count": 104,
   "metadata": {
    "scrolled": true
   },
   "outputs": [
    {
     "data": {
      "text/html": [
       "<div>\n",
       "<style scoped>\n",
       "    .dataframe tbody tr th:only-of-type {\n",
       "        vertical-align: middle;\n",
       "    }\n",
       "\n",
       "    .dataframe tbody tr th {\n",
       "        vertical-align: top;\n",
       "    }\n",
       "\n",
       "    .dataframe thead th {\n",
       "        text-align: right;\n",
       "    }\n",
       "</style>\n",
       "<table border=\"1\" class=\"dataframe\">\n",
       "  <thead>\n",
       "    <tr style=\"text-align: right;\">\n",
       "      <th></th>\n",
       "      <th>ID</th>\n",
       "      <th>Pricing, Delivery_Terms_Quote_Appr</th>\n",
       "      <th>Pricing, Delivery_Terms_Approved</th>\n",
       "      <th>Bureaucratic_Code_0_Approval</th>\n",
       "      <th>Bureaucratic_Code_0_Approved</th>\n",
       "      <th>Submitted_for_Approval</th>\n",
       "      <th>Account_Created_Date</th>\n",
       "      <th>Opportunity_ID</th>\n",
       "      <th>Opportunity_Created_Date</th>\n",
       "      <th>Price</th>\n",
       "      <th>Quote_Expiry_Date</th>\n",
       "      <th>Last_Modified_Date</th>\n",
       "      <th>ASP</th>\n",
       "      <th>ASP_(converted)</th>\n",
       "      <th>Planned_Delivery_Start_Date</th>\n",
       "      <th>Planned_Delivery_End_Date</th>\n",
       "      <th>Delivery_Year</th>\n",
       "      <th>TRF</th>\n",
       "      <th>Total_Amount</th>\n",
       "      <th>Total_Taxable_Amount</th>\n",
       "    </tr>\n",
       "  </thead>\n",
       "  <tbody>\n",
       "    <tr>\n",
       "      <th>7440</th>\n",
       "      <td>26744</td>\n",
       "      <td>1</td>\n",
       "      <td>1</td>\n",
       "      <td>0</td>\n",
       "      <td>0</td>\n",
       "      <td>0</td>\n",
       "      <td>20150420</td>\n",
       "      <td>4574</td>\n",
       "      <td>20170907</td>\n",
       "      <td>0</td>\n",
       "      <td>20170907.0</td>\n",
       "      <td>20180208</td>\n",
       "      <td>0.000</td>\n",
       "      <td>0.00000</td>\n",
       "      <td>20170913</td>\n",
       "      <td>20170913.0</td>\n",
       "      <td>2017</td>\n",
       "      <td>0</td>\n",
       "      <td>4400.00</td>\n",
       "      <td>520550.0</td>\n",
       "    </tr>\n",
       "    <tr>\n",
       "      <th>12124</th>\n",
       "      <td>11206</td>\n",
       "      <td>1</td>\n",
       "      <td>0</td>\n",
       "      <td>0</td>\n",
       "      <td>0</td>\n",
       "      <td>0</td>\n",
       "      <td>20171207</td>\n",
       "      <td>7383</td>\n",
       "      <td>20180112</td>\n",
       "      <td>0</td>\n",
       "      <td>20180124.0</td>\n",
       "      <td>20180306</td>\n",
       "      <td>0.000</td>\n",
       "      <td>0.00000</td>\n",
       "      <td>20180515</td>\n",
       "      <td>20180515.0</td>\n",
       "      <td>2018</td>\n",
       "      <td>0</td>\n",
       "      <td>475.00</td>\n",
       "      <td>189475.0</td>\n",
       "    </tr>\n",
       "    <tr>\n",
       "      <th>8615</th>\n",
       "      <td>26840</td>\n",
       "      <td>1</td>\n",
       "      <td>1</td>\n",
       "      <td>0</td>\n",
       "      <td>0</td>\n",
       "      <td>0</td>\n",
       "      <td>20150420</td>\n",
       "      <td>5378</td>\n",
       "      <td>20170629</td>\n",
       "      <td>0</td>\n",
       "      <td>20170630.0</td>\n",
       "      <td>20180208</td>\n",
       "      <td>0.000</td>\n",
       "      <td>0.00000</td>\n",
       "      <td>20170724</td>\n",
       "      <td>20170724.0</td>\n",
       "      <td>2017</td>\n",
       "      <td>0</td>\n",
       "      <td>4400.00</td>\n",
       "      <td>569800.0</td>\n",
       "    </tr>\n",
       "    <tr>\n",
       "      <th>1674</th>\n",
       "      <td>18861</td>\n",
       "      <td>1</td>\n",
       "      <td>1</td>\n",
       "      <td>1</td>\n",
       "      <td>1</td>\n",
       "      <td>0</td>\n",
       "      <td>20140128</td>\n",
       "      <td>1005</td>\n",
       "      <td>20170304</td>\n",
       "      <td>0</td>\n",
       "      <td>20170331.0</td>\n",
       "      <td>20180208</td>\n",
       "      <td>0.350</td>\n",
       "      <td>0.35000</td>\n",
       "      <td>20170315</td>\n",
       "      <td>20170331.0</td>\n",
       "      <td>2017</td>\n",
       "      <td>0</td>\n",
       "      <td>31850.00</td>\n",
       "      <td>31850.0</td>\n",
       "    </tr>\n",
       "    <tr>\n",
       "      <th>2069</th>\n",
       "      <td>26333</td>\n",
       "      <td>1</td>\n",
       "      <td>0</td>\n",
       "      <td>0</td>\n",
       "      <td>0</td>\n",
       "      <td>0</td>\n",
       "      <td>20150420</td>\n",
       "      <td>1191</td>\n",
       "      <td>20160212</td>\n",
       "      <td>0</td>\n",
       "      <td>0.0</td>\n",
       "      <td>20161204</td>\n",
       "      <td>75.000</td>\n",
       "      <td>0.67428</td>\n",
       "      <td>20160331</td>\n",
       "      <td>20160331.0</td>\n",
       "      <td>2016</td>\n",
       "      <td>0</td>\n",
       "      <td>4914000.00</td>\n",
       "      <td>6557400.0</td>\n",
       "    </tr>\n",
       "    <tr>\n",
       "      <th>...</th>\n",
       "      <td>...</td>\n",
       "      <td>...</td>\n",
       "      <td>...</td>\n",
       "      <td>...</td>\n",
       "      <td>...</td>\n",
       "      <td>...</td>\n",
       "      <td>...</td>\n",
       "      <td>...</td>\n",
       "      <td>...</td>\n",
       "      <td>...</td>\n",
       "      <td>...</td>\n",
       "      <td>...</td>\n",
       "      <td>...</td>\n",
       "      <td>...</td>\n",
       "      <td>...</td>\n",
       "      <td>...</td>\n",
       "      <td>...</td>\n",
       "      <td>...</td>\n",
       "      <td>...</td>\n",
       "      <td>...</td>\n",
       "    </tr>\n",
       "    <tr>\n",
       "      <th>96</th>\n",
       "      <td>24309</td>\n",
       "      <td>1</td>\n",
       "      <td>0</td>\n",
       "      <td>0</td>\n",
       "      <td>0</td>\n",
       "      <td>0</td>\n",
       "      <td>20150420</td>\n",
       "      <td>38</td>\n",
       "      <td>20151217</td>\n",
       "      <td>0</td>\n",
       "      <td>0.0</td>\n",
       "      <td>20160405</td>\n",
       "      <td>0.000</td>\n",
       "      <td>0.00000</td>\n",
       "      <td>20160229</td>\n",
       "      <td>20160229.0</td>\n",
       "      <td>2016</td>\n",
       "      <td>0</td>\n",
       "      <td>6200.00</td>\n",
       "      <td>1154600.0</td>\n",
       "    </tr>\n",
       "    <tr>\n",
       "      <th>13435</th>\n",
       "      <td>16547</td>\n",
       "      <td>1</td>\n",
       "      <td>1</td>\n",
       "      <td>1</td>\n",
       "      <td>1</td>\n",
       "      <td>0</td>\n",
       "      <td>20130727</td>\n",
       "      <td>8160</td>\n",
       "      <td>20180509</td>\n",
       "      <td>0</td>\n",
       "      <td>20180615.0</td>\n",
       "      <td>20180707</td>\n",
       "      <td>0.330</td>\n",
       "      <td>0.37326</td>\n",
       "      <td>20180625</td>\n",
       "      <td>20180629.0</td>\n",
       "      <td>2018</td>\n",
       "      <td>0</td>\n",
       "      <td>34031.25</td>\n",
       "      <td>71550.0</td>\n",
       "    </tr>\n",
       "    <tr>\n",
       "      <th>7763</th>\n",
       "      <td>24538</td>\n",
       "      <td>1</td>\n",
       "      <td>1</td>\n",
       "      <td>0</td>\n",
       "      <td>0</td>\n",
       "      <td>0</td>\n",
       "      <td>20150420</td>\n",
       "      <td>4801</td>\n",
       "      <td>20170502</td>\n",
       "      <td>0</td>\n",
       "      <td>20170508.0</td>\n",
       "      <td>20180208</td>\n",
       "      <td>0.000</td>\n",
       "      <td>0.00000</td>\n",
       "      <td>20170512</td>\n",
       "      <td>20170512.0</td>\n",
       "      <td>2017</td>\n",
       "      <td>0</td>\n",
       "      <td>6200.00</td>\n",
       "      <td>846440.0</td>\n",
       "    </tr>\n",
       "    <tr>\n",
       "      <th>15377</th>\n",
       "      <td>7452</td>\n",
       "      <td>1</td>\n",
       "      <td>0</td>\n",
       "      <td>1</td>\n",
       "      <td>0</td>\n",
       "      <td>0</td>\n",
       "      <td>20180830</td>\n",
       "      <td>9778</td>\n",
       "      <td>20181013</td>\n",
       "      <td>0</td>\n",
       "      <td>20181031.0</td>\n",
       "      <td>20181018</td>\n",
       "      <td>0.410</td>\n",
       "      <td>0.41000</td>\n",
       "      <td>20181024</td>\n",
       "      <td>20181024.0</td>\n",
       "      <td>2018</td>\n",
       "      <td>0</td>\n",
       "      <td>29725.00</td>\n",
       "      <td>29725.0</td>\n",
       "    </tr>\n",
       "    <tr>\n",
       "      <th>15725</th>\n",
       "      <td>11078</td>\n",
       "      <td>1</td>\n",
       "      <td>0</td>\n",
       "      <td>1</td>\n",
       "      <td>0</td>\n",
       "      <td>0</td>\n",
       "      <td>20170317</td>\n",
       "      <td>10169</td>\n",
       "      <td>20181112</td>\n",
       "      <td>0</td>\n",
       "      <td>20181210.0</td>\n",
       "      <td>20181219</td>\n",
       "      <td>0.235</td>\n",
       "      <td>0.26581</td>\n",
       "      <td>20181119</td>\n",
       "      <td>20181210.0</td>\n",
       "      <td>2018</td>\n",
       "      <td>0</td>\n",
       "      <td>95175.00</td>\n",
       "      <td>207130.2</td>\n",
       "    </tr>\n",
       "  </tbody>\n",
       "</table>\n",
       "<p>13557 rows × 20 columns</p>\n",
       "</div>"
      ],
      "text/plain": [
       "          ID  Pricing, Delivery_Terms_Quote_Appr  \\\n",
       "7440   26744                                   1   \n",
       "12124  11206                                   1   \n",
       "8615   26840                                   1   \n",
       "1674   18861                                   1   \n",
       "2069   26333                                   1   \n",
       "...      ...                                 ...   \n",
       "96     24309                                   1   \n",
       "13435  16547                                   1   \n",
       "7763   24538                                   1   \n",
       "15377   7452                                   1   \n",
       "15725  11078                                   1   \n",
       "\n",
       "       Pricing, Delivery_Terms_Approved  Bureaucratic_Code_0_Approval  \\\n",
       "7440                                  1                             0   \n",
       "12124                                 0                             0   \n",
       "8615                                  1                             0   \n",
       "1674                                  1                             1   \n",
       "2069                                  0                             0   \n",
       "...                                 ...                           ...   \n",
       "96                                    0                             0   \n",
       "13435                                 1                             1   \n",
       "7763                                  1                             0   \n",
       "15377                                 0                             1   \n",
       "15725                                 0                             1   \n",
       "\n",
       "       Bureaucratic_Code_0_Approved  Submitted_for_Approval  \\\n",
       "7440                              0                       0   \n",
       "12124                             0                       0   \n",
       "8615                              0                       0   \n",
       "1674                              1                       0   \n",
       "2069                              0                       0   \n",
       "...                             ...                     ...   \n",
       "96                                0                       0   \n",
       "13435                             1                       0   \n",
       "7763                              0                       0   \n",
       "15377                             0                       0   \n",
       "15725                             0                       0   \n",
       "\n",
       "       Account_Created_Date  Opportunity_ID  Opportunity_Created_Date Price  \\\n",
       "7440               20150420            4574                  20170907     0   \n",
       "12124              20171207            7383                  20180112     0   \n",
       "8615               20150420            5378                  20170629     0   \n",
       "1674               20140128            1005                  20170304     0   \n",
       "2069               20150420            1191                  20160212     0   \n",
       "...                     ...             ...                       ...   ...   \n",
       "96                 20150420              38                  20151217     0   \n",
       "13435              20130727            8160                  20180509     0   \n",
       "7763               20150420            4801                  20170502     0   \n",
       "15377              20180830            9778                  20181013     0   \n",
       "15725              20170317           10169                  20181112     0   \n",
       "\n",
       "       Quote_Expiry_Date  Last_Modified_Date     ASP  ASP_(converted)  \\\n",
       "7440          20170907.0            20180208   0.000          0.00000   \n",
       "12124         20180124.0            20180306   0.000          0.00000   \n",
       "8615          20170630.0            20180208   0.000          0.00000   \n",
       "1674          20170331.0            20180208   0.350          0.35000   \n",
       "2069                 0.0            20161204  75.000          0.67428   \n",
       "...                  ...                 ...     ...              ...   \n",
       "96                   0.0            20160405   0.000          0.00000   \n",
       "13435         20180615.0            20180707   0.330          0.37326   \n",
       "7763          20170508.0            20180208   0.000          0.00000   \n",
       "15377         20181031.0            20181018   0.410          0.41000   \n",
       "15725         20181210.0            20181219   0.235          0.26581   \n",
       "\n",
       "       Planned_Delivery_Start_Date  Planned_Delivery_End_Date  Delivery_Year  \\\n",
       "7440                      20170913                 20170913.0           2017   \n",
       "12124                     20180515                 20180515.0           2018   \n",
       "8615                      20170724                 20170724.0           2017   \n",
       "1674                      20170315                 20170331.0           2017   \n",
       "2069                      20160331                 20160331.0           2016   \n",
       "...                            ...                        ...            ...   \n",
       "96                        20160229                 20160229.0           2016   \n",
       "13435                     20180625                 20180629.0           2018   \n",
       "7763                      20170512                 20170512.0           2017   \n",
       "15377                     20181024                 20181024.0           2018   \n",
       "15725                     20181119                 20181210.0           2018   \n",
       "\n",
       "       TRF  Total_Amount  Total_Taxable_Amount  \n",
       "7440     0       4400.00              520550.0  \n",
       "12124    0        475.00              189475.0  \n",
       "8615     0       4400.00              569800.0  \n",
       "1674     0      31850.00               31850.0  \n",
       "2069     0    4914000.00             6557400.0  \n",
       "...    ...           ...                   ...  \n",
       "96       0       6200.00             1154600.0  \n",
       "13435    0      34031.25               71550.0  \n",
       "7763     0       6200.00              846440.0  \n",
       "15377    0      29725.00               29725.0  \n",
       "15725    0      95175.00              207130.2  \n",
       "\n",
       "[13557 rows x 20 columns]"
      ]
     },
     "execution_count": 104,
     "metadata": {},
     "output_type": "execute_result"
    }
   ],
   "source": [
    "x_train"
   ]
  },
  {
   "cell_type": "markdown",
   "metadata": {},
   "source": [
    "# Etapa de tuning para determinar el mejor valor de n"
   ]
  },
  {
   "cell_type": "code",
   "execution_count": 105,
   "metadata": {},
   "outputs": [],
   "source": [
    "from sklearn.neighbors import KNeighborsClassifier"
   ]
  },
  {
   "cell_type": "markdown",
   "metadata": {},
   "source": [
    "### n=10"
   ]
  },
  {
   "cell_type": "code",
   "execution_count": 106,
   "metadata": {
    "scrolled": false
   },
   "outputs": [],
   "source": [
    "neigh_10 = KNeighborsClassifier(n_neighbors=10)"
   ]
  },
  {
   "cell_type": "code",
   "execution_count": 107,
   "metadata": {},
   "outputs": [
    {
     "data": {
      "text/plain": [
       "KNeighborsClassifier(n_neighbors=10)"
      ]
     },
     "execution_count": 107,
     "metadata": {},
     "output_type": "execute_result"
    }
   ],
   "source": [
    "neigh_10.fit(x_train, y_train)"
   ]
  },
  {
   "cell_type": "code",
   "execution_count": 108,
   "metadata": {},
   "outputs": [],
   "source": [
    "y_pred_probs_10 = neigh_10.predict_proba(x_valid)"
   ]
  },
  {
   "cell_type": "code",
   "execution_count": 109,
   "metadata": {},
   "outputs": [
    {
     "data": {
      "text/plain": [
       "0.9861693752294982"
      ]
     },
     "execution_count": 109,
     "metadata": {},
     "output_type": "execute_result"
    }
   ],
   "source": [
    "log_loss(y_valid, y_pred_probs_10)"
   ]
  },
  {
   "cell_type": "markdown",
   "metadata": {},
   "source": [
    "### n=100"
   ]
  },
  {
   "cell_type": "code",
   "execution_count": 110,
   "metadata": {},
   "outputs": [],
   "source": [
    "neigh_100 = KNeighborsClassifier(n_neighbors=100)"
   ]
  },
  {
   "cell_type": "code",
   "execution_count": 111,
   "metadata": {},
   "outputs": [
    {
     "data": {
      "text/plain": [
       "KNeighborsClassifier(n_neighbors=100)"
      ]
     },
     "execution_count": 111,
     "metadata": {},
     "output_type": "execute_result"
    }
   ],
   "source": [
    "neigh_100.fit(x_train, y_train)"
   ]
  },
  {
   "cell_type": "code",
   "execution_count": 112,
   "metadata": {},
   "outputs": [],
   "source": [
    "y_pred_probs_100 = neigh_100.predict_proba(x_valid)"
   ]
  },
  {
   "cell_type": "code",
   "execution_count": 113,
   "metadata": {},
   "outputs": [
    {
     "data": {
      "text/plain": [
       "0.5606933995713834"
      ]
     },
     "execution_count": 113,
     "metadata": {},
     "output_type": "execute_result"
    }
   ],
   "source": [
    "log_loss(y_valid, y_pred_probs_100)"
   ]
  },
  {
   "cell_type": "markdown",
   "metadata": {},
   "source": [
    "### n=500"
   ]
  },
  {
   "cell_type": "code",
   "execution_count": 114,
   "metadata": {},
   "outputs": [],
   "source": [
    "neigh_500 = KNeighborsClassifier(n_neighbors=500)"
   ]
  },
  {
   "cell_type": "code",
   "execution_count": 115,
   "metadata": {},
   "outputs": [
    {
     "data": {
      "text/plain": [
       "KNeighborsClassifier(n_neighbors=500)"
      ]
     },
     "execution_count": 115,
     "metadata": {},
     "output_type": "execute_result"
    }
   ],
   "source": [
    "neigh_500.fit(x_train, y_train)"
   ]
  },
  {
   "cell_type": "code",
   "execution_count": 116,
   "metadata": {},
   "outputs": [],
   "source": [
    "y_pred_probs_500 = neigh_500.predict_proba(x_valid)"
   ]
  },
  {
   "cell_type": "code",
   "execution_count": 117,
   "metadata": {},
   "outputs": [
    {
     "data": {
      "text/plain": [
       "0.5754163670470906"
      ]
     },
     "execution_count": 117,
     "metadata": {},
     "output_type": "execute_result"
    }
   ],
   "source": [
    "log_loss(y_valid, y_pred_probs_500)"
   ]
  },
  {
   "cell_type": "markdown",
   "metadata": {},
   "source": [
    "### n=1000"
   ]
  },
  {
   "cell_type": "code",
   "execution_count": 118,
   "metadata": {},
   "outputs": [],
   "source": [
    "neigh_1000 = KNeighborsClassifier(n_neighbors=1000)"
   ]
  },
  {
   "cell_type": "code",
   "execution_count": 119,
   "metadata": {},
   "outputs": [
    {
     "data": {
      "text/plain": [
       "KNeighborsClassifier(n_neighbors=1000)"
      ]
     },
     "execution_count": 119,
     "metadata": {},
     "output_type": "execute_result"
    }
   ],
   "source": [
    "neigh_1000.fit(x_train, y_train)"
   ]
  },
  {
   "cell_type": "code",
   "execution_count": 120,
   "metadata": {},
   "outputs": [],
   "source": [
    "y_pred_probs_1000 = neigh_1000.predict_proba(x_valid)"
   ]
  },
  {
   "cell_type": "code",
   "execution_count": 121,
   "metadata": {},
   "outputs": [
    {
     "data": {
      "text/plain": [
       "0.5886779890875088"
      ]
     },
     "execution_count": 121,
     "metadata": {},
     "output_type": "execute_result"
    }
   ],
   "source": [
    "log_loss(y_valid, y_pred_probs_1000)"
   ]
  },
  {
   "cell_type": "markdown",
   "metadata": {},
   "source": [
    "### n=3000"
   ]
  },
  {
   "cell_type": "code",
   "execution_count": 122,
   "metadata": {},
   "outputs": [],
   "source": [
    "neigh_3000 = KNeighborsClassifier(n_neighbors=3000)"
   ]
  },
  {
   "cell_type": "code",
   "execution_count": 123,
   "metadata": {},
   "outputs": [
    {
     "data": {
      "text/plain": [
       "KNeighborsClassifier(n_neighbors=3000)"
      ]
     },
     "execution_count": 123,
     "metadata": {},
     "output_type": "execute_result"
    }
   ],
   "source": [
    "neigh_3000.fit(x_train, y_train)"
   ]
  },
  {
   "cell_type": "code",
   "execution_count": 124,
   "metadata": {},
   "outputs": [],
   "source": [
    "y_pred_probs_3000 = neigh_3000.predict_proba(x_valid)"
   ]
  },
  {
   "cell_type": "code",
   "execution_count": 125,
   "metadata": {},
   "outputs": [
    {
     "data": {
      "text/plain": [
       "0.6374128191600066"
      ]
     },
     "execution_count": 125,
     "metadata": {},
     "output_type": "execute_result"
    }
   ],
   "source": [
    "log_loss(y_valid, y_pred_probs_3000)"
   ]
  },
  {
   "cell_type": "markdown",
   "metadata": {},
   "source": [
    "### n=5000"
   ]
  },
  {
   "cell_type": "code",
   "execution_count": 126,
   "metadata": {},
   "outputs": [],
   "source": [
    "neigh_5000 = KNeighborsClassifier(n_neighbors=5000)\n"
   ]
  },
  {
   "cell_type": "code",
   "execution_count": 127,
   "metadata": {},
   "outputs": [
    {
     "data": {
      "text/plain": [
       "KNeighborsClassifier(n_neighbors=5000)"
      ]
     },
     "execution_count": 127,
     "metadata": {},
     "output_type": "execute_result"
    }
   ],
   "source": [
    "neigh_5000.fit(x_train, y_train)"
   ]
  },
  {
   "cell_type": "code",
   "execution_count": 128,
   "metadata": {},
   "outputs": [],
   "source": [
    "y_pred_probs_5000 = neigh_5000.predict_proba(x_valid)"
   ]
  },
  {
   "cell_type": "code",
   "execution_count": 129,
   "metadata": {},
   "outputs": [
    {
     "data": {
      "text/plain": [
       "0.6524885081004371"
      ]
     },
     "execution_count": 129,
     "metadata": {},
     "output_type": "execute_result"
    }
   ],
   "source": [
    "log_loss(y_valid, y_pred_probs_5000)"
   ]
  },
  {
   "cell_type": "markdown",
   "metadata": {},
   "source": [
    "## Aumentamos la resolución de la búsqueda entre n=500 y n=3000"
   ]
  },
  {
   "cell_type": "markdown",
   "metadata": {},
   "source": [
    "### Se realizará a continuación una suerte de búsqueda binaria manual"
   ]
  },
  {
   "cell_type": "markdown",
   "metadata": {},
   "source": [
    "### n=500"
   ]
  },
  {
   "cell_type": "code",
   "execution_count": 130,
   "metadata": {},
   "outputs": [
    {
     "data": {
      "text/plain": [
       "0.5754163670470906"
      ]
     },
     "execution_count": 130,
     "metadata": {},
     "output_type": "execute_result"
    }
   ],
   "source": [
    "log_loss(y_valid, y_pred_probs_500)"
   ]
  },
  {
   "cell_type": "markdown",
   "metadata": {},
   "source": [
    "### n=750"
   ]
  },
  {
   "cell_type": "code",
   "execution_count": 131,
   "metadata": {},
   "outputs": [],
   "source": [
    "neigh_750 = KNeighborsClassifier(n_neighbors=750)"
   ]
  },
  {
   "cell_type": "code",
   "execution_count": 132,
   "metadata": {},
   "outputs": [
    {
     "data": {
      "text/plain": [
       "KNeighborsClassifier(n_neighbors=750)"
      ]
     },
     "execution_count": 132,
     "metadata": {},
     "output_type": "execute_result"
    }
   ],
   "source": [
    "neigh_750.fit(x_train, y_train)"
   ]
  },
  {
   "cell_type": "code",
   "execution_count": 133,
   "metadata": {},
   "outputs": [],
   "source": [
    "y_pred_probs_750 = neigh_750.predict_proba(x_valid)"
   ]
  },
  {
   "cell_type": "code",
   "execution_count": 134,
   "metadata": {},
   "outputs": [
    {
     "data": {
      "text/plain": [
       "0.5823607152979816"
      ]
     },
     "execution_count": 134,
     "metadata": {},
     "output_type": "execute_result"
    }
   ],
   "source": [
    "log_loss(y_valid, y_pred_probs_750)"
   ]
  },
  {
   "cell_type": "markdown",
   "metadata": {},
   "source": [
    "### n=900"
   ]
  },
  {
   "cell_type": "code",
   "execution_count": 135,
   "metadata": {},
   "outputs": [],
   "source": [
    "neigh_900 = KNeighborsClassifier(n_neighbors=900)\n"
   ]
  },
  {
   "cell_type": "code",
   "execution_count": 136,
   "metadata": {},
   "outputs": [
    {
     "data": {
      "text/plain": [
       "KNeighborsClassifier(n_neighbors=900)"
      ]
     },
     "execution_count": 136,
     "metadata": {},
     "output_type": "execute_result"
    }
   ],
   "source": [
    "neigh_900.fit(x_train, y_train)"
   ]
  },
  {
   "cell_type": "code",
   "execution_count": 137,
   "metadata": {},
   "outputs": [],
   "source": [
    "y_pred_probs_900 = neigh_900.predict_proba(x_valid)"
   ]
  },
  {
   "cell_type": "code",
   "execution_count": 138,
   "metadata": {
    "scrolled": true
   },
   "outputs": [
    {
     "data": {
      "text/plain": [
       "0.58630731961849"
      ]
     },
     "execution_count": 138,
     "metadata": {},
     "output_type": "execute_result"
    }
   ],
   "source": [
    "log_loss(y_valid, y_pred_probs_900)"
   ]
  },
  {
   "cell_type": "markdown",
   "metadata": {},
   "source": [
    "### n=950"
   ]
  },
  {
   "cell_type": "code",
   "execution_count": 139,
   "metadata": {},
   "outputs": [],
   "source": [
    "neigh_950 = KNeighborsClassifier(n_neighbors=950)"
   ]
  },
  {
   "cell_type": "code",
   "execution_count": 140,
   "metadata": {},
   "outputs": [
    {
     "data": {
      "text/plain": [
       "KNeighborsClassifier(n_neighbors=950)"
      ]
     },
     "execution_count": 140,
     "metadata": {},
     "output_type": "execute_result"
    }
   ],
   "source": [
    "neigh_950.fit(x_train, y_train)"
   ]
  },
  {
   "cell_type": "code",
   "execution_count": 141,
   "metadata": {},
   "outputs": [],
   "source": [
    "y_pred_probs_950 = neigh_950.predict_proba(x_valid)"
   ]
  },
  {
   "cell_type": "code",
   "execution_count": 142,
   "metadata": {},
   "outputs": [
    {
     "data": {
      "text/plain": [
       "0.5873344571136553"
      ]
     },
     "execution_count": 142,
     "metadata": {},
     "output_type": "execute_result"
    }
   ],
   "source": [
    "log_loss(y_valid, y_pred_probs_950)"
   ]
  },
  {
   "cell_type": "markdown",
   "metadata": {},
   "source": [
    "### n=975"
   ]
  },
  {
   "cell_type": "code",
   "execution_count": 143,
   "metadata": {},
   "outputs": [],
   "source": [
    "neigh_975 = KNeighborsClassifier(n_neighbors=975)"
   ]
  },
  {
   "cell_type": "code",
   "execution_count": 144,
   "metadata": {},
   "outputs": [
    {
     "data": {
      "text/plain": [
       "KNeighborsClassifier(n_neighbors=975)"
      ]
     },
     "execution_count": 144,
     "metadata": {},
     "output_type": "execute_result"
    }
   ],
   "source": [
    "neigh_975.fit(x_train, y_train)"
   ]
  },
  {
   "cell_type": "code",
   "execution_count": 145,
   "metadata": {},
   "outputs": [],
   "source": [
    "y_pred_probs_975 = neigh_975.predict_proba(x_valid)"
   ]
  },
  {
   "cell_type": "code",
   "execution_count": 146,
   "metadata": {},
   "outputs": [
    {
     "data": {
      "text/plain": [
       "0.5880500525774957"
      ]
     },
     "execution_count": 146,
     "metadata": {},
     "output_type": "execute_result"
    }
   ],
   "source": [
    "log_loss(y_valid, y_pred_probs_975)"
   ]
  },
  {
   "cell_type": "markdown",
   "metadata": {},
   "source": [
    "### n=987"
   ]
  },
  {
   "cell_type": "code",
   "execution_count": 147,
   "metadata": {},
   "outputs": [],
   "source": [
    "neigh_987 = KNeighborsClassifier(n_neighbors=987)"
   ]
  },
  {
   "cell_type": "code",
   "execution_count": 148,
   "metadata": {},
   "outputs": [
    {
     "data": {
      "text/plain": [
       "KNeighborsClassifier(n_neighbors=987)"
      ]
     },
     "execution_count": 148,
     "metadata": {},
     "output_type": "execute_result"
    }
   ],
   "source": [
    "neigh_987.fit(x_train, y_train)"
   ]
  },
  {
   "cell_type": "code",
   "execution_count": 149,
   "metadata": {},
   "outputs": [],
   "source": [
    "y_pred_probs_987 = neigh_987.predict_proba(x_valid)"
   ]
  },
  {
   "cell_type": "code",
   "execution_count": 150,
   "metadata": {
    "scrolled": false
   },
   "outputs": [
    {
     "data": {
      "text/plain": [
       "0.5883514985726841"
      ]
     },
     "execution_count": 150,
     "metadata": {},
     "output_type": "execute_result"
    }
   ],
   "source": [
    "log_loss(y_valid, y_pred_probs_987)"
   ]
  },
  {
   "cell_type": "markdown",
   "metadata": {},
   "source": [
    "### n=992"
   ]
  },
  {
   "cell_type": "code",
   "execution_count": 151,
   "metadata": {},
   "outputs": [],
   "source": [
    "neigh_992 = KNeighborsClassifier(n_neighbors=992)"
   ]
  },
  {
   "cell_type": "code",
   "execution_count": 152,
   "metadata": {},
   "outputs": [
    {
     "data": {
      "text/plain": [
       "KNeighborsClassifier(n_neighbors=992)"
      ]
     },
     "execution_count": 152,
     "metadata": {},
     "output_type": "execute_result"
    }
   ],
   "source": [
    "neigh_992.fit(x_train, y_train)"
   ]
  },
  {
   "cell_type": "code",
   "execution_count": 153,
   "metadata": {},
   "outputs": [],
   "source": [
    "y_pred_probs_992 = neigh_992.predict_proba(x_valid)"
   ]
  },
  {
   "cell_type": "code",
   "execution_count": 154,
   "metadata": {},
   "outputs": [
    {
     "data": {
      "text/plain": [
       "0.588470208048815"
      ]
     },
     "execution_count": 154,
     "metadata": {},
     "output_type": "execute_result"
    }
   ],
   "source": [
    "log_loss(y_valid, y_pred_probs_992)"
   ]
  },
  {
   "cell_type": "markdown",
   "metadata": {},
   "source": [
    "### n=995"
   ]
  },
  {
   "cell_type": "code",
   "execution_count": 155,
   "metadata": {},
   "outputs": [],
   "source": [
    "neigh_995 = KNeighborsClassifier(n_neighbors=995)"
   ]
  },
  {
   "cell_type": "code",
   "execution_count": 156,
   "metadata": {},
   "outputs": [
    {
     "data": {
      "text/plain": [
       "KNeighborsClassifier(n_neighbors=995)"
      ]
     },
     "execution_count": 156,
     "metadata": {},
     "output_type": "execute_result"
    }
   ],
   "source": [
    "neigh_995.fit(x_train, y_train)"
   ]
  },
  {
   "cell_type": "code",
   "execution_count": 157,
   "metadata": {},
   "outputs": [],
   "source": [
    "y_pred_probs_995 = neigh_995.predict_proba(x_valid)"
   ]
  },
  {
   "cell_type": "code",
   "execution_count": 158,
   "metadata": {},
   "outputs": [
    {
     "data": {
      "text/plain": [
       "0.5885800427418778"
      ]
     },
     "execution_count": 158,
     "metadata": {},
     "output_type": "execute_result"
    }
   ],
   "source": [
    "log_loss(y_valid, y_pred_probs_995)"
   ]
  },
  {
   "cell_type": "markdown",
   "metadata": {},
   "source": [
    "### n=997"
   ]
  },
  {
   "cell_type": "code",
   "execution_count": 159,
   "metadata": {},
   "outputs": [],
   "source": [
    "neigh_997 = KNeighborsClassifier(n_neighbors=997)"
   ]
  },
  {
   "cell_type": "code",
   "execution_count": 160,
   "metadata": {},
   "outputs": [
    {
     "data": {
      "text/plain": [
       "KNeighborsClassifier(n_neighbors=997)"
      ]
     },
     "execution_count": 160,
     "metadata": {},
     "output_type": "execute_result"
    }
   ],
   "source": [
    "neigh_997.fit(x_train, y_train)"
   ]
  },
  {
   "cell_type": "code",
   "execution_count": 161,
   "metadata": {},
   "outputs": [],
   "source": [
    "y_pred_probs_997 = neigh_997.predict_proba(x_valid)"
   ]
  },
  {
   "cell_type": "code",
   "execution_count": 162,
   "metadata": {},
   "outputs": [
    {
     "data": {
      "text/plain": [
       "0.5886249991559115"
      ]
     },
     "execution_count": 162,
     "metadata": {},
     "output_type": "execute_result"
    }
   ],
   "source": [
    "log_loss(y_valid, y_pred_probs_997)"
   ]
  },
  {
   "cell_type": "markdown",
   "metadata": {},
   "source": [
    "### n=1000"
   ]
  },
  {
   "cell_type": "code",
   "execution_count": 163,
   "metadata": {
    "scrolled": true
   },
   "outputs": [
    {
     "data": {
      "text/plain": [
       "0.5886779890875088"
      ]
     },
     "execution_count": 163,
     "metadata": {},
     "output_type": "execute_result"
    }
   ],
   "source": [
    "log_loss(y_valid, y_pred_probs_1000)"
   ]
  },
  {
   "cell_type": "markdown",
   "metadata": {},
   "source": [
    "### n=1005"
   ]
  },
  {
   "cell_type": "code",
   "execution_count": 164,
   "metadata": {},
   "outputs": [],
   "source": [
    "neigh_1005 = KNeighborsClassifier(n_neighbors=1005)"
   ]
  },
  {
   "cell_type": "code",
   "execution_count": 165,
   "metadata": {},
   "outputs": [
    {
     "data": {
      "text/plain": [
       "KNeighborsClassifier(n_neighbors=1005)"
      ]
     },
     "execution_count": 165,
     "metadata": {},
     "output_type": "execute_result"
    }
   ],
   "source": [
    "neigh_1005.fit(x_train, y_train)"
   ]
  },
  {
   "cell_type": "code",
   "execution_count": 166,
   "metadata": {},
   "outputs": [],
   "source": [
    "y_pred_probs_1005 = neigh_1005.predict_proba(x_valid)"
   ]
  },
  {
   "cell_type": "code",
   "execution_count": 167,
   "metadata": {},
   "outputs": [
    {
     "data": {
      "text/plain": [
       "0.5887866153915132"
      ]
     },
     "execution_count": 167,
     "metadata": {},
     "output_type": "execute_result"
    }
   ],
   "source": [
    "log_loss(y_valid, y_pred_probs_1005)"
   ]
  },
  {
   "cell_type": "markdown",
   "metadata": {},
   "source": [
    "### n=1012"
   ]
  },
  {
   "cell_type": "code",
   "execution_count": 168,
   "metadata": {},
   "outputs": [],
   "source": [
    "neigh_1012 = KNeighborsClassifier(n_neighbors=1012)"
   ]
  },
  {
   "cell_type": "code",
   "execution_count": 169,
   "metadata": {},
   "outputs": [
    {
     "data": {
      "text/plain": [
       "KNeighborsClassifier(n_neighbors=1012)"
      ]
     },
     "execution_count": 169,
     "metadata": {},
     "output_type": "execute_result"
    }
   ],
   "source": [
    "neigh_1012.fit(x_train, y_train)"
   ]
  },
  {
   "cell_type": "code",
   "execution_count": 170,
   "metadata": {},
   "outputs": [],
   "source": [
    "y_pred_probs_1012 = neigh_1012.predict_proba(x_valid)"
   ]
  },
  {
   "cell_type": "code",
   "execution_count": 171,
   "metadata": {},
   "outputs": [
    {
     "data": {
      "text/plain": [
       "0.5889568244084787"
      ]
     },
     "execution_count": 171,
     "metadata": {},
     "output_type": "execute_result"
    }
   ],
   "source": [
    "log_loss(y_valid, y_pred_probs_1012)"
   ]
  },
  {
   "cell_type": "markdown",
   "metadata": {},
   "source": [
    "### n=1025"
   ]
  },
  {
   "cell_type": "code",
   "execution_count": 172,
   "metadata": {},
   "outputs": [],
   "source": [
    "neigh_1025 = KNeighborsClassifier(n_neighbors=1025)"
   ]
  },
  {
   "cell_type": "code",
   "execution_count": 173,
   "metadata": {},
   "outputs": [
    {
     "data": {
      "text/plain": [
       "KNeighborsClassifier(n_neighbors=1025)"
      ]
     },
     "execution_count": 173,
     "metadata": {},
     "output_type": "execute_result"
    }
   ],
   "source": [
    "neigh_1025.fit(x_train, y_train)"
   ]
  },
  {
   "cell_type": "code",
   "execution_count": 174,
   "metadata": {},
   "outputs": [],
   "source": [
    "y_pred_probs_1025 = neigh_1025.predict_proba(x_valid)"
   ]
  },
  {
   "cell_type": "code",
   "execution_count": 175,
   "metadata": {},
   "outputs": [
    {
     "data": {
      "text/plain": [
       "0.5891162319363847"
      ]
     },
     "execution_count": 175,
     "metadata": {},
     "output_type": "execute_result"
    }
   ],
   "source": [
    "log_loss(y_valid, y_pred_probs_1025)"
   ]
  },
  {
   "cell_type": "markdown",
   "metadata": {},
   "source": [
    "### n=1050"
   ]
  },
  {
   "cell_type": "code",
   "execution_count": 176,
   "metadata": {},
   "outputs": [],
   "source": [
    "neigh_1050 = KNeighborsClassifier(n_neighbors=1050)"
   ]
  },
  {
   "cell_type": "code",
   "execution_count": 177,
   "metadata": {},
   "outputs": [
    {
     "data": {
      "text/plain": [
       "KNeighborsClassifier(n_neighbors=1050)"
      ]
     },
     "execution_count": 177,
     "metadata": {},
     "output_type": "execute_result"
    }
   ],
   "source": [
    "neigh_1050.fit(x_train, y_train)"
   ]
  },
  {
   "cell_type": "code",
   "execution_count": 178,
   "metadata": {},
   "outputs": [],
   "source": [
    "y_pred_probs_1050 = neigh_1050.predict_proba(x_valid)"
   ]
  },
  {
   "cell_type": "code",
   "execution_count": 179,
   "metadata": {},
   "outputs": [
    {
     "data": {
      "text/plain": [
       "0.5895176833360796"
      ]
     },
     "execution_count": 179,
     "metadata": {},
     "output_type": "execute_result"
    }
   ],
   "source": [
    "log_loss(y_valid, y_pred_probs_1050)"
   ]
  },
  {
   "cell_type": "markdown",
   "metadata": {},
   "source": [
    "### n=1100"
   ]
  },
  {
   "cell_type": "code",
   "execution_count": 180,
   "metadata": {},
   "outputs": [],
   "source": [
    "neigh_1100 = KNeighborsClassifier(n_neighbors=1100)\n"
   ]
  },
  {
   "cell_type": "code",
   "execution_count": 181,
   "metadata": {},
   "outputs": [
    {
     "data": {
      "text/plain": [
       "KNeighborsClassifier(n_neighbors=1100)"
      ]
     },
     "execution_count": 181,
     "metadata": {},
     "output_type": "execute_result"
    }
   ],
   "source": [
    "neigh_1100.fit(x_train, y_train)"
   ]
  },
  {
   "cell_type": "code",
   "execution_count": 182,
   "metadata": {},
   "outputs": [],
   "source": [
    "y_pred_probs_1100 = neigh_1100.predict_proba(x_valid)"
   ]
  },
  {
   "cell_type": "code",
   "execution_count": 183,
   "metadata": {},
   "outputs": [
    {
     "data": {
      "text/plain": [
       "0.5824684420017497"
      ]
     },
     "execution_count": 183,
     "metadata": {},
     "output_type": "execute_result"
    }
   ],
   "source": [
    "log_loss(y_valid, y_pred_probs_1100)"
   ]
  },
  {
   "cell_type": "markdown",
   "metadata": {},
   "source": [
    "### n=1250"
   ]
  },
  {
   "cell_type": "code",
   "execution_count": 184,
   "metadata": {},
   "outputs": [],
   "source": [
    "neigh_1250 = KNeighborsClassifier(n_neighbors=1250)"
   ]
  },
  {
   "cell_type": "code",
   "execution_count": 185,
   "metadata": {},
   "outputs": [
    {
     "data": {
      "text/plain": [
       "KNeighborsClassifier(n_neighbors=1250)"
      ]
     },
     "execution_count": 185,
     "metadata": {},
     "output_type": "execute_result"
    }
   ],
   "source": [
    "neigh_1250.fit(x_train, y_train)"
   ]
  },
  {
   "cell_type": "code",
   "execution_count": 186,
   "metadata": {},
   "outputs": [],
   "source": [
    "y_pred_probs_1250 = neigh_1250.predict_proba(x_valid)"
   ]
  },
  {
   "cell_type": "code",
   "execution_count": 187,
   "metadata": {},
   "outputs": [
    {
     "data": {
      "text/plain": [
       "0.5876750873392573"
      ]
     },
     "execution_count": 187,
     "metadata": {},
     "output_type": "execute_result"
    }
   ],
   "source": [
    "log_loss(y_valid, y_pred_probs_1250)"
   ]
  },
  {
   "cell_type": "markdown",
   "metadata": {},
   "source": [
    "### n=1500"
   ]
  },
  {
   "cell_type": "code",
   "execution_count": 188,
   "metadata": {},
   "outputs": [],
   "source": [
    "neigh_1500 = KNeighborsClassifier(n_neighbors=1500)"
   ]
  },
  {
   "cell_type": "code",
   "execution_count": 189,
   "metadata": {},
   "outputs": [
    {
     "data": {
      "text/plain": [
       "KNeighborsClassifier(n_neighbors=1500)"
      ]
     },
     "execution_count": 189,
     "metadata": {},
     "output_type": "execute_result"
    }
   ],
   "source": [
    "neigh_1500.fit(x_train, y_train)"
   ]
  },
  {
   "cell_type": "code",
   "execution_count": 190,
   "metadata": {},
   "outputs": [],
   "source": [
    "y_pred_probs_1500 = neigh_1500.predict_proba(x_valid)"
   ]
  },
  {
   "cell_type": "code",
   "execution_count": 191,
   "metadata": {},
   "outputs": [
    {
     "data": {
      "text/plain": [
       "0.5960363887286818"
      ]
     },
     "execution_count": 191,
     "metadata": {},
     "output_type": "execute_result"
    }
   ],
   "source": [
    "log_loss(y_valid, y_pred_probs_1500)"
   ]
  },
  {
   "cell_type": "markdown",
   "metadata": {},
   "source": [
    "### Los mejores metricas se encontraron en torno a n=995"
   ]
  },
  {
   "cell_type": "markdown",
   "metadata": {},
   "source": [
    "# Generacion de CSV's para subir a Kaggle"
   ]
  },
  {
   "cell_type": "markdown",
   "metadata": {},
   "source": [
    "## Importación del Set de Datos de Test"
   ]
  },
  {
   "cell_type": "code",
   "execution_count": 192,
   "metadata": {},
   "outputs": [
    {
     "data": {
      "text/html": [
       "<div>\n",
       "<style scoped>\n",
       "    .dataframe tbody tr th:only-of-type {\n",
       "        vertical-align: middle;\n",
       "    }\n",
       "\n",
       "    .dataframe tbody tr th {\n",
       "        vertical-align: top;\n",
       "    }\n",
       "\n",
       "    .dataframe thead th {\n",
       "        text-align: right;\n",
       "    }\n",
       "</style>\n",
       "<table border=\"1\" class=\"dataframe\">\n",
       "  <thead>\n",
       "    <tr style=\"text-align: right;\">\n",
       "      <th></th>\n",
       "      <th>Pricing, Delivery_Terms_Quote_Appr</th>\n",
       "      <th>Pricing, Delivery_Terms_Approved</th>\n",
       "      <th>Bureaucratic_Code_0_Approval</th>\n",
       "      <th>Bureaucratic_Code_0_Approved</th>\n",
       "      <th>Submitted_for_Approval</th>\n",
       "      <th>Account_Created_Date_Day</th>\n",
       "      <th>Account_Created_Date_Month</th>\n",
       "      <th>Account_Created_Date_Year</th>\n",
       "      <th>Opportunity_ID</th>\n",
       "      <th>Sales_Contract_No</th>\n",
       "      <th>...</th>\n",
       "      <th>Bit_Total_Taxable_Amount_Currency_0</th>\n",
       "      <th>Bit_Total_Taxable_Amount_Currency_1</th>\n",
       "      <th>Bit_Total_Taxable_Amount_Currency_2</th>\n",
       "      <th>Bit_Total_Taxable_Amount_Currency_3</th>\n",
       "      <th>Bit_Prod_Category_A_0</th>\n",
       "      <th>Bit_ASP_Currency_0</th>\n",
       "      <th>Bit_ASP_Currency_1</th>\n",
       "      <th>Bit_ASP_Currency_2</th>\n",
       "      <th>Bit_ASP_Currency_3</th>\n",
       "      <th>Bit_ASP_(converted)_Currency_0</th>\n",
       "    </tr>\n",
       "  </thead>\n",
       "  <tbody>\n",
       "    <tr>\n",
       "      <th>0</th>\n",
       "      <td>0</td>\n",
       "      <td>0</td>\n",
       "      <td>0</td>\n",
       "      <td>0</td>\n",
       "      <td>0</td>\n",
       "      <td>20</td>\n",
       "      <td>2</td>\n",
       "      <td>2017</td>\n",
       "      <td>12173</td>\n",
       "      <td>0</td>\n",
       "      <td>...</td>\n",
       "      <td>0</td>\n",
       "      <td>0</td>\n",
       "      <td>0</td>\n",
       "      <td>1</td>\n",
       "      <td>1</td>\n",
       "      <td>0</td>\n",
       "      <td>0</td>\n",
       "      <td>0</td>\n",
       "      <td>1</td>\n",
       "      <td>1</td>\n",
       "    </tr>\n",
       "    <tr>\n",
       "      <th>1</th>\n",
       "      <td>0</td>\n",
       "      <td>0</td>\n",
       "      <td>0</td>\n",
       "      <td>0</td>\n",
       "      <td>0</td>\n",
       "      <td>22</td>\n",
       "      <td>8</td>\n",
       "      <td>2018</td>\n",
       "      <td>12172</td>\n",
       "      <td>0</td>\n",
       "      <td>...</td>\n",
       "      <td>0</td>\n",
       "      <td>0</td>\n",
       "      <td>0</td>\n",
       "      <td>1</td>\n",
       "      <td>1</td>\n",
       "      <td>0</td>\n",
       "      <td>0</td>\n",
       "      <td>0</td>\n",
       "      <td>1</td>\n",
       "      <td>1</td>\n",
       "    </tr>\n",
       "    <tr>\n",
       "      <th>2</th>\n",
       "      <td>0</td>\n",
       "      <td>0</td>\n",
       "      <td>0</td>\n",
       "      <td>0</td>\n",
       "      <td>0</td>\n",
       "      <td>22</td>\n",
       "      <td>8</td>\n",
       "      <td>2018</td>\n",
       "      <td>11408</td>\n",
       "      <td>0</td>\n",
       "      <td>...</td>\n",
       "      <td>0</td>\n",
       "      <td>0</td>\n",
       "      <td>0</td>\n",
       "      <td>1</td>\n",
       "      <td>1</td>\n",
       "      <td>0</td>\n",
       "      <td>0</td>\n",
       "      <td>0</td>\n",
       "      <td>1</td>\n",
       "      <td>1</td>\n",
       "    </tr>\n",
       "    <tr>\n",
       "      <th>3</th>\n",
       "      <td>0</td>\n",
       "      <td>0</td>\n",
       "      <td>0</td>\n",
       "      <td>0</td>\n",
       "      <td>0</td>\n",
       "      <td>4</td>\n",
       "      <td>4</td>\n",
       "      <td>2019</td>\n",
       "      <td>12232</td>\n",
       "      <td>0</td>\n",
       "      <td>...</td>\n",
       "      <td>0</td>\n",
       "      <td>0</td>\n",
       "      <td>0</td>\n",
       "      <td>1</td>\n",
       "      <td>1</td>\n",
       "      <td>0</td>\n",
       "      <td>0</td>\n",
       "      <td>0</td>\n",
       "      <td>1</td>\n",
       "      <td>1</td>\n",
       "    </tr>\n",
       "    <tr>\n",
       "      <th>4</th>\n",
       "      <td>0</td>\n",
       "      <td>0</td>\n",
       "      <td>0</td>\n",
       "      <td>0</td>\n",
       "      <td>0</td>\n",
       "      <td>4</td>\n",
       "      <td>4</td>\n",
       "      <td>2019</td>\n",
       "      <td>12233</td>\n",
       "      <td>0</td>\n",
       "      <td>...</td>\n",
       "      <td>0</td>\n",
       "      <td>0</td>\n",
       "      <td>0</td>\n",
       "      <td>1</td>\n",
       "      <td>1</td>\n",
       "      <td>0</td>\n",
       "      <td>0</td>\n",
       "      <td>0</td>\n",
       "      <td>1</td>\n",
       "      <td>1</td>\n",
       "    </tr>\n",
       "    <tr>\n",
       "      <th>...</th>\n",
       "      <td>...</td>\n",
       "      <td>...</td>\n",
       "      <td>...</td>\n",
       "      <td>...</td>\n",
       "      <td>...</td>\n",
       "      <td>...</td>\n",
       "      <td>...</td>\n",
       "      <td>...</td>\n",
       "      <td>...</td>\n",
       "      <td>...</td>\n",
       "      <td>...</td>\n",
       "      <td>...</td>\n",
       "      <td>...</td>\n",
       "      <td>...</td>\n",
       "      <td>...</td>\n",
       "      <td>...</td>\n",
       "      <td>...</td>\n",
       "      <td>...</td>\n",
       "      <td>...</td>\n",
       "      <td>...</td>\n",
       "      <td>...</td>\n",
       "    </tr>\n",
       "    <tr>\n",
       "      <th>1562</th>\n",
       "      <td>1</td>\n",
       "      <td>1</td>\n",
       "      <td>1</td>\n",
       "      <td>1</td>\n",
       "      <td>0</td>\n",
       "      <td>21</td>\n",
       "      <td>8</td>\n",
       "      <td>2017</td>\n",
       "      <td>11758</td>\n",
       "      <td>0</td>\n",
       "      <td>...</td>\n",
       "      <td>0</td>\n",
       "      <td>0</td>\n",
       "      <td>0</td>\n",
       "      <td>1</td>\n",
       "      <td>1</td>\n",
       "      <td>0</td>\n",
       "      <td>0</td>\n",
       "      <td>0</td>\n",
       "      <td>1</td>\n",
       "      <td>1</td>\n",
       "    </tr>\n",
       "    <tr>\n",
       "      <th>1563</th>\n",
       "      <td>1</td>\n",
       "      <td>1</td>\n",
       "      <td>0</td>\n",
       "      <td>0</td>\n",
       "      <td>0</td>\n",
       "      <td>17</td>\n",
       "      <td>10</td>\n",
       "      <td>2018</td>\n",
       "      <td>10721</td>\n",
       "      <td>0</td>\n",
       "      <td>...</td>\n",
       "      <td>0</td>\n",
       "      <td>0</td>\n",
       "      <td>0</td>\n",
       "      <td>1</td>\n",
       "      <td>1</td>\n",
       "      <td>0</td>\n",
       "      <td>0</td>\n",
       "      <td>0</td>\n",
       "      <td>1</td>\n",
       "      <td>1</td>\n",
       "    </tr>\n",
       "    <tr>\n",
       "      <th>1564</th>\n",
       "      <td>1</td>\n",
       "      <td>1</td>\n",
       "      <td>1</td>\n",
       "      <td>1</td>\n",
       "      <td>0</td>\n",
       "      <td>15</td>\n",
       "      <td>10</td>\n",
       "      <td>2018</td>\n",
       "      <td>11757</td>\n",
       "      <td>0</td>\n",
       "      <td>...</td>\n",
       "      <td>0</td>\n",
       "      <td>0</td>\n",
       "      <td>0</td>\n",
       "      <td>1</td>\n",
       "      <td>1</td>\n",
       "      <td>0</td>\n",
       "      <td>0</td>\n",
       "      <td>0</td>\n",
       "      <td>1</td>\n",
       "      <td>1</td>\n",
       "    </tr>\n",
       "    <tr>\n",
       "      <th>1565</th>\n",
       "      <td>1</td>\n",
       "      <td>1</td>\n",
       "      <td>1</td>\n",
       "      <td>1</td>\n",
       "      <td>0</td>\n",
       "      <td>28</td>\n",
       "      <td>12</td>\n",
       "      <td>2017</td>\n",
       "      <td>10851</td>\n",
       "      <td>0</td>\n",
       "      <td>...</td>\n",
       "      <td>0</td>\n",
       "      <td>0</td>\n",
       "      <td>0</td>\n",
       "      <td>1</td>\n",
       "      <td>1</td>\n",
       "      <td>0</td>\n",
       "      <td>0</td>\n",
       "      <td>0</td>\n",
       "      <td>1</td>\n",
       "      <td>1</td>\n",
       "    </tr>\n",
       "    <tr>\n",
       "      <th>1566</th>\n",
       "      <td>1</td>\n",
       "      <td>1</td>\n",
       "      <td>1</td>\n",
       "      <td>1</td>\n",
       "      <td>0</td>\n",
       "      <td>28</td>\n",
       "      <td>12</td>\n",
       "      <td>2017</td>\n",
       "      <td>10880</td>\n",
       "      <td>0</td>\n",
       "      <td>...</td>\n",
       "      <td>0</td>\n",
       "      <td>0</td>\n",
       "      <td>0</td>\n",
       "      <td>1</td>\n",
       "      <td>1</td>\n",
       "      <td>0</td>\n",
       "      <td>0</td>\n",
       "      <td>0</td>\n",
       "      <td>1</td>\n",
       "      <td>1</td>\n",
       "    </tr>\n",
       "  </tbody>\n",
       "</table>\n",
       "<p>1567 rows × 315 columns</p>\n",
       "</div>"
      ],
      "text/plain": [
       "      Pricing, Delivery_Terms_Quote_Appr  Pricing, Delivery_Terms_Approved  \\\n",
       "0                                      0                                 0   \n",
       "1                                      0                                 0   \n",
       "2                                      0                                 0   \n",
       "3                                      0                                 0   \n",
       "4                                      0                                 0   \n",
       "...                                  ...                               ...   \n",
       "1562                                   1                                 1   \n",
       "1563                                   1                                 1   \n",
       "1564                                   1                                 1   \n",
       "1565                                   1                                 1   \n",
       "1566                                   1                                 1   \n",
       "\n",
       "      Bureaucratic_Code_0_Approval  Bureaucratic_Code_0_Approved  \\\n",
       "0                                0                             0   \n",
       "1                                0                             0   \n",
       "2                                0                             0   \n",
       "3                                0                             0   \n",
       "4                                0                             0   \n",
       "...                            ...                           ...   \n",
       "1562                             1                             1   \n",
       "1563                             0                             0   \n",
       "1564                             1                             1   \n",
       "1565                             1                             1   \n",
       "1566                             1                             1   \n",
       "\n",
       "      Submitted_for_Approval  Account_Created_Date_Day  \\\n",
       "0                          0                        20   \n",
       "1                          0                        22   \n",
       "2                          0                        22   \n",
       "3                          0                         4   \n",
       "4                          0                         4   \n",
       "...                      ...                       ...   \n",
       "1562                       0                        21   \n",
       "1563                       0                        17   \n",
       "1564                       0                        15   \n",
       "1565                       0                        28   \n",
       "1566                       0                        28   \n",
       "\n",
       "      Account_Created_Date_Month  Account_Created_Date_Year  Opportunity_ID  \\\n",
       "0                              2                       2017           12173   \n",
       "1                              8                       2018           12172   \n",
       "2                              8                       2018           11408   \n",
       "3                              4                       2019           12232   \n",
       "4                              4                       2019           12233   \n",
       "...                          ...                        ...             ...   \n",
       "1562                           8                       2017           11758   \n",
       "1563                          10                       2018           10721   \n",
       "1564                          10                       2018           11757   \n",
       "1565                          12                       2017           10851   \n",
       "1566                          12                       2017           10880   \n",
       "\n",
       "      Sales_Contract_No  ...  Bit_Total_Taxable_Amount_Currency_0  \\\n",
       "0                     0  ...                                    0   \n",
       "1                     0  ...                                    0   \n",
       "2                     0  ...                                    0   \n",
       "3                     0  ...                                    0   \n",
       "4                     0  ...                                    0   \n",
       "...                 ...  ...                                  ...   \n",
       "1562                  0  ...                                    0   \n",
       "1563                  0  ...                                    0   \n",
       "1564                  0  ...                                    0   \n",
       "1565                  0  ...                                    0   \n",
       "1566                  0  ...                                    0   \n",
       "\n",
       "      Bit_Total_Taxable_Amount_Currency_1  \\\n",
       "0                                       0   \n",
       "1                                       0   \n",
       "2                                       0   \n",
       "3                                       0   \n",
       "4                                       0   \n",
       "...                                   ...   \n",
       "1562                                    0   \n",
       "1563                                    0   \n",
       "1564                                    0   \n",
       "1565                                    0   \n",
       "1566                                    0   \n",
       "\n",
       "      Bit_Total_Taxable_Amount_Currency_2  \\\n",
       "0                                       0   \n",
       "1                                       0   \n",
       "2                                       0   \n",
       "3                                       0   \n",
       "4                                       0   \n",
       "...                                   ...   \n",
       "1562                                    0   \n",
       "1563                                    0   \n",
       "1564                                    0   \n",
       "1565                                    0   \n",
       "1566                                    0   \n",
       "\n",
       "      Bit_Total_Taxable_Amount_Currency_3  Bit_Prod_Category_A_0  \\\n",
       "0                                       1                      1   \n",
       "1                                       1                      1   \n",
       "2                                       1                      1   \n",
       "3                                       1                      1   \n",
       "4                                       1                      1   \n",
       "...                                   ...                    ...   \n",
       "1562                                    1                      1   \n",
       "1563                                    1                      1   \n",
       "1564                                    1                      1   \n",
       "1565                                    1                      1   \n",
       "1566                                    1                      1   \n",
       "\n",
       "      Bit_ASP_Currency_0  Bit_ASP_Currency_1  Bit_ASP_Currency_2  \\\n",
       "0                      0                   0                   0   \n",
       "1                      0                   0                   0   \n",
       "2                      0                   0                   0   \n",
       "3                      0                   0                   0   \n",
       "4                      0                   0                   0   \n",
       "...                  ...                 ...                 ...   \n",
       "1562                   0                   0                   0   \n",
       "1563                   0                   0                   0   \n",
       "1564                   0                   0                   0   \n",
       "1565                   0                   0                   0   \n",
       "1566                   0                   0                   0   \n",
       "\n",
       "      Bit_ASP_Currency_3  Bit_ASP_(converted)_Currency_0  \n",
       "0                      1                               1  \n",
       "1                      1                               1  \n",
       "2                      1                               1  \n",
       "3                      1                               1  \n",
       "4                      1                               1  \n",
       "...                  ...                             ...  \n",
       "1562                   1                               1  \n",
       "1563                   1                               1  \n",
       "1564                   1                               1  \n",
       "1565                   1                               1  \n",
       "1566                   1                               1  \n",
       "\n",
       "[1567 rows x 315 columns]"
      ]
     },
     "execution_count": 192,
     "metadata": {},
     "output_type": "execute_result"
    }
   ],
   "source": [
    "url_test=\"https://raw.githubusercontent.com/joacols/TP_orga_de_datos/main/Test_Preprocesado_TP2_Datos_2020-2C-encodeado.csv\"\n",
    "s=requests.get(url_test).content\n",
    "df_test=pd.read_csv(io.StringIO(s.decode('utf-8')))\n",
    "df_test"
   ]
  },
  {
   "cell_type": "code",
   "execution_count": 193,
   "metadata": {},
   "outputs": [],
   "source": [
    "x_test=df_test.drop(['Stage','Sales_Contract_No'], axis=1)"
   ]
  }
 ],
 "metadata": {
  "kernelspec": {
   "display_name": "Python 3",
   "language": "python",
   "name": "python3"
  },
  "language_info": {
   "codemirror_mode": {
    "name": "ipython",
    "version": 3
   },
   "file_extension": ".py",
   "mimetype": "text/x-python",
   "name": "python",
   "nbconvert_exporter": "python",
   "pygments_lexer": "ipython3",
   "version": "3.7.2"
  }
 },
 "nbformat": 4,
 "nbformat_minor": 4
}
