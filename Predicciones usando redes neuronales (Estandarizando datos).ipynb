{
 "cells": [
  {
   "cell_type": "code",
   "execution_count": 112,
   "metadata": {},
   "outputs": [],
   "source": [
    "import pandas as pd\n",
    "import numpy as np\n",
    "import matplotlib.pyplot as plt\n",
    "from matplotlib.legend import Legend\n",
    "import matplotlib.patches as mpatches\n",
    "import seaborn as sns\n",
    "#from statsmodels.graphics.mosaicplot import mosaic\n",
    "import io\n",
    "import requests\n",
    "\n",
    "%matplotlib inline\n",
    "\n",
    "\n",
    "#import xgboost as xgb\n",
    "#from xgboost import XGBClassifier\n",
    "from sklearn.ensemble import RandomForestRegressor\n",
    "from sklearn.metrics import mean_squared_error\n",
    "from sklearn.metrics import accuracy_score\n",
    "import matplotlib.pyplot as plt\n",
    "from sklearn import tree\n",
    "\n",
    "from sklearn.metrics import log_loss"
   ]
  },
  {
   "cell_type": "markdown",
   "metadata": {},
   "source": [
    "### Lectura de datos del CSV y seteo del tipo para cada columna"
   ]
  },
  {
   "cell_type": "code",
   "execution_count": 113,
   "metadata": {},
   "outputs": [
    {
     "data": {
      "text/html": [
       "<div>\n",
       "<style scoped>\n",
       "    .dataframe tbody tr th:only-of-type {\n",
       "        vertical-align: middle;\n",
       "    }\n",
       "\n",
       "    .dataframe tbody tr th {\n",
       "        vertical-align: top;\n",
       "    }\n",
       "\n",
       "    .dataframe thead th {\n",
       "        text-align: right;\n",
       "    }\n",
       "</style>\n",
       "<table border=\"1\" class=\"dataframe\">\n",
       "  <thead>\n",
       "    <tr style=\"text-align: right;\">\n",
       "      <th></th>\n",
       "      <th>Pricing, Delivery_Terms_Quote_Appr</th>\n",
       "      <th>Pricing, Delivery_Terms_Approved</th>\n",
       "      <th>Bureaucratic_Code_0_Approval</th>\n",
       "      <th>Bureaucratic_Code_0_Approved</th>\n",
       "      <th>Submitted_for_Approval</th>\n",
       "      <th>Account_Created_Date_Day</th>\n",
       "      <th>Account_Created_Date_Month</th>\n",
       "      <th>Account_Created_Date_Year</th>\n",
       "      <th>Opportunity_ID</th>\n",
       "      <th>Sales_Contract_No</th>\n",
       "      <th>...</th>\n",
       "      <th>Bit_Total_Taxable_Amount_Currency_0</th>\n",
       "      <th>Bit_Total_Taxable_Amount_Currency_1</th>\n",
       "      <th>Bit_Total_Taxable_Amount_Currency_2</th>\n",
       "      <th>Bit_Total_Taxable_Amount_Currency_3</th>\n",
       "      <th>Bit_Prod_Category_A_0</th>\n",
       "      <th>Bit_ASP_Currency_0</th>\n",
       "      <th>Bit_ASP_Currency_1</th>\n",
       "      <th>Bit_ASP_Currency_2</th>\n",
       "      <th>Bit_ASP_Currency_3</th>\n",
       "      <th>Bit_ASP_(converted)_Currency_0</th>\n",
       "    </tr>\n",
       "  </thead>\n",
       "  <tbody>\n",
       "    <tr>\n",
       "      <th>0</th>\n",
       "      <td>0</td>\n",
       "      <td>0</td>\n",
       "      <td>0</td>\n",
       "      <td>0</td>\n",
       "      <td>0</td>\n",
       "      <td>1</td>\n",
       "      <td>3</td>\n",
       "      <td>2017</td>\n",
       "      <td>960</td>\n",
       "      <td>0</td>\n",
       "      <td>...</td>\n",
       "      <td>0</td>\n",
       "      <td>0</td>\n",
       "      <td>0</td>\n",
       "      <td>1</td>\n",
       "      <td>1</td>\n",
       "      <td>0</td>\n",
       "      <td>0</td>\n",
       "      <td>0</td>\n",
       "      <td>1</td>\n",
       "      <td>1</td>\n",
       "    </tr>\n",
       "    <tr>\n",
       "      <th>1</th>\n",
       "      <td>0</td>\n",
       "      <td>0</td>\n",
       "      <td>0</td>\n",
       "      <td>0</td>\n",
       "      <td>0</td>\n",
       "      <td>1</td>\n",
       "      <td>3</td>\n",
       "      <td>2017</td>\n",
       "      <td>959</td>\n",
       "      <td>0</td>\n",
       "      <td>...</td>\n",
       "      <td>0</td>\n",
       "      <td>0</td>\n",
       "      <td>0</td>\n",
       "      <td>1</td>\n",
       "      <td>1</td>\n",
       "      <td>0</td>\n",
       "      <td>0</td>\n",
       "      <td>0</td>\n",
       "      <td>1</td>\n",
       "      <td>1</td>\n",
       "    </tr>\n",
       "    <tr>\n",
       "      <th>2</th>\n",
       "      <td>0</td>\n",
       "      <td>0</td>\n",
       "      <td>0</td>\n",
       "      <td>0</td>\n",
       "      <td>0</td>\n",
       "      <td>1</td>\n",
       "      <td>3</td>\n",
       "      <td>2017</td>\n",
       "      <td>961</td>\n",
       "      <td>0</td>\n",
       "      <td>...</td>\n",
       "      <td>0</td>\n",
       "      <td>0</td>\n",
       "      <td>0</td>\n",
       "      <td>1</td>\n",
       "      <td>1</td>\n",
       "      <td>0</td>\n",
       "      <td>0</td>\n",
       "      <td>0</td>\n",
       "      <td>1</td>\n",
       "      <td>1</td>\n",
       "    </tr>\n",
       "    <tr>\n",
       "      <th>3</th>\n",
       "      <td>0</td>\n",
       "      <td>0</td>\n",
       "      <td>0</td>\n",
       "      <td>0</td>\n",
       "      <td>0</td>\n",
       "      <td>1</td>\n",
       "      <td>3</td>\n",
       "      <td>2017</td>\n",
       "      <td>956</td>\n",
       "      <td>0</td>\n",
       "      <td>...</td>\n",
       "      <td>0</td>\n",
       "      <td>0</td>\n",
       "      <td>0</td>\n",
       "      <td>1</td>\n",
       "      <td>1</td>\n",
       "      <td>0</td>\n",
       "      <td>0</td>\n",
       "      <td>0</td>\n",
       "      <td>1</td>\n",
       "      <td>1</td>\n",
       "    </tr>\n",
       "    <tr>\n",
       "      <th>4</th>\n",
       "      <td>0</td>\n",
       "      <td>0</td>\n",
       "      <td>0</td>\n",
       "      <td>0</td>\n",
       "      <td>0</td>\n",
       "      <td>19</td>\n",
       "      <td>9</td>\n",
       "      <td>2014</td>\n",
       "      <td>6985</td>\n",
       "      <td>3681</td>\n",
       "      <td>...</td>\n",
       "      <td>0</td>\n",
       "      <td>0</td>\n",
       "      <td>0</td>\n",
       "      <td>1</td>\n",
       "      <td>1</td>\n",
       "      <td>0</td>\n",
       "      <td>0</td>\n",
       "      <td>0</td>\n",
       "      <td>1</td>\n",
       "      <td>1</td>\n",
       "    </tr>\n",
       "  </tbody>\n",
       "</table>\n",
       "<p>5 rows × 315 columns</p>\n",
       "</div>"
      ],
      "text/plain": [
       "   Pricing, Delivery_Terms_Quote_Appr  Pricing, Delivery_Terms_Approved  \\\n",
       "0                                   0                                 0   \n",
       "1                                   0                                 0   \n",
       "2                                   0                                 0   \n",
       "3                                   0                                 0   \n",
       "4                                   0                                 0   \n",
       "\n",
       "   Bureaucratic_Code_0_Approval  Bureaucratic_Code_0_Approved  \\\n",
       "0                             0                             0   \n",
       "1                             0                             0   \n",
       "2                             0                             0   \n",
       "3                             0                             0   \n",
       "4                             0                             0   \n",
       "\n",
       "   Submitted_for_Approval  Account_Created_Date_Day  \\\n",
       "0                       0                         1   \n",
       "1                       0                         1   \n",
       "2                       0                         1   \n",
       "3                       0                         1   \n",
       "4                       0                        19   \n",
       "\n",
       "   Account_Created_Date_Month  Account_Created_Date_Year  Opportunity_ID  \\\n",
       "0                           3                       2017             960   \n",
       "1                           3                       2017             959   \n",
       "2                           3                       2017             961   \n",
       "3                           3                       2017             956   \n",
       "4                           9                       2014            6985   \n",
       "\n",
       "   Sales_Contract_No  ...  Bit_Total_Taxable_Amount_Currency_0  \\\n",
       "0                  0  ...                                    0   \n",
       "1                  0  ...                                    0   \n",
       "2                  0  ...                                    0   \n",
       "3                  0  ...                                    0   \n",
       "4               3681  ...                                    0   \n",
       "\n",
       "   Bit_Total_Taxable_Amount_Currency_1  Bit_Total_Taxable_Amount_Currency_2  \\\n",
       "0                                    0                                    0   \n",
       "1                                    0                                    0   \n",
       "2                                    0                                    0   \n",
       "3                                    0                                    0   \n",
       "4                                    0                                    0   \n",
       "\n",
       "   Bit_Total_Taxable_Amount_Currency_3  Bit_Prod_Category_A_0  \\\n",
       "0                                    1                      1   \n",
       "1                                    1                      1   \n",
       "2                                    1                      1   \n",
       "3                                    1                      1   \n",
       "4                                    1                      1   \n",
       "\n",
       "   Bit_ASP_Currency_0  Bit_ASP_Currency_1  Bit_ASP_Currency_2  \\\n",
       "0                   0                   0                   0   \n",
       "1                   0                   0                   0   \n",
       "2                   0                   0                   0   \n",
       "3                   0                   0                   0   \n",
       "4                   0                   0                   0   \n",
       "\n",
       "  Bit_ASP_Currency_3  Bit_ASP_(converted)_Currency_0  \n",
       "0                  1                               1  \n",
       "1                  1                               1  \n",
       "2                  1                               1  \n",
       "3                  1                               1  \n",
       "4                  1                               1  \n",
       "\n",
       "[5 rows x 315 columns]"
      ]
     },
     "execution_count": 113,
     "metadata": {},
     "output_type": "execute_result"
    }
   ],
   "source": [
    "url_train=\"https://raw.githubusercontent.com/joacols/TP_orga_de_datos/main/Train_Preprocesado_TP2_Datos_2020-2C-encodeado.csv\"\n",
    "s_train=requests.get(url_train).content\n",
    "df_train=pd.read_csv(io.StringIO(s_train.decode('utf-8')),\n",
    "\n",
    "#df = pd.read_csv('Entrenamieto_ECI_2020.csv',\n",
    "dtype={\n",
    "'ID': np.int64,\n",
    "'Pricing, Delivery_Terms_Quote_Approval': np.int64,\n",
    "'Pricing, Delivery_Terms_Approved': np.int64,\n",
    "'Bureaucratic_Code_0_Approval': np.int64,\n",
    "'Bureaucratic_Code_0_Approved': np.int64,\n",
    "'Submitted_for_Approval': np.int64,\n",
    "'Opportunity_ID': np.int64,\n",
    "#'Sales_Contract_No': np.int64,\n",
    "'Delivery_Year': np.int64,\n",
    "'Total_Power': np.int64,\n",
    "#'Price':np.float64,\n",
    "'ASP':np.float64,\n",
    "'ASP_(converted)':np.float64,\n",
    "'Total_Amount':np.float64},\n",
    "#parse_dates=[\n",
    "#'Account_Created_Date',\n",
    "#'Planned_Delivery_Start_Date',\n",
    "#'Planned_Delivery_End_Date',\n",
    "#'Opportunity_Created_Date',\n",
    "#'Last_Activity',\n",
    "#'Quote_Expiry_Date',\n",
    "#'Actual_Delivery_Date',\n",
    "#'Last_Modified_Date'\n",
    "#]\n",
    ")\n",
    "\n",
    "df_train.head()"
   ]
  },
  {
   "cell_type": "code",
   "execution_count": 114,
   "metadata": {},
   "outputs": [
    {
     "data": {
      "text/html": [
       "<div>\n",
       "<style scoped>\n",
       "    .dataframe tbody tr th:only-of-type {\n",
       "        vertical-align: middle;\n",
       "    }\n",
       "\n",
       "    .dataframe tbody tr th {\n",
       "        vertical-align: top;\n",
       "    }\n",
       "\n",
       "    .dataframe thead th {\n",
       "        text-align: right;\n",
       "    }\n",
       "</style>\n",
       "<table border=\"1\" class=\"dataframe\">\n",
       "  <thead>\n",
       "    <tr style=\"text-align: right;\">\n",
       "      <th></th>\n",
       "      <th>Pricing, Delivery_Terms_Quote_Appr</th>\n",
       "      <th>Pricing, Delivery_Terms_Approved</th>\n",
       "      <th>Bureaucratic_Code_0_Approval</th>\n",
       "      <th>Bureaucratic_Code_0_Approved</th>\n",
       "      <th>Submitted_for_Approval</th>\n",
       "      <th>Account_Created_Date_Day</th>\n",
       "      <th>Account_Created_Date_Month</th>\n",
       "      <th>Account_Created_Date_Year</th>\n",
       "      <th>Opportunity_ID</th>\n",
       "      <th>Sales_Contract_No</th>\n",
       "      <th>...</th>\n",
       "      <th>Bit_Total_Taxable_Amount_Currency_0</th>\n",
       "      <th>Bit_Total_Taxable_Amount_Currency_1</th>\n",
       "      <th>Bit_Total_Taxable_Amount_Currency_2</th>\n",
       "      <th>Bit_Total_Taxable_Amount_Currency_3</th>\n",
       "      <th>Bit_Prod_Category_A_0</th>\n",
       "      <th>Bit_ASP_Currency_0</th>\n",
       "      <th>Bit_ASP_Currency_1</th>\n",
       "      <th>Bit_ASP_Currency_2</th>\n",
       "      <th>Bit_ASP_Currency_3</th>\n",
       "      <th>Bit_ASP_(converted)_Currency_0</th>\n",
       "    </tr>\n",
       "  </thead>\n",
       "  <tbody>\n",
       "    <tr>\n",
       "      <th>0</th>\n",
       "      <td>0</td>\n",
       "      <td>0</td>\n",
       "      <td>0</td>\n",
       "      <td>0</td>\n",
       "      <td>0</td>\n",
       "      <td>20</td>\n",
       "      <td>2</td>\n",
       "      <td>2017</td>\n",
       "      <td>12173</td>\n",
       "      <td>0</td>\n",
       "      <td>...</td>\n",
       "      <td>0</td>\n",
       "      <td>0</td>\n",
       "      <td>0</td>\n",
       "      <td>1</td>\n",
       "      <td>1</td>\n",
       "      <td>0</td>\n",
       "      <td>0</td>\n",
       "      <td>0</td>\n",
       "      <td>1</td>\n",
       "      <td>1</td>\n",
       "    </tr>\n",
       "    <tr>\n",
       "      <th>1</th>\n",
       "      <td>0</td>\n",
       "      <td>0</td>\n",
       "      <td>0</td>\n",
       "      <td>0</td>\n",
       "      <td>0</td>\n",
       "      <td>22</td>\n",
       "      <td>8</td>\n",
       "      <td>2018</td>\n",
       "      <td>12172</td>\n",
       "      <td>0</td>\n",
       "      <td>...</td>\n",
       "      <td>0</td>\n",
       "      <td>0</td>\n",
       "      <td>0</td>\n",
       "      <td>1</td>\n",
       "      <td>1</td>\n",
       "      <td>0</td>\n",
       "      <td>0</td>\n",
       "      <td>0</td>\n",
       "      <td>1</td>\n",
       "      <td>1</td>\n",
       "    </tr>\n",
       "    <tr>\n",
       "      <th>2</th>\n",
       "      <td>0</td>\n",
       "      <td>0</td>\n",
       "      <td>0</td>\n",
       "      <td>0</td>\n",
       "      <td>0</td>\n",
       "      <td>22</td>\n",
       "      <td>8</td>\n",
       "      <td>2018</td>\n",
       "      <td>11408</td>\n",
       "      <td>0</td>\n",
       "      <td>...</td>\n",
       "      <td>0</td>\n",
       "      <td>0</td>\n",
       "      <td>0</td>\n",
       "      <td>1</td>\n",
       "      <td>1</td>\n",
       "      <td>0</td>\n",
       "      <td>0</td>\n",
       "      <td>0</td>\n",
       "      <td>1</td>\n",
       "      <td>1</td>\n",
       "    </tr>\n",
       "    <tr>\n",
       "      <th>3</th>\n",
       "      <td>0</td>\n",
       "      <td>0</td>\n",
       "      <td>0</td>\n",
       "      <td>0</td>\n",
       "      <td>0</td>\n",
       "      <td>4</td>\n",
       "      <td>4</td>\n",
       "      <td>2019</td>\n",
       "      <td>12232</td>\n",
       "      <td>0</td>\n",
       "      <td>...</td>\n",
       "      <td>0</td>\n",
       "      <td>0</td>\n",
       "      <td>0</td>\n",
       "      <td>1</td>\n",
       "      <td>1</td>\n",
       "      <td>0</td>\n",
       "      <td>0</td>\n",
       "      <td>0</td>\n",
       "      <td>1</td>\n",
       "      <td>1</td>\n",
       "    </tr>\n",
       "    <tr>\n",
       "      <th>4</th>\n",
       "      <td>0</td>\n",
       "      <td>0</td>\n",
       "      <td>0</td>\n",
       "      <td>0</td>\n",
       "      <td>0</td>\n",
       "      <td>4</td>\n",
       "      <td>4</td>\n",
       "      <td>2019</td>\n",
       "      <td>12233</td>\n",
       "      <td>0</td>\n",
       "      <td>...</td>\n",
       "      <td>0</td>\n",
       "      <td>0</td>\n",
       "      <td>0</td>\n",
       "      <td>1</td>\n",
       "      <td>1</td>\n",
       "      <td>0</td>\n",
       "      <td>0</td>\n",
       "      <td>0</td>\n",
       "      <td>1</td>\n",
       "      <td>1</td>\n",
       "    </tr>\n",
       "  </tbody>\n",
       "</table>\n",
       "<p>5 rows × 315 columns</p>\n",
       "</div>"
      ],
      "text/plain": [
       "   Pricing, Delivery_Terms_Quote_Appr  Pricing, Delivery_Terms_Approved  \\\n",
       "0                                   0                                 0   \n",
       "1                                   0                                 0   \n",
       "2                                   0                                 0   \n",
       "3                                   0                                 0   \n",
       "4                                   0                                 0   \n",
       "\n",
       "   Bureaucratic_Code_0_Approval  Bureaucratic_Code_0_Approved  \\\n",
       "0                             0                             0   \n",
       "1                             0                             0   \n",
       "2                             0                             0   \n",
       "3                             0                             0   \n",
       "4                             0                             0   \n",
       "\n",
       "   Submitted_for_Approval  Account_Created_Date_Day  \\\n",
       "0                       0                        20   \n",
       "1                       0                        22   \n",
       "2                       0                        22   \n",
       "3                       0                         4   \n",
       "4                       0                         4   \n",
       "\n",
       "   Account_Created_Date_Month  Account_Created_Date_Year  Opportunity_ID  \\\n",
       "0                           2                       2017           12173   \n",
       "1                           8                       2018           12172   \n",
       "2                           8                       2018           11408   \n",
       "3                           4                       2019           12232   \n",
       "4                           4                       2019           12233   \n",
       "\n",
       "   Sales_Contract_No  ...  Bit_Total_Taxable_Amount_Currency_0  \\\n",
       "0                  0  ...                                    0   \n",
       "1                  0  ...                                    0   \n",
       "2                  0  ...                                    0   \n",
       "3                  0  ...                                    0   \n",
       "4                  0  ...                                    0   \n",
       "\n",
       "   Bit_Total_Taxable_Amount_Currency_1  Bit_Total_Taxable_Amount_Currency_2  \\\n",
       "0                                    0                                    0   \n",
       "1                                    0                                    0   \n",
       "2                                    0                                    0   \n",
       "3                                    0                                    0   \n",
       "4                                    0                                    0   \n",
       "\n",
       "   Bit_Total_Taxable_Amount_Currency_3  Bit_Prod_Category_A_0  \\\n",
       "0                                    1                      1   \n",
       "1                                    1                      1   \n",
       "2                                    1                      1   \n",
       "3                                    1                      1   \n",
       "4                                    1                      1   \n",
       "\n",
       "   Bit_ASP_Currency_0  Bit_ASP_Currency_1  Bit_ASP_Currency_2  \\\n",
       "0                   0                   0                   0   \n",
       "1                   0                   0                   0   \n",
       "2                   0                   0                   0   \n",
       "3                   0                   0                   0   \n",
       "4                   0                   0                   0   \n",
       "\n",
       "   Bit_ASP_Currency_3  Bit_ASP_(converted)_Currency_0  \n",
       "0                   1                               1  \n",
       "1                   1                               1  \n",
       "2                   1                               1  \n",
       "3                   1                               1  \n",
       "4                   1                               1  \n",
       "\n",
       "[5 rows x 315 columns]"
      ]
     },
     "execution_count": 114,
     "metadata": {},
     "output_type": "execute_result"
    }
   ],
   "source": [
    "url_test=\"https://raw.githubusercontent.com/joacols/TP_orga_de_datos/main/Test_Preprocesado_TP2_Datos_2020-2C-encodeado.csv\"\n",
    "s_test=requests.get(url_test).content\n",
    "df_test=pd.read_csv(io.StringIO(s_test.decode('utf-8')),\n",
    "\n",
    "#df = pd.read_csv('Entrenamieto_ECI_2020.csv',\n",
    "dtype={\n",
    "'ID': np.int64,\n",
    "'Pricing, Delivery_Terms_Quote_Approval': np.int64,\n",
    "'Pricing, Delivery_Terms_Approved': np.int64,\n",
    "'Bureaucratic_Code_0_Approval': np.int64,\n",
    "'Bureaucratic_Code_0_Approved': np.int64,\n",
    "'Submitted_for_Approval': np.int64,\n",
    "'Opportunity_ID': np.int64,\n",
    "#'Sales_Contract_No': np.int64,\n",
    "'Delivery_Year': np.int64,\n",
    "'Total_Power': np.int64,\n",
    "#'Price':np.float64,\n",
    "'ASP':np.float64,\n",
    "'ASP_(converted)':np.float64,\n",
    "'Total_Amount':np.float64},\n",
    "#parse_dates=[\n",
    "#'Account_Created_Date',\n",
    "#'Planned_Delivery_Start_Date',\n",
    "#'Planned_Delivery_End_Date',\n",
    "#'Opportunity_Created_Date',\n",
    "#'Last_Activity',\n",
    "#'Quote_Expiry_Date',\n",
    "#'Actual_Delivery_Date',\n",
    "#'Last_Modified_Date'\n",
    "#]\n",
    ")\n",
    "\n",
    "df_test.head()"
   ]
  },
  {
   "cell_type": "code",
   "execution_count": 115,
   "metadata": {},
   "outputs": [
    {
     "data": {
      "text/plain": [
       "(9841, 315)"
      ]
     },
     "execution_count": 115,
     "metadata": {},
     "output_type": "execute_result"
    }
   ],
   "source": [
    "df_train.shape"
   ]
  },
  {
   "cell_type": "code",
   "execution_count": 116,
   "metadata": {},
   "outputs": [
    {
     "data": {
      "text/plain": [
       "(1567, 315)"
      ]
     },
     "execution_count": 116,
     "metadata": {},
     "output_type": "execute_result"
    }
   ],
   "source": [
    "df_test.shape"
   ]
  },
  {
   "cell_type": "markdown",
   "metadata": {},
   "source": [
    "## Realizamos el preprocesamiento sobre los datos "
   ]
  },
  {
   "cell_type": "markdown",
   "metadata": {},
   "source": [
    "from sklearn import preprocessing\n",
    "lbl = preprocessing.LabelEncoder()\n",
    "df2_train = df_train\n",
    "df2_train['Region'] = lbl.fit_transform(df2_train['Region'].astype(str))\n",
    "df2_train['Territory'] = lbl.fit_transform(df2_train['Territory'].astype(str))\n",
    "df2_train['Bureaucratic_Code'] = lbl.fit_transform(df2_train['Bureaucratic_Code'].astype(str))\n",
    "df2_train['Source '] = lbl.fit_transform(df2_train['Source '].astype(str))\n",
    "df2_train['Billing_Country'] = lbl.fit_transform(df2_train['Billing_Country'].astype(str))\n",
    "df2_train['Account_Name'] = lbl.fit_transform(df2_train['Account_Name'].astype(str))\n",
    "df2_train['Opportunity_Name'] = lbl.fit_transform(df2_train['Opportunity_Name'].astype(str))\n",
    "df2_train['Account_Owner'] = lbl.fit_transform(df2_train['Account_Owner'].astype(str))\n",
    "df2_train['Opportunity_Owner'] = lbl.fit_transform(df2_train['Opportunity_Owner'].astype(str))\n",
    "df2_train['Account_Type'] = lbl.fit_transform(df2_train['Account_Type'].astype(str))\n",
    "df2_train['Opportunity_Type'] = lbl.fit_transform(df2_train['Opportunity_Type'].astype(str))\n",
    "df2_train['Quote_Type'] = lbl.fit_transform(df2_train['Quote_Type'].astype(str))\n",
    "df2_train['Delivery_Terms'] = lbl.fit_transform(df2_train['Delivery_Terms'].astype(str))\n",
    "df2_train['Brand'] = lbl.fit_transform(df2_train['Brand'].astype(str))\n",
    "df2_train['Product_Type'] = lbl.fit_transform(df2_train['Product_Type'].astype(str))\n",
    "df2_train['Size'] = lbl.fit_transform(df2_train['Size'].astype(str))\n",
    "df2_train['Product_Category_B'] = lbl.fit_transform(df2_train['Product_Category_B'].astype(str))\n",
    "df2_train['Price'] = lbl.fit_transform(df2_train['Price'].astype(str))\n",
    "df2_train['Currency'] = lbl.fit_transform(df2_train['Currency'].astype(str))\n",
    "df2_train['Last_Modified_By'] = lbl.fit_transform(df2_train['Last_Modified_By'].astype(str))\n",
    "#df2_train['Product_Family'] = lbl.fit_transform(df2_train['Product_Family'].astype(str))\n",
    "#df2_train['Product_Name'] = lbl.fit_transform(df2_train['Product_Name'].astype(str))\n",
    "df2_train['ASP_Currency'] = lbl.fit_transform(df2_train['ASP_Currency'].astype(str))\n",
    "df2_train['ASP_(converted)_Currency'] = lbl.fit_transform(df2_train['ASP_(converted)_Currency'].astype(str))\n",
    "#df2_train['Month'] = lbl.fit_transform(df2_train['Month'].astype(str))\n",
    "#df2_train['Delivery_Quarter'] = lbl.fit_transform(df2_train['Delivery_Quarter'].astype(str))\n",
    "df2_train['Total_Amount_Currency'] = lbl.fit_transform(df2_train['Total_Amount_Currency'].astype(str))\n",
    "df2_train['Total_Taxable_Amount_Currency'] = lbl.fit_transform(df2_train['Total_Taxable_Amount_Currency'].astype(str))\n",
    "df2_train['Prod_Category_A'] = lbl.fit_transform(df2_train['Prod_Category_A'].astype(str))\n",
    "\n",
    "#df2_train['Account_Created_Date'] = lbl.fit_transform(df2_train['Account_Created_Date'].astype(str))\n",
    "#df2_train['Opportunity_Created_Date'] = lbl.fit_transform(df2_train['Opportunity_Created_Date'].astype(str))\n",
    "#df2_train['Last_Activity'] = lbl.fit_transform(df2_train['Last_Activity'].astype(str))\n",
    "#df2_train['Quote_Expiry_Date'] = lbl.fit_transform(df2_train['Quote_Expiry_Date'].astype(str))\n",
    "#df2_train['Last_Modified_Date'] = lbl.fit_transform(df2_train['Last_Modified_Date'].astype(str))\n",
    "#df2_train['Planned_Delivery_Start_Date'] = lbl.fit_transform(df2_train['Planned_Delivery_Start_Date'].astype(str))\n",
    "#df2_train['Planned_Delivery_End_Date'] = lbl.fit_transform(df2_train['Planned_Delivery_End_Date'].astype(str))\n",
    "#df2_train['Actual_Delivery_Date'] = lbl.fit_transform(df2_train['Actual_Delivery_Date'].astype(str))\n"
   ]
  },
  {
   "cell_type": "markdown",
   "metadata": {},
   "source": [
    "df2_test = df_test\n",
    "df2_test['Region'] = lbl.fit_transform(df2_test['Region'].astype(str))\n",
    "df2_test['Territory'] = lbl.fit_transform(df2_test['Territory'].astype(str))\n",
    "df2_test['Bureaucratic_Code'] = lbl.fit_transform(df2_test['Bureaucratic_Code'].astype(str))\n",
    "df2_test['Source '] = lbl.fit_transform(df2_test['Source '].astype(str))\n",
    "df2_test['Billing_Country'] = lbl.fit_transform(df2_test['Billing_Country'].astype(str))\n",
    "df2_test['Account_Name'] = lbl.fit_transform(df2_test['Account_Name'].astype(str))\n",
    "df2_test['Opportunity_Name'] = lbl.fit_transform(df2_test['Opportunity_Name'].astype(str))\n",
    "df2_test['Account_Owner'] = lbl.fit_transform(df2_test['Account_Owner'].astype(str))\n",
    "df2_test['Opportunity_Owner'] = lbl.fit_transform(df2_test['Opportunity_Owner'].astype(str))\n",
    "df2_test['Account_Type'] = lbl.fit_transform(df2_test['Account_Type'].astype(str))\n",
    "df2_test['Opportunity_Type'] = lbl.fit_transform(df2_test['Opportunity_Type'].astype(str))\n",
    "df2_test['Quote_Type'] = lbl.fit_transform(df2_test['Quote_Type'].astype(str))\n",
    "df2_test['Delivery_Terms'] = lbl.fit_transform(df2_test['Delivery_Terms'].astype(str))\n",
    "df2_test['Brand'] = lbl.fit_transform(df2_test['Brand'].astype(str))\n",
    "df2_test['Product_Type'] = lbl.fit_transform(df2_test['Product_Type'].astype(str))\n",
    "df2_test['Size'] = lbl.fit_transform(df2_test['Size'].astype(str))\n",
    "df2_test['Product_Category_B'] = lbl.fit_transform(df2_test['Product_Category_B'].astype(str))\n",
    "df2_test['Price'] = lbl.fit_transform(df2_test['Price'].astype(str))\n",
    "df2_test['Currency'] = lbl.fit_transform(df2_test['Currency'].astype(str))\n",
    "df2_test['Last_Modified_By'] = lbl.fit_transform(df2_test['Last_Modified_By'].astype(str))\n",
    "#df2_train['Product_Family'] = lbl.fit_transform(df2_train['Product_Family'].astype(str))\n",
    "#df2_train['Product_Name'] = lbl.fit_transform(df2_train['Product_Name'].astype(str))\n",
    "df2_test['ASP_Currency'] = lbl.fit_transform(df2_test['ASP_Currency'].astype(str))\n",
    "df2_test['ASP_(converted)_Currency'] = lbl.fit_transform(df2_test['ASP_(converted)_Currency'].astype(str))\n",
    "#df2_train['Month'] = lbl.fit_transform(df2_train['Month'].astype(str))\n",
    "#df2_train['Delivery_Quarter'] = lbl.fit_transform(df2_train['Delivery_Quarter'].astype(str))\n",
    "df2_test['Total_Amount_Currency'] = lbl.fit_transform(df2_test['Total_Amount_Currency'].astype(str))\n",
    "df2_test['Total_Taxable_Amount_Currency'] = lbl.fit_transform(df2_test['Total_Taxable_Amount_Currency'].astype(str))\n",
    "df2_test['Prod_Category_A'] = lbl.fit_transform(df2_test['Prod_Category_A'].astype(str))\n",
    "\n",
    "#df2_train['Account_Created_Date'] = lbl.fit_transform(df2_train['Account_Created_Date'].astype(str))\n",
    "#df2_train['Opportunity_Created_Date'] = lbl.fit_transform(df2_train['Opportunity_Created_Date'].astype(str))\n",
    "#df2_train['Last_Activity'] = lbl.fit_transform(df2_train['Last_Activity'].astype(str))\n",
    "#df2_train['Quote_Expiry_Date'] = lbl.fit_transform(df2_train['Quote_Expiry_Date'].astype(str))\n",
    "#df2_train['Last_Modified_Date'] = lbl.fit_transform(df2_train['Last_Modified_Date'].astype(str))\n",
    "#df2_train['Planned_Delivery_Start_Date'] = lbl.fit_transform(df2_train['Planned_Delivery_Start_Date'].astype(str))\n",
    "#df2_train['Planned_Delivery_End_Date'] = lbl.fit_transform(df2_train['Planned_Delivery_End_Date'].astype(str))\n",
    "#df2_train['Actual_Delivery_Date'] = lbl.fit_transform(df2_train['Actual_Delivery_Date'].astype(str))\n"
   ]
  },
  {
   "cell_type": "code",
   "execution_count": 117,
   "metadata": {},
   "outputs": [
    {
     "data": {
      "text/plain": [
       "Index(['Pricing, Delivery_Terms_Quote_Appr',\n",
       "       'Pricing, Delivery_Terms_Approved', 'Bureaucratic_Code_0_Approval',\n",
       "       'Bureaucratic_Code_0_Approved', 'Submitted_for_Approval',\n",
       "       'Account_Created_Date_Day', 'Account_Created_Date_Month',\n",
       "       'Account_Created_Date_Year', 'Opportunity_ID', 'Sales_Contract_No',\n",
       "       ...\n",
       "       'Bit_Total_Taxable_Amount_Currency_0',\n",
       "       'Bit_Total_Taxable_Amount_Currency_1',\n",
       "       'Bit_Total_Taxable_Amount_Currency_2',\n",
       "       'Bit_Total_Taxable_Amount_Currency_3', 'Bit_Prod_Category_A_0',\n",
       "       'Bit_ASP_Currency_0', 'Bit_ASP_Currency_1', 'Bit_ASP_Currency_2',\n",
       "       'Bit_ASP_Currency_3', 'Bit_ASP_(converted)_Currency_0'],\n",
       "      dtype='object', length=315)"
      ]
     },
     "execution_count": 117,
     "metadata": {},
     "output_type": "execute_result"
    }
   ],
   "source": [
    "df_train.columns"
   ]
  },
  {
   "cell_type": "code",
   "execution_count": 118,
   "metadata": {},
   "outputs": [],
   "source": [
    "from sklearn.preprocessing import StandardScaler "
   ]
  },
  {
   "cell_type": "code",
   "execution_count": 119,
   "metadata": {},
   "outputs": [],
   "source": [
    "train_scaled_features = df_train.copy()"
   ]
  },
  {
   "cell_type": "code",
   "execution_count": 120,
   "metadata": {},
   "outputs": [],
   "source": [
    "train_col_names = [\n",
    "    'Total_Taxable_Amount',\n",
    "\n",
    "    'Total_Amount_mean',\n",
    "    'Total_Amount_std',\n",
    "    'Total_Amount_min',\n",
    "    'Total_Amount_max',\n",
    "\n",
    "    'TRF_mean',\n",
    "    'TRF_std',\n",
    "    'TRF_min',\n",
    "    'TRF_max',\n",
    "\n",
    "    'ASP_mean',\n",
    "    'ASP_std',\n",
    "    'ASP_min',\n",
    "    'ASP_max',\n",
    "\n",
    "    'ASP_(converted)_mean',\n",
    "    'ASP_(converted)_std',\n",
    "    'ASP_(converted)_min',\n",
    "    'ASP_(converted)_max']\n",
    "train_features = train_scaled_features[train_col_names]\n",
    "train_scaler = StandardScaler().fit(train_features.values)\n",
    "train_features = train_scaler.transform(train_features.values)"
   ]
  },
  {
   "cell_type": "code",
   "execution_count": 121,
   "metadata": {},
   "outputs": [],
   "source": [
    "train_scaled_features[train_col_names] = train_features"
   ]
  },
  {
   "cell_type": "code",
   "execution_count": 122,
   "metadata": {},
   "outputs": [
    {
     "data": {
      "text/html": [
       "<div>\n",
       "<style scoped>\n",
       "    .dataframe tbody tr th:only-of-type {\n",
       "        vertical-align: middle;\n",
       "    }\n",
       "\n",
       "    .dataframe tbody tr th {\n",
       "        vertical-align: top;\n",
       "    }\n",
       "\n",
       "    .dataframe thead th {\n",
       "        text-align: right;\n",
       "    }\n",
       "</style>\n",
       "<table border=\"1\" class=\"dataframe\">\n",
       "  <thead>\n",
       "    <tr style=\"text-align: right;\">\n",
       "      <th></th>\n",
       "      <th>Pricing, Delivery_Terms_Quote_Appr</th>\n",
       "      <th>Pricing, Delivery_Terms_Approved</th>\n",
       "      <th>Bureaucratic_Code_0_Approval</th>\n",
       "      <th>Bureaucratic_Code_0_Approved</th>\n",
       "      <th>Submitted_for_Approval</th>\n",
       "      <th>Account_Created_Date_Day</th>\n",
       "      <th>Account_Created_Date_Month</th>\n",
       "      <th>Account_Created_Date_Year</th>\n",
       "      <th>Opportunity_ID</th>\n",
       "      <th>Sales_Contract_No</th>\n",
       "      <th>...</th>\n",
       "      <th>Bit_Total_Taxable_Amount_Currency_0</th>\n",
       "      <th>Bit_Total_Taxable_Amount_Currency_1</th>\n",
       "      <th>Bit_Total_Taxable_Amount_Currency_2</th>\n",
       "      <th>Bit_Total_Taxable_Amount_Currency_3</th>\n",
       "      <th>Bit_Prod_Category_A_0</th>\n",
       "      <th>Bit_ASP_Currency_0</th>\n",
       "      <th>Bit_ASP_Currency_1</th>\n",
       "      <th>Bit_ASP_Currency_2</th>\n",
       "      <th>Bit_ASP_Currency_3</th>\n",
       "      <th>Bit_ASP_(converted)_Currency_0</th>\n",
       "    </tr>\n",
       "  </thead>\n",
       "  <tbody>\n",
       "    <tr>\n",
       "      <th>0</th>\n",
       "      <td>0</td>\n",
       "      <td>0</td>\n",
       "      <td>0</td>\n",
       "      <td>0</td>\n",
       "      <td>0</td>\n",
       "      <td>1</td>\n",
       "      <td>3</td>\n",
       "      <td>2017</td>\n",
       "      <td>960</td>\n",
       "      <td>0</td>\n",
       "      <td>...</td>\n",
       "      <td>0</td>\n",
       "      <td>0</td>\n",
       "      <td>0</td>\n",
       "      <td>1</td>\n",
       "      <td>1</td>\n",
       "      <td>0</td>\n",
       "      <td>0</td>\n",
       "      <td>0</td>\n",
       "      <td>1</td>\n",
       "      <td>1</td>\n",
       "    </tr>\n",
       "    <tr>\n",
       "      <th>1</th>\n",
       "      <td>0</td>\n",
       "      <td>0</td>\n",
       "      <td>0</td>\n",
       "      <td>0</td>\n",
       "      <td>0</td>\n",
       "      <td>1</td>\n",
       "      <td>3</td>\n",
       "      <td>2017</td>\n",
       "      <td>959</td>\n",
       "      <td>0</td>\n",
       "      <td>...</td>\n",
       "      <td>0</td>\n",
       "      <td>0</td>\n",
       "      <td>0</td>\n",
       "      <td>1</td>\n",
       "      <td>1</td>\n",
       "      <td>0</td>\n",
       "      <td>0</td>\n",
       "      <td>0</td>\n",
       "      <td>1</td>\n",
       "      <td>1</td>\n",
       "    </tr>\n",
       "    <tr>\n",
       "      <th>2</th>\n",
       "      <td>0</td>\n",
       "      <td>0</td>\n",
       "      <td>0</td>\n",
       "      <td>0</td>\n",
       "      <td>0</td>\n",
       "      <td>1</td>\n",
       "      <td>3</td>\n",
       "      <td>2017</td>\n",
       "      <td>961</td>\n",
       "      <td>0</td>\n",
       "      <td>...</td>\n",
       "      <td>0</td>\n",
       "      <td>0</td>\n",
       "      <td>0</td>\n",
       "      <td>1</td>\n",
       "      <td>1</td>\n",
       "      <td>0</td>\n",
       "      <td>0</td>\n",
       "      <td>0</td>\n",
       "      <td>1</td>\n",
       "      <td>1</td>\n",
       "    </tr>\n",
       "    <tr>\n",
       "      <th>3</th>\n",
       "      <td>0</td>\n",
       "      <td>0</td>\n",
       "      <td>0</td>\n",
       "      <td>0</td>\n",
       "      <td>0</td>\n",
       "      <td>1</td>\n",
       "      <td>3</td>\n",
       "      <td>2017</td>\n",
       "      <td>956</td>\n",
       "      <td>0</td>\n",
       "      <td>...</td>\n",
       "      <td>0</td>\n",
       "      <td>0</td>\n",
       "      <td>0</td>\n",
       "      <td>1</td>\n",
       "      <td>1</td>\n",
       "      <td>0</td>\n",
       "      <td>0</td>\n",
       "      <td>0</td>\n",
       "      <td>1</td>\n",
       "      <td>1</td>\n",
       "    </tr>\n",
       "    <tr>\n",
       "      <th>4</th>\n",
       "      <td>0</td>\n",
       "      <td>0</td>\n",
       "      <td>0</td>\n",
       "      <td>0</td>\n",
       "      <td>0</td>\n",
       "      <td>19</td>\n",
       "      <td>9</td>\n",
       "      <td>2014</td>\n",
       "      <td>6985</td>\n",
       "      <td>3681</td>\n",
       "      <td>...</td>\n",
       "      <td>0</td>\n",
       "      <td>0</td>\n",
       "      <td>0</td>\n",
       "      <td>1</td>\n",
       "      <td>1</td>\n",
       "      <td>0</td>\n",
       "      <td>0</td>\n",
       "      <td>0</td>\n",
       "      <td>1</td>\n",
       "      <td>1</td>\n",
       "    </tr>\n",
       "  </tbody>\n",
       "</table>\n",
       "<p>5 rows × 315 columns</p>\n",
       "</div>"
      ],
      "text/plain": [
       "   Pricing, Delivery_Terms_Quote_Appr  Pricing, Delivery_Terms_Approved  \\\n",
       "0                                   0                                 0   \n",
       "1                                   0                                 0   \n",
       "2                                   0                                 0   \n",
       "3                                   0                                 0   \n",
       "4                                   0                                 0   \n",
       "\n",
       "   Bureaucratic_Code_0_Approval  Bureaucratic_Code_0_Approved  \\\n",
       "0                             0                             0   \n",
       "1                             0                             0   \n",
       "2                             0                             0   \n",
       "3                             0                             0   \n",
       "4                             0                             0   \n",
       "\n",
       "   Submitted_for_Approval  Account_Created_Date_Day  \\\n",
       "0                       0                         1   \n",
       "1                       0                         1   \n",
       "2                       0                         1   \n",
       "3                       0                         1   \n",
       "4                       0                        19   \n",
       "\n",
       "   Account_Created_Date_Month  Account_Created_Date_Year  Opportunity_ID  \\\n",
       "0                           3                       2017             960   \n",
       "1                           3                       2017             959   \n",
       "2                           3                       2017             961   \n",
       "3                           3                       2017             956   \n",
       "4                           9                       2014            6985   \n",
       "\n",
       "   Sales_Contract_No  ...  Bit_Total_Taxable_Amount_Currency_0  \\\n",
       "0                  0  ...                                    0   \n",
       "1                  0  ...                                    0   \n",
       "2                  0  ...                                    0   \n",
       "3                  0  ...                                    0   \n",
       "4               3681  ...                                    0   \n",
       "\n",
       "   Bit_Total_Taxable_Amount_Currency_1  Bit_Total_Taxable_Amount_Currency_2  \\\n",
       "0                                    0                                    0   \n",
       "1                                    0                                    0   \n",
       "2                                    0                                    0   \n",
       "3                                    0                                    0   \n",
       "4                                    0                                    0   \n",
       "\n",
       "   Bit_Total_Taxable_Amount_Currency_3  Bit_Prod_Category_A_0  \\\n",
       "0                                    1                      1   \n",
       "1                                    1                      1   \n",
       "2                                    1                      1   \n",
       "3                                    1                      1   \n",
       "4                                    1                      1   \n",
       "\n",
       "   Bit_ASP_Currency_0  Bit_ASP_Currency_1  Bit_ASP_Currency_2  \\\n",
       "0                   0                   0                   0   \n",
       "1                   0                   0                   0   \n",
       "2                   0                   0                   0   \n",
       "3                   0                   0                   0   \n",
       "4                   0                   0                   0   \n",
       "\n",
       "  Bit_ASP_Currency_3  Bit_ASP_(converted)_Currency_0  \n",
       "0                  1                               1  \n",
       "1                  1                               1  \n",
       "2                  1                               1  \n",
       "3                  1                               1  \n",
       "4                  1                               1  \n",
       "\n",
       "[5 rows x 315 columns]"
      ]
     },
     "execution_count": 122,
     "metadata": {},
     "output_type": "execute_result"
    }
   ],
   "source": [
    "train_scaled_features.head()"
   ]
  },
  {
   "cell_type": "code",
   "execution_count": 123,
   "metadata": {},
   "outputs": [
    {
     "data": {
      "text/html": [
       "<div>\n",
       "<style scoped>\n",
       "    .dataframe tbody tr th:only-of-type {\n",
       "        vertical-align: middle;\n",
       "    }\n",
       "\n",
       "    .dataframe tbody tr th {\n",
       "        vertical-align: top;\n",
       "    }\n",
       "\n",
       "    .dataframe thead th {\n",
       "        text-align: right;\n",
       "    }\n",
       "</style>\n",
       "<table border=\"1\" class=\"dataframe\">\n",
       "  <thead>\n",
       "    <tr style=\"text-align: right;\">\n",
       "      <th></th>\n",
       "      <th>Total_Taxable_Amount</th>\n",
       "      <th>Total_Amount_mean</th>\n",
       "      <th>Total_Amount_std</th>\n",
       "      <th>Total_Amount_min</th>\n",
       "      <th>Total_Amount_max</th>\n",
       "      <th>TRF_mean</th>\n",
       "      <th>TRF_std</th>\n",
       "      <th>TRF_min</th>\n",
       "      <th>TRF_max</th>\n",
       "      <th>ASP_mean</th>\n",
       "      <th>ASP_std</th>\n",
       "      <th>ASP_min</th>\n",
       "      <th>ASP_max</th>\n",
       "      <th>ASP_(converted)_mean</th>\n",
       "      <th>ASP_(converted)_std</th>\n",
       "      <th>ASP_(converted)_min</th>\n",
       "      <th>ASP_(converted)_max</th>\n",
       "    </tr>\n",
       "  </thead>\n",
       "  <tbody>\n",
       "    <tr>\n",
       "      <th>0</th>\n",
       "      <td>-0.113979</td>\n",
       "      <td>-0.103864</td>\n",
       "      <td>-0.14864</td>\n",
       "      <td>-0.099378</td>\n",
       "      <td>-0.109538</td>\n",
       "      <td>-0.136029</td>\n",
       "      <td>-0.111997</td>\n",
       "      <td>-0.126766</td>\n",
       "      <td>-0.144223</td>\n",
       "      <td>-0.418512</td>\n",
       "      <td>-0.054765</td>\n",
       "      <td>-0.418439</td>\n",
       "      <td>-0.418588</td>\n",
       "      <td>-0.075817</td>\n",
       "      <td>-0.179563</td>\n",
       "      <td>-0.074331</td>\n",
       "      <td>-0.077413</td>\n",
       "    </tr>\n",
       "    <tr>\n",
       "      <th>1</th>\n",
       "      <td>-0.050882</td>\n",
       "      <td>-0.039240</td>\n",
       "      <td>-0.14864</td>\n",
       "      <td>-0.034725</td>\n",
       "      <td>-0.045046</td>\n",
       "      <td>0.139376</td>\n",
       "      <td>-0.111997</td>\n",
       "      <td>0.151199</td>\n",
       "      <td>0.125901</td>\n",
       "      <td>-0.418512</td>\n",
       "      <td>-0.054765</td>\n",
       "      <td>-0.418439</td>\n",
       "      <td>-0.418588</td>\n",
       "      <td>-0.075817</td>\n",
       "      <td>-0.179563</td>\n",
       "      <td>-0.074331</td>\n",
       "      <td>-0.077413</td>\n",
       "    </tr>\n",
       "    <tr>\n",
       "      <th>2</th>\n",
       "      <td>-0.106237</td>\n",
       "      <td>-0.095934</td>\n",
       "      <td>-0.14864</td>\n",
       "      <td>-0.091445</td>\n",
       "      <td>-0.101624</td>\n",
       "      <td>-0.067178</td>\n",
       "      <td>-0.111997</td>\n",
       "      <td>-0.057275</td>\n",
       "      <td>-0.076692</td>\n",
       "      <td>-0.418512</td>\n",
       "      <td>-0.054765</td>\n",
       "      <td>-0.418439</td>\n",
       "      <td>-0.418588</td>\n",
       "      <td>-0.075817</td>\n",
       "      <td>-0.179563</td>\n",
       "      <td>-0.074331</td>\n",
       "      <td>-0.077413</td>\n",
       "    </tr>\n",
       "    <tr>\n",
       "      <th>3</th>\n",
       "      <td>-0.125125</td>\n",
       "      <td>-0.115279</td>\n",
       "      <td>-0.14864</td>\n",
       "      <td>-0.110798</td>\n",
       "      <td>-0.120930</td>\n",
       "      <td>-0.204880</td>\n",
       "      <td>-0.111997</td>\n",
       "      <td>-0.196258</td>\n",
       "      <td>-0.211753</td>\n",
       "      <td>-0.419951</td>\n",
       "      <td>-0.054765</td>\n",
       "      <td>-0.419878</td>\n",
       "      <td>-0.420027</td>\n",
       "      <td>-0.110568</td>\n",
       "      <td>-0.179563</td>\n",
       "      <td>-0.109079</td>\n",
       "      <td>-0.112165</td>\n",
       "    </tr>\n",
       "    <tr>\n",
       "      <th>4</th>\n",
       "      <td>-0.126230</td>\n",
       "      <td>-0.116411</td>\n",
       "      <td>-0.14864</td>\n",
       "      <td>-0.111930</td>\n",
       "      <td>-0.122059</td>\n",
       "      <td>-0.204880</td>\n",
       "      <td>-0.111997</td>\n",
       "      <td>-0.196258</td>\n",
       "      <td>-0.211753</td>\n",
       "      <td>-0.417630</td>\n",
       "      <td>-0.054765</td>\n",
       "      <td>-0.417557</td>\n",
       "      <td>-0.417706</td>\n",
       "      <td>-0.054518</td>\n",
       "      <td>-0.179563</td>\n",
       "      <td>-0.053034</td>\n",
       "      <td>-0.056113</td>\n",
       "    </tr>\n",
       "  </tbody>\n",
       "</table>\n",
       "</div>"
      ],
      "text/plain": [
       "   Total_Taxable_Amount  Total_Amount_mean  Total_Amount_std  \\\n",
       "0             -0.113979          -0.103864          -0.14864   \n",
       "1             -0.050882          -0.039240          -0.14864   \n",
       "2             -0.106237          -0.095934          -0.14864   \n",
       "3             -0.125125          -0.115279          -0.14864   \n",
       "4             -0.126230          -0.116411          -0.14864   \n",
       "\n",
       "   Total_Amount_min  Total_Amount_max  TRF_mean   TRF_std   TRF_min   TRF_max  \\\n",
       "0         -0.099378         -0.109538 -0.136029 -0.111997 -0.126766 -0.144223   \n",
       "1         -0.034725         -0.045046  0.139376 -0.111997  0.151199  0.125901   \n",
       "2         -0.091445         -0.101624 -0.067178 -0.111997 -0.057275 -0.076692   \n",
       "3         -0.110798         -0.120930 -0.204880 -0.111997 -0.196258 -0.211753   \n",
       "4         -0.111930         -0.122059 -0.204880 -0.111997 -0.196258 -0.211753   \n",
       "\n",
       "   ASP_mean   ASP_std   ASP_min   ASP_max  ASP_(converted)_mean  \\\n",
       "0 -0.418512 -0.054765 -0.418439 -0.418588             -0.075817   \n",
       "1 -0.418512 -0.054765 -0.418439 -0.418588             -0.075817   \n",
       "2 -0.418512 -0.054765 -0.418439 -0.418588             -0.075817   \n",
       "3 -0.419951 -0.054765 -0.419878 -0.420027             -0.110568   \n",
       "4 -0.417630 -0.054765 -0.417557 -0.417706             -0.054518   \n",
       "\n",
       "   ASP_(converted)_std  ASP_(converted)_min  ASP_(converted)_max  \n",
       "0            -0.179563            -0.074331            -0.077413  \n",
       "1            -0.179563            -0.074331            -0.077413  \n",
       "2            -0.179563            -0.074331            -0.077413  \n",
       "3            -0.179563            -0.109079            -0.112165  \n",
       "4            -0.179563            -0.053034            -0.056113  "
      ]
     },
     "execution_count": 123,
     "metadata": {},
     "output_type": "execute_result"
    }
   ],
   "source": [
    "train_scaled_features[[\n",
    "    'Total_Taxable_Amount',\n",
    "\n",
    "    'Total_Amount_mean',\n",
    "    'Total_Amount_std',\n",
    "    'Total_Amount_min',\n",
    "    'Total_Amount_max',\n",
    "\n",
    "    'TRF_mean',\n",
    "    'TRF_std',\n",
    "    'TRF_min',\n",
    "    'TRF_max',\n",
    "\n",
    "    'ASP_mean',\n",
    "    'ASP_std',\n",
    "    'ASP_min',\n",
    "    'ASP_max',\n",
    "\n",
    "    'ASP_(converted)_mean',\n",
    "    'ASP_(converted)_std',\n",
    "    'ASP_(converted)_min',\n",
    "    'ASP_(converted)_max']].head()"
   ]
  },
  {
   "cell_type": "code",
   "execution_count": 124,
   "metadata": {},
   "outputs": [],
   "source": [
    "test_scaled_features = df_test.copy()"
   ]
  },
  {
   "cell_type": "code",
   "execution_count": 125,
   "metadata": {},
   "outputs": [],
   "source": [
    "test_col_names = [\n",
    "    'Total_Taxable_Amount',\n",
    "\n",
    "    'Total_Amount_mean',\n",
    "    'Total_Amount_std',\n",
    "    'Total_Amount_min',\n",
    "    'Total_Amount_max',\n",
    "\n",
    "    'TRF_mean',\n",
    "    'TRF_std',\n",
    "    'TRF_min',\n",
    "    'TRF_max',\n",
    "\n",
    "    'ASP_mean',\n",
    "    'ASP_std',\n",
    "    'ASP_min',\n",
    "    'ASP_max',\n",
    "\n",
    "    'ASP_(converted)_mean',\n",
    "    'ASP_(converted)_std',\n",
    "    'ASP_(converted)_min',\n",
    "    'ASP_(converted)_max']\n",
    "test_features = test_scaled_features[test_col_names]\n",
    "test_scaler = StandardScaler().fit(test_features.values)\n",
    "test_features = test_scaler.transform(test_features.values)"
   ]
  },
  {
   "cell_type": "code",
   "execution_count": 126,
   "metadata": {},
   "outputs": [],
   "source": [
    "test_scaled_features[test_col_names] = test_features"
   ]
  },
  {
   "cell_type": "code",
   "execution_count": 127,
   "metadata": {
    "scrolled": true
   },
   "outputs": [
    {
     "data": {
      "text/html": [
       "<div>\n",
       "<style scoped>\n",
       "    .dataframe tbody tr th:only-of-type {\n",
       "        vertical-align: middle;\n",
       "    }\n",
       "\n",
       "    .dataframe tbody tr th {\n",
       "        vertical-align: top;\n",
       "    }\n",
       "\n",
       "    .dataframe thead th {\n",
       "        text-align: right;\n",
       "    }\n",
       "</style>\n",
       "<table border=\"1\" class=\"dataframe\">\n",
       "  <thead>\n",
       "    <tr style=\"text-align: right;\">\n",
       "      <th></th>\n",
       "      <th>Total_Taxable_Amount</th>\n",
       "      <th>Total_Amount_mean</th>\n",
       "      <th>Total_Amount_std</th>\n",
       "      <th>Total_Amount_min</th>\n",
       "      <th>Total_Amount_max</th>\n",
       "      <th>TRF_mean</th>\n",
       "      <th>TRF_std</th>\n",
       "      <th>TRF_min</th>\n",
       "      <th>TRF_max</th>\n",
       "      <th>ASP_mean</th>\n",
       "      <th>ASP_std</th>\n",
       "      <th>ASP_min</th>\n",
       "      <th>ASP_max</th>\n",
       "      <th>ASP_(converted)_mean</th>\n",
       "      <th>ASP_(converted)_std</th>\n",
       "      <th>ASP_(converted)_min</th>\n",
       "      <th>ASP_(converted)_max</th>\n",
       "    </tr>\n",
       "  </thead>\n",
       "  <tbody>\n",
       "    <tr>\n",
       "      <th>0</th>\n",
       "      <td>-0.113924</td>\n",
       "      <td>-0.126659</td>\n",
       "      <td>-0.083620</td>\n",
       "      <td>-0.123315</td>\n",
       "      <td>-0.129477</td>\n",
       "      <td>-0.085776</td>\n",
       "      <td>-0.077505</td>\n",
       "      <td>-0.083297</td>\n",
       "      <td>-0.087584</td>\n",
       "      <td>-0.295964</td>\n",
       "      <td>-0.310682</td>\n",
       "      <td>-0.295713</td>\n",
       "      <td>-0.296240</td>\n",
       "      <td>-0.019185</td>\n",
       "      <td>-0.308359</td>\n",
       "      <td>-0.016445</td>\n",
       "      <td>-0.022206</td>\n",
       "    </tr>\n",
       "    <tr>\n",
       "      <th>1</th>\n",
       "      <td>-0.116276</td>\n",
       "      <td>-0.126268</td>\n",
       "      <td>-0.097460</td>\n",
       "      <td>-0.122468</td>\n",
       "      <td>-0.129541</td>\n",
       "      <td>-0.085776</td>\n",
       "      <td>-0.077505</td>\n",
       "      <td>-0.083297</td>\n",
       "      <td>-0.087584</td>\n",
       "      <td>-0.299570</td>\n",
       "      <td>-0.310682</td>\n",
       "      <td>-0.299319</td>\n",
       "      <td>-0.299847</td>\n",
       "      <td>-0.058329</td>\n",
       "      <td>-0.308359</td>\n",
       "      <td>-0.055585</td>\n",
       "      <td>-0.061352</td>\n",
       "    </tr>\n",
       "    <tr>\n",
       "      <th>2</th>\n",
       "      <td>-0.099639</td>\n",
       "      <td>-0.126921</td>\n",
       "      <td>-0.097298</td>\n",
       "      <td>-0.123131</td>\n",
       "      <td>-0.130187</td>\n",
       "      <td>-0.085776</td>\n",
       "      <td>-0.077505</td>\n",
       "      <td>-0.083297</td>\n",
       "      <td>-0.087584</td>\n",
       "      <td>-0.299570</td>\n",
       "      <td>-0.310682</td>\n",
       "      <td>-0.299319</td>\n",
       "      <td>-0.299847</td>\n",
       "      <td>-0.058329</td>\n",
       "      <td>-0.308359</td>\n",
       "      <td>-0.055585</td>\n",
       "      <td>-0.061352</td>\n",
       "    </tr>\n",
       "    <tr>\n",
       "      <th>3</th>\n",
       "      <td>-0.092735</td>\n",
       "      <td>-0.126204</td>\n",
       "      <td>-0.097460</td>\n",
       "      <td>-0.122404</td>\n",
       "      <td>-0.129477</td>\n",
       "      <td>-0.085776</td>\n",
       "      <td>-0.077505</td>\n",
       "      <td>-0.083297</td>\n",
       "      <td>-0.087584</td>\n",
       "      <td>-0.295964</td>\n",
       "      <td>-0.310682</td>\n",
       "      <td>-0.295713</td>\n",
       "      <td>-0.296240</td>\n",
       "      <td>-0.019185</td>\n",
       "      <td>-0.308359</td>\n",
       "      <td>-0.016445</td>\n",
       "      <td>-0.022206</td>\n",
       "    </tr>\n",
       "    <tr>\n",
       "      <th>4</th>\n",
       "      <td>-0.101393</td>\n",
       "      <td>-0.126168</td>\n",
       "      <td>-0.090306</td>\n",
       "      <td>-0.123043</td>\n",
       "      <td>-0.129280</td>\n",
       "      <td>-0.085776</td>\n",
       "      <td>-0.077505</td>\n",
       "      <td>-0.083297</td>\n",
       "      <td>-0.087584</td>\n",
       "      <td>-0.298668</td>\n",
       "      <td>2.032772</td>\n",
       "      <td>-0.302925</td>\n",
       "      <td>-0.298043</td>\n",
       "      <td>-0.048543</td>\n",
       "      <td>1.815048</td>\n",
       "      <td>-0.094726</td>\n",
       "      <td>-0.041779</td>\n",
       "    </tr>\n",
       "  </tbody>\n",
       "</table>\n",
       "</div>"
      ],
      "text/plain": [
       "   Total_Taxable_Amount  Total_Amount_mean  Total_Amount_std  \\\n",
       "0             -0.113924          -0.126659         -0.083620   \n",
       "1             -0.116276          -0.126268         -0.097460   \n",
       "2             -0.099639          -0.126921         -0.097298   \n",
       "3             -0.092735          -0.126204         -0.097460   \n",
       "4             -0.101393          -0.126168         -0.090306   \n",
       "\n",
       "   Total_Amount_min  Total_Amount_max  TRF_mean   TRF_std   TRF_min   TRF_max  \\\n",
       "0         -0.123315         -0.129477 -0.085776 -0.077505 -0.083297 -0.087584   \n",
       "1         -0.122468         -0.129541 -0.085776 -0.077505 -0.083297 -0.087584   \n",
       "2         -0.123131         -0.130187 -0.085776 -0.077505 -0.083297 -0.087584   \n",
       "3         -0.122404         -0.129477 -0.085776 -0.077505 -0.083297 -0.087584   \n",
       "4         -0.123043         -0.129280 -0.085776 -0.077505 -0.083297 -0.087584   \n",
       "\n",
       "   ASP_mean   ASP_std   ASP_min   ASP_max  ASP_(converted)_mean  \\\n",
       "0 -0.295964 -0.310682 -0.295713 -0.296240             -0.019185   \n",
       "1 -0.299570 -0.310682 -0.299319 -0.299847             -0.058329   \n",
       "2 -0.299570 -0.310682 -0.299319 -0.299847             -0.058329   \n",
       "3 -0.295964 -0.310682 -0.295713 -0.296240             -0.019185   \n",
       "4 -0.298668  2.032772 -0.302925 -0.298043             -0.048543   \n",
       "\n",
       "   ASP_(converted)_std  ASP_(converted)_min  ASP_(converted)_max  \n",
       "0            -0.308359            -0.016445            -0.022206  \n",
       "1            -0.308359            -0.055585            -0.061352  \n",
       "2            -0.308359            -0.055585            -0.061352  \n",
       "3            -0.308359            -0.016445            -0.022206  \n",
       "4             1.815048            -0.094726            -0.041779  "
      ]
     },
     "execution_count": 127,
     "metadata": {},
     "output_type": "execute_result"
    }
   ],
   "source": [
    "test_scaled_features[[\n",
    "    'Total_Taxable_Amount',\n",
    "\n",
    "    'Total_Amount_mean',\n",
    "    'Total_Amount_std',\n",
    "    'Total_Amount_min',\n",
    "    'Total_Amount_max',\n",
    "\n",
    "    'TRF_mean',\n",
    "    'TRF_std',\n",
    "    'TRF_min',\n",
    "    'TRF_max',\n",
    "\n",
    "    'ASP_mean',\n",
    "    'ASP_std',\n",
    "    'ASP_min',\n",
    "    'ASP_max',\n",
    "\n",
    "    'ASP_(converted)_mean',\n",
    "    'ASP_(converted)_std',\n",
    "    'ASP_(converted)_min',\n",
    "    'ASP_(converted)_max']].head()"
   ]
  },
  {
   "cell_type": "code",
   "execution_count": 128,
   "metadata": {},
   "outputs": [
    {
     "data": {
      "text/plain": [
       "(9841, 315)"
      ]
     },
     "execution_count": 128,
     "metadata": {},
     "output_type": "execute_result"
    }
   ],
   "source": [
    "df_train.shape"
   ]
  },
  {
   "cell_type": "code",
   "execution_count": 129,
   "metadata": {},
   "outputs": [
    {
     "data": {
      "text/plain": [
       "(1567, 315)"
      ]
     },
     "execution_count": 129,
     "metadata": {},
     "output_type": "execute_result"
    }
   ],
   "source": [
    "df_test.shape"
   ]
  },
  {
   "cell_type": "code",
   "execution_count": 130,
   "metadata": {},
   "outputs": [],
   "source": [
    "#df_train.info()"
   ]
  },
  {
   "cell_type": "code",
   "execution_count": 131,
   "metadata": {},
   "outputs": [],
   "source": [
    "#df_test.info()"
   ]
  },
  {
   "cell_type": "code",
   "execution_count": 132,
   "metadata": {},
   "outputs": [],
   "source": [
    "df2_train=train_scaled_features\n",
    "df2_test=test_scaled_features"
   ]
  },
  {
   "cell_type": "code",
   "execution_count": 133,
   "metadata": {},
   "outputs": [
    {
     "data": {
      "text/html": [
       "<div>\n",
       "<style scoped>\n",
       "    .dataframe tbody tr th:only-of-type {\n",
       "        vertical-align: middle;\n",
       "    }\n",
       "\n",
       "    .dataframe tbody tr th {\n",
       "        vertical-align: top;\n",
       "    }\n",
       "\n",
       "    .dataframe thead th {\n",
       "        text-align: right;\n",
       "    }\n",
       "</style>\n",
       "<table border=\"1\" class=\"dataframe\">\n",
       "  <thead>\n",
       "    <tr style=\"text-align: right;\">\n",
       "      <th></th>\n",
       "      <th>nulls</th>\n",
       "      <th>porcentaje</th>\n",
       "    </tr>\n",
       "  </thead>\n",
       "  <tbody>\n",
       "  </tbody>\n",
       "</table>\n",
       "</div>"
      ],
      "text/plain": [
       "Empty DataFrame\n",
       "Columns: [nulls, porcentaje]\n",
       "Index: []"
      ]
     },
     "execution_count": 133,
     "metadata": {},
     "output_type": "execute_result"
    }
   ],
   "source": [
    "faltantes=pd.DataFrame(df2_train.isnull().sum().sort_values(ascending=False),columns=['nulls'])\n",
    "filas=len(df2_train)\n",
    "faltantes['porcentaje']=round(100*faltantes['nulls']/filas,2)\n",
    "faltantes[faltantes['nulls']!=0]"
   ]
  },
  {
   "cell_type": "markdown",
   "metadata": {},
   "source": [
    "## Predicciones"
   ]
  },
  {
   "cell_type": "markdown",
   "metadata": {},
   "source": [
    "### Separamos la variable a predecir"
   ]
  },
  {
   "cell_type": "code",
   "execution_count": 134,
   "metadata": {},
   "outputs": [],
   "source": [
    "df3_train = df2_train.drop(['Last_Activity_Day_mean','Last_Activity_Day_std','Last_Activity_Day_min','Last_Activity_Day_max',\n",
    "                            'Last_Activity_Month_mean','Last_Activity_Month_std','Last_Activity_Month_min','Last_Activity_Month_max', \n",
    "                                   'Last_Activity_Year_mean','Last_Activity_Year_std','Last_Activity_Year_min','Last_Activity_Year_max', \n",
    "                            'Actual_Delivery_Date_Day_mean','Actual_Delivery_Date_Day_std','Actual_Delivery_Date_Day_min','Actual_Delivery_Date_Day_max',\n",
    "                                   'Actual_Delivery_Date_Month_mean','Actual_Delivery_Date_Month_std','Actual_Delivery_Date_Month_min','Actual_Delivery_Date_Month_max', \n",
    "                                   'Actual_Delivery_Date_Year_mean','Actual_Delivery_Date_Year_std','Actual_Delivery_Date_Year_min','Actual_Delivery_Date_Year_max'], axis=1)\n",
    "\n"
   ]
  },
  {
   "cell_type": "code",
   "execution_count": 135,
   "metadata": {},
   "outputs": [],
   "source": [
    "#df3_train.head()"
   ]
  },
  {
   "cell_type": "code",
   "execution_count": 136,
   "metadata": {},
   "outputs": [],
   "source": [
    "df4_train = df3_train.dropna()                                 "
   ]
  },
  {
   "cell_type": "code",
   "execution_count": 137,
   "metadata": {},
   "outputs": [],
   "source": [
    "#df4_train.head()"
   ]
  },
  {
   "cell_type": "code",
   "execution_count": 138,
   "metadata": {},
   "outputs": [
    {
     "data": {
      "text/html": [
       "<div>\n",
       "<style scoped>\n",
       "    .dataframe tbody tr th:only-of-type {\n",
       "        vertical-align: middle;\n",
       "    }\n",
       "\n",
       "    .dataframe tbody tr th {\n",
       "        vertical-align: top;\n",
       "    }\n",
       "\n",
       "    .dataframe thead th {\n",
       "        text-align: right;\n",
       "    }\n",
       "</style>\n",
       "<table border=\"1\" class=\"dataframe\">\n",
       "  <thead>\n",
       "    <tr style=\"text-align: right;\">\n",
       "      <th></th>\n",
       "      <th>nulls</th>\n",
       "      <th>porcentaje</th>\n",
       "    </tr>\n",
       "  </thead>\n",
       "  <tbody>\n",
       "  </tbody>\n",
       "</table>\n",
       "</div>"
      ],
      "text/plain": [
       "Empty DataFrame\n",
       "Columns: [nulls, porcentaje]\n",
       "Index: []"
      ]
     },
     "execution_count": 138,
     "metadata": {},
     "output_type": "execute_result"
    }
   ],
   "source": [
    "faltantes=pd.DataFrame(df4_train.isnull().sum().sort_values(ascending=False),columns=['nulls'])\n",
    "filas=len(df4_train)\n",
    "faltantes['porcentaje']=round(100*faltantes['nulls']/filas,2)\n",
    "faltantes[faltantes['nulls']!=0]"
   ]
  },
  {
   "cell_type": "code",
   "execution_count": 139,
   "metadata": {},
   "outputs": [],
   "source": [
    "#df4_train['Is_closed_won']=(df4_train['Stage']=='Closed Won')\n",
    "df4_train['Is_closed_won']=df4_train['Stage'].apply(lambda x: 1 if x=='Closed Won' else 0)\n",
    "df4_train=df4_train.drop(['Stage'],axis=1)"
   ]
  },
  {
   "cell_type": "code",
   "execution_count": 140,
   "metadata": {},
   "outputs": [],
   "source": [
    "X = df4_train.drop(['Is_closed_won','Sales_Contract_No'], axis=1)\n"
   ]
  },
  {
   "cell_type": "code",
   "execution_count": 141,
   "metadata": {},
   "outputs": [],
   "source": [
    "y = df4_train['Is_closed_won']"
   ]
  },
  {
   "cell_type": "code",
   "execution_count": 142,
   "metadata": {},
   "outputs": [],
   "source": [
    "#X.head()"
   ]
  },
  {
   "cell_type": "code",
   "execution_count": 143,
   "metadata": {},
   "outputs": [],
   "source": [
    "#y.value_counts()#.head()"
   ]
  },
  {
   "cell_type": "markdown",
   "metadata": {},
   "source": [
    "### Creamos set de entrenamiento y test"
   ]
  },
  {
   "cell_type": "code",
   "execution_count": 144,
   "metadata": {},
   "outputs": [],
   "source": [
    "from sklearn.model_selection import train_test_split\n",
    "\n",
    "X_train, X_test, y_train, y_test = \\\n",
    "    train_test_split(X, y, test_size=0.2, random_state=123)"
   ]
  },
  {
   "cell_type": "markdown",
   "metadata": {},
   "source": [
    "## Logistic Regression"
   ]
  },
  {
   "cell_type": "code",
   "execution_count": 145,
   "metadata": {},
   "outputs": [],
   "source": [
    "from sklearn.linear_model import LogisticRegression\n",
    "clfLR = LogisticRegression(random_state=0)"
   ]
  },
  {
   "cell_type": "markdown",
   "metadata": {},
   "source": [
    "### Entrenamiento usando Logistic Regression"
   ]
  },
  {
   "cell_type": "code",
   "execution_count": 146,
   "metadata": {},
   "outputs": [
    {
     "name": "stderr",
     "output_type": "stream",
     "text": [
      "C:\\Users\\licha\\Miniconda3\\envs\\orgadatos\\lib\\site-packages\\sklearn\\linear_model\\logistic.py:433: FutureWarning: Default solver will be changed to 'lbfgs' in 0.22. Specify a solver to silence this warning.\n",
      "  FutureWarning)\n"
     ]
    },
    {
     "data": {
      "text/plain": [
       "LogisticRegression(C=1.0, class_weight=None, dual=False, fit_intercept=True,\n",
       "          intercept_scaling=1, max_iter=100, multi_class='warn',\n",
       "          n_jobs=None, penalty='l2', random_state=0, solver='warn',\n",
       "          tol=0.0001, verbose=0, warm_start=False)"
      ]
     },
     "execution_count": 146,
     "metadata": {},
     "output_type": "execute_result"
    }
   ],
   "source": [
    "clfLR.fit(X_train, y_train)"
   ]
  },
  {
   "cell_type": "markdown",
   "metadata": {},
   "source": [
    "### Validación usando Logistic Regression"
   ]
  },
  {
   "cell_type": "code",
   "execution_count": 147,
   "metadata": {},
   "outputs": [],
   "source": [
    "y_validation =clfLR.predict(X_test)\n"
   ]
  },
  {
   "cell_type": "code",
   "execution_count": 148,
   "metadata": {},
   "outputs": [
    {
     "data": {
      "text/plain": [
       "array([1, 1, 1, ..., 1, 0, 0], dtype=int64)"
      ]
     },
     "execution_count": 148,
     "metadata": {},
     "output_type": "execute_result"
    }
   ],
   "source": [
    "y_validation\n",
    "#y_test.value_counts()"
   ]
  },
  {
   "cell_type": "code",
   "execution_count": 149,
   "metadata": {},
   "outputs": [
    {
     "data": {
      "text/plain": [
       "6567    1\n",
       "4695    1\n",
       "3973    1\n",
       "8323    1\n",
       "7390    1\n",
       "6903    1\n",
       "7       1\n",
       "5208    1\n",
       "1533    0\n",
       "9567    1\n",
       "444     1\n",
       "7729    0\n",
       "2354    1\n",
       "8624    0\n",
       "8024    1\n",
       "4418    0\n",
       "9215    1\n",
       "6219    1\n",
       "3638    1\n",
       "4827    1\n",
       "3205    1\n",
       "6732    1\n",
       "1426    0\n",
       "5331    0\n",
       "1554    1\n",
       "9763    0\n",
       "2492    0\n",
       "6784    1\n",
       "9600    1\n",
       "7367    1\n",
       "       ..\n",
       "1067    1\n",
       "5583    0\n",
       "9180    0\n",
       "3107    1\n",
       "9259    1\n",
       "5005    0\n",
       "1011    0\n",
       "8570    0\n",
       "5749    1\n",
       "3087    1\n",
       "7210    0\n",
       "1268    0\n",
       "1108    1\n",
       "7323    1\n",
       "1614    0\n",
       "7017    1\n",
       "84      1\n",
       "2607    0\n",
       "7956    1\n",
       "7721    1\n",
       "3468    0\n",
       "5069    0\n",
       "5393    1\n",
       "5346    0\n",
       "3568    0\n",
       "1892    0\n",
       "3906    0\n",
       "4873    1\n",
       "1435    0\n",
       "6129    0\n",
       "Name: Is_closed_won, Length: 1969, dtype: int64"
      ]
     },
     "execution_count": 149,
     "metadata": {},
     "output_type": "execute_result"
    }
   ],
   "source": [
    "y_test"
   ]
  },
  {
   "cell_type": "code",
   "execution_count": 150,
   "metadata": {},
   "outputs": [
    {
     "data": {
      "text/plain": [
       "0.8197054342305738"
      ]
     },
     "execution_count": 150,
     "metadata": {},
     "output_type": "execute_result"
    }
   ],
   "source": [
    "#valor previo sin estandarizar datos (como referencia) 0.5769426104621636\n",
    "accuracy_score(y_test, y_validation)"
   ]
  },
  {
   "cell_type": "code",
   "execution_count": 151,
   "metadata": {},
   "outputs": [],
   "source": [
    "y_validation_probs = clfLR.predict_proba(X_test)[:,1]"
   ]
  },
  {
   "cell_type": "code",
   "execution_count": 152,
   "metadata": {},
   "outputs": [
    {
     "data": {
      "text/plain": [
       "array([8.39561790e-01, 8.56914167e-01, 6.65989548e-01, ...,\n",
       "       8.97259827e-01, 4.31022436e-05, 4.53158603e-05])"
      ]
     },
     "execution_count": 152,
     "metadata": {},
     "output_type": "execute_result"
    }
   ],
   "source": [
    "y_validation_probs"
   ]
  },
  {
   "cell_type": "code",
   "execution_count": 153,
   "metadata": {},
   "outputs": [
    {
     "data": {
      "text/plain": [
       "0.4139625683184745"
      ]
     },
     "execution_count": 153,
     "metadata": {},
     "output_type": "execute_result"
    }
   ],
   "source": [
    "#valor previo sin estandarizar datos (como referencia) 0.6706774099386827\n",
    "log_loss(y_test, y_validation_probs)"
   ]
  },
  {
   "cell_type": "markdown",
   "metadata": {},
   "source": [
    "### Predicción usando Logistic Regression"
   ]
  },
  {
   "cell_type": "code",
   "execution_count": 154,
   "metadata": {},
   "outputs": [],
   "source": [
    "df3_test = df2_test.drop(['Last_Activity_Day_mean','Last_Activity_Day_std','Last_Activity_Day_min','Last_Activity_Day_max',\n",
    "                            'Last_Activity_Month_mean','Last_Activity_Month_std','Last_Activity_Month_min','Last_Activity_Month_max', \n",
    "                                   'Last_Activity_Year_mean','Last_Activity_Year_std','Last_Activity_Year_min','Last_Activity_Year_max', \n",
    "                            'Actual_Delivery_Date_Day_mean','Actual_Delivery_Date_Day_std','Actual_Delivery_Date_Day_min','Actual_Delivery_Date_Day_max',\n",
    "                                   'Actual_Delivery_Date_Month_mean','Actual_Delivery_Date_Month_std','Actual_Delivery_Date_Month_min','Actual_Delivery_Date_Month_max', \n",
    "                                   'Actual_Delivery_Date_Year_mean','Actual_Delivery_Date_Year_std','Actual_Delivery_Date_Year_min','Actual_Delivery_Date_Year_max'], axis=1)\n"
   ]
  },
  {
   "cell_type": "code",
   "execution_count": 155,
   "metadata": {},
   "outputs": [],
   "source": [
    "df4_test = df3_test.dropna()                                 "
   ]
  },
  {
   "cell_type": "code",
   "execution_count": 156,
   "metadata": {},
   "outputs": [
    {
     "data": {
      "text/plain": [
       "Index(['Pricing, Delivery_Terms_Quote_Appr',\n",
       "       'Pricing, Delivery_Terms_Approved', 'Bureaucratic_Code_0_Approval',\n",
       "       'Bureaucratic_Code_0_Approved', 'Submitted_for_Approval',\n",
       "       'Account_Created_Date_Day', 'Account_Created_Date_Month',\n",
       "       'Account_Created_Date_Year', 'Opportunity_ID',\n",
       "       'Opportunity_Created_Date_Day',\n",
       "       ...\n",
       "       'Bit_Total_Taxable_Amount_Currency_0',\n",
       "       'Bit_Total_Taxable_Amount_Currency_1',\n",
       "       'Bit_Total_Taxable_Amount_Currency_2',\n",
       "       'Bit_Total_Taxable_Amount_Currency_3', 'Bit_Prod_Category_A_0',\n",
       "       'Bit_ASP_Currency_0', 'Bit_ASP_Currency_1', 'Bit_ASP_Currency_2',\n",
       "       'Bit_ASP_Currency_3', 'Bit_ASP_(converted)_Currency_0'],\n",
       "      dtype='object', length=289)"
      ]
     },
     "execution_count": 156,
     "metadata": {},
     "output_type": "execute_result"
    }
   ],
   "source": [
    "X_test.columns"
   ]
  },
  {
   "cell_type": "code",
   "execution_count": 157,
   "metadata": {},
   "outputs": [
    {
     "data": {
      "text/plain": [
       "Index(['Pricing, Delivery_Terms_Quote_Appr',\n",
       "       'Pricing, Delivery_Terms_Approved', 'Bureaucratic_Code_0_Approval',\n",
       "       'Bureaucratic_Code_0_Approved', 'Submitted_for_Approval',\n",
       "       'Account_Created_Date_Day', 'Account_Created_Date_Month',\n",
       "       'Account_Created_Date_Year', 'Opportunity_ID', 'Sales_Contract_No',\n",
       "       ...\n",
       "       'Bit_Total_Taxable_Amount_Currency_0',\n",
       "       'Bit_Total_Taxable_Amount_Currency_1',\n",
       "       'Bit_Total_Taxable_Amount_Currency_2',\n",
       "       'Bit_Total_Taxable_Amount_Currency_3', 'Bit_Prod_Category_A_0',\n",
       "       'Bit_ASP_Currency_0', 'Bit_ASP_Currency_1', 'Bit_ASP_Currency_2',\n",
       "       'Bit_ASP_Currency_3', 'Bit_ASP_(converted)_Currency_0'],\n",
       "      dtype='object', length=291)"
      ]
     },
     "execution_count": 157,
     "metadata": {},
     "output_type": "execute_result"
    }
   ],
   "source": [
    "df4_test.columns"
   ]
  },
  {
   "cell_type": "code",
   "execution_count": 158,
   "metadata": {},
   "outputs": [],
   "source": [
    "y_pred_probs =clfLR.predict_proba(df4_test.drop(['Sales_Contract_No','Stage'], axis=1))[:,1]"
   ]
  },
  {
   "cell_type": "code",
   "execution_count": 159,
   "metadata": {},
   "outputs": [
    {
     "data": {
      "text/plain": [
       "array([0.35412522, 0.27400804, 0.63890581, ..., 0.20885367, 0.09700412,\n",
       "       0.02686643])"
      ]
     },
     "execution_count": 159,
     "metadata": {},
     "output_type": "execute_result"
    }
   ],
   "source": [
    "y_pred_probs"
   ]
  },
  {
   "cell_type": "code",
   "execution_count": 160,
   "metadata": {},
   "outputs": [
    {
     "data": {
      "text/html": [
       "<div>\n",
       "<style scoped>\n",
       "    .dataframe tbody tr th:only-of-type {\n",
       "        vertical-align: middle;\n",
       "    }\n",
       "\n",
       "    .dataframe tbody tr th {\n",
       "        vertical-align: top;\n",
       "    }\n",
       "\n",
       "    .dataframe thead th {\n",
       "        text-align: right;\n",
       "    }\n",
       "</style>\n",
       "<table border=\"1\" class=\"dataframe\">\n",
       "  <thead>\n",
       "    <tr style=\"text-align: right;\">\n",
       "      <th></th>\n",
       "      <th>Opportunity_ID</th>\n",
       "      <th>Target</th>\n",
       "    </tr>\n",
       "  </thead>\n",
       "  <tbody>\n",
       "    <tr>\n",
       "      <th>0</th>\n",
       "      <td>12173</td>\n",
       "      <td>0.354125</td>\n",
       "    </tr>\n",
       "    <tr>\n",
       "      <th>1</th>\n",
       "      <td>12172</td>\n",
       "      <td>0.274008</td>\n",
       "    </tr>\n",
       "    <tr>\n",
       "      <th>2</th>\n",
       "      <td>11408</td>\n",
       "      <td>0.638906</td>\n",
       "    </tr>\n",
       "    <tr>\n",
       "      <th>3</th>\n",
       "      <td>12232</td>\n",
       "      <td>0.635791</td>\n",
       "    </tr>\n",
       "    <tr>\n",
       "      <th>4</th>\n",
       "      <td>12233</td>\n",
       "      <td>0.306114</td>\n",
       "    </tr>\n",
       "  </tbody>\n",
       "</table>\n",
       "</div>"
      ],
      "text/plain": [
       "   Opportunity_ID    Target\n",
       "0           12173  0.354125\n",
       "1           12172  0.274008\n",
       "2           11408  0.638906\n",
       "3           12232  0.635791\n",
       "4           12233  0.306114"
      ]
     },
     "execution_count": 160,
     "metadata": {},
     "output_type": "execute_result"
    }
   ],
   "source": [
    "#Creo un dataframe con el formato ( id , precio (El precio predecido ))\n",
    "prediccion = df4_test['Opportunity_ID'].to_frame()\n",
    "prediccion.insert(1,'Target', y_pred_probs , True) \n",
    "#Exportamos la prediccion en formato csv sin labels\n",
    "prediccion.to_csv(r'./LogisticRegression(datos estandarizados versión 2).csv',index=False , header=True)\n",
    "prediccion.head()"
   ]
  },
  {
   "cell_type": "markdown",
   "metadata": {},
   "source": [
    "## Multi Layer Perceptrón con 3 capas de 50 neuronas"
   ]
  },
  {
   "cell_type": "markdown",
   "metadata": {},
   "source": [
    "Probamos ahora con una red neuronal con 3 capas ocultas con 50 neuronas cada una:"
   ]
  },
  {
   "cell_type": "code",
   "execution_count": 161,
   "metadata": {},
   "outputs": [],
   "source": [
    "from sklearn.neural_network import MLPClassifier"
   ]
  },
  {
   "cell_type": "code",
   "execution_count": 162,
   "metadata": {},
   "outputs": [],
   "source": [
    "\n",
    "nro_neuronas=100#150\n",
    "capas=1#3\n",
    "#clfLR = MLPClassifier(hidden_layer_sizes=(nro_neuronas,capas50),random_state=1)#solver='lbfgs', alpha=1e-5,hidden_layer_sizes=(5, 2), random_state=1)\n",
    "clfLR = MLPClassifier(hidden_layer_sizes=(50,50,50 ),random_state=1)#solver='lbfgs', alpha=1e-5,hidden_layer_sizes=(5, 2), random_state=1)"
   ]
  },
  {
   "cell_type": "markdown",
   "metadata": {},
   "source": [
    "### Entrenamiento usando Multi Layer Perceptrón"
   ]
  },
  {
   "cell_type": "code",
   "execution_count": 163,
   "metadata": {},
   "outputs": [
    {
     "data": {
      "text/plain": [
       "MLPClassifier(activation='relu', alpha=0.0001, batch_size='auto', beta_1=0.9,\n",
       "       beta_2=0.999, early_stopping=False, epsilon=1e-08,\n",
       "       hidden_layer_sizes=(50, 50, 50), learning_rate='constant',\n",
       "       learning_rate_init=0.001, max_iter=200, momentum=0.9,\n",
       "       n_iter_no_change=10, nesterovs_momentum=True, power_t=0.5,\n",
       "       random_state=1, shuffle=True, solver='adam', tol=0.0001,\n",
       "       validation_fraction=0.1, verbose=False, warm_start=False)"
      ]
     },
     "execution_count": 163,
     "metadata": {},
     "output_type": "execute_result"
    }
   ],
   "source": [
    "clfLR.fit(X_train, y_train)"
   ]
  },
  {
   "cell_type": "markdown",
   "metadata": {},
   "source": [
    "### Validación usando Multi Layer Perceptrón"
   ]
  },
  {
   "cell_type": "code",
   "execution_count": 164,
   "metadata": {},
   "outputs": [],
   "source": [
    "y_validation =clfLR.predict(X_test)"
   ]
  },
  {
   "cell_type": "code",
   "execution_count": 165,
   "metadata": {},
   "outputs": [
    {
     "data": {
      "text/plain": [
       "0.7552056881665821"
      ]
     },
     "execution_count": 165,
     "metadata": {},
     "output_type": "execute_result"
    }
   ],
   "source": [
    "#valor previo sin estandarizar datos (como referencia) 0.5129507364144236\n",
    "accuracy_score(y_test, y_validation)"
   ]
  },
  {
   "cell_type": "code",
   "execution_count": 166,
   "metadata": {},
   "outputs": [],
   "source": [
    "y_validation_probs = clfLR.predict_proba(X_test)[:,1]"
   ]
  },
  {
   "cell_type": "code",
   "execution_count": 167,
   "metadata": {},
   "outputs": [
    {
     "data": {
      "text/plain": [
       "0.4793310416499495"
      ]
     },
     "execution_count": 167,
     "metadata": {},
     "output_type": "execute_result"
    }
   ],
   "source": [
    "#valor previo sin estandarizar datos (como referencia) 16.465270349405756\n",
    "log_loss(y_test, y_validation_probs)"
   ]
  },
  {
   "cell_type": "markdown",
   "metadata": {},
   "source": [
    "### Predicción usando Multi Layer Perceptrón"
   ]
  },
  {
   "cell_type": "code",
   "execution_count": 168,
   "metadata": {},
   "outputs": [],
   "source": [
    "y_pred_probs =clfLR.predict_proba(df4_test.drop(['Sales_Contract_No','Stage'], axis=1))[:,1]"
   ]
  },
  {
   "cell_type": "code",
   "execution_count": 169,
   "metadata": {},
   "outputs": [],
   "source": [
    "#Creo un dataframe con el formato ( id , precio (El precio predecido ))\n",
    "prediccion = df4_test['Opportunity_ID'].to_frame()\n",
    "prediccion.insert(1,'Target', y_pred_probs , True) \n",
    "#Exportamos la prediccion en formato csv sin labels\n",
    "prediccion.to_csv(r'./MPL3capas50neuronas(datos estandarizados versión 2).csv',index=False , header=True)\n",
    "#prediccion.head()"
   ]
  },
  {
   "cell_type": "code",
   "execution_count": null,
   "metadata": {},
   "outputs": [],
   "source": []
  },
  {
   "cell_type": "markdown",
   "metadata": {},
   "source": [
    "## Multi Layer Perceptrón con 2 capas de 100 neuronas y 2 capas de 75 neuronas"
   ]
  },
  {
   "cell_type": "markdown",
   "metadata": {},
   "source": [
    "Probamos ahora con una red neuronal con 4 capas ocultas, 2 con 100 neuronas y 2 con 75 neuronas:"
   ]
  },
  {
   "cell_type": "code",
   "execution_count": 170,
   "metadata": {},
   "outputs": [],
   "source": [
    "clfLR = MLPClassifier(hidden_layer_sizes=(100,100,75,75),random_state=1)#solver='lbfgs', alpha=1e-5,hidden_layer_sizes=(5, 2), random_state=1)"
   ]
  },
  {
   "cell_type": "markdown",
   "metadata": {},
   "source": [
    "### Entrenamiento usando Multi Layer Perceptrón"
   ]
  },
  {
   "cell_type": "code",
   "execution_count": 171,
   "metadata": {},
   "outputs": [
    {
     "data": {
      "text/plain": [
       "MLPClassifier(activation='relu', alpha=0.0001, batch_size='auto', beta_1=0.9,\n",
       "       beta_2=0.999, early_stopping=False, epsilon=1e-08,\n",
       "       hidden_layer_sizes=(100, 100, 75, 75), learning_rate='constant',\n",
       "       learning_rate_init=0.001, max_iter=200, momentum=0.9,\n",
       "       n_iter_no_change=10, nesterovs_momentum=True, power_t=0.5,\n",
       "       random_state=1, shuffle=True, solver='adam', tol=0.0001,\n",
       "       validation_fraction=0.1, verbose=False, warm_start=False)"
      ]
     },
     "execution_count": 171,
     "metadata": {},
     "output_type": "execute_result"
    }
   ],
   "source": [
    "clfLR.fit(X_train, y_train)"
   ]
  },
  {
   "cell_type": "markdown",
   "metadata": {},
   "source": [
    "### Validación usando Multi Layer Perceptrón"
   ]
  },
  {
   "cell_type": "code",
   "execution_count": 172,
   "metadata": {},
   "outputs": [],
   "source": [
    "y_validation =clfLR.predict(X_test)"
   ]
  },
  {
   "cell_type": "code",
   "execution_count": 173,
   "metadata": {},
   "outputs": [
    {
     "data": {
      "text/plain": [
       "0.7922803453529711"
      ]
     },
     "execution_count": 173,
     "metadata": {},
     "output_type": "execute_result"
    }
   ],
   "source": [
    "#valor previo sin estandarizar datos (como referencia) 0.6190959878110716\n",
    "accuracy_score(y_test, y_validation)"
   ]
  },
  {
   "cell_type": "code",
   "execution_count": 174,
   "metadata": {},
   "outputs": [],
   "source": [
    "y_validation_probs = clfLR.predict_proba(X_test)[:,1]"
   ]
  },
  {
   "cell_type": "code",
   "execution_count": 175,
   "metadata": {
    "scrolled": true
   },
   "outputs": [
    {
     "data": {
      "text/plain": [
       "0.4480892122220366"
      ]
     },
     "execution_count": 175,
     "metadata": {},
     "output_type": "execute_result"
    }
   ],
   "source": [
    "#valor previo sin estandarizar datos (como referencia) 1.004370812069694\n",
    "log_loss(y_test, y_validation_probs)"
   ]
  },
  {
   "cell_type": "markdown",
   "metadata": {},
   "source": [
    "### Predicción usando Multi Layer Perceptrón"
   ]
  },
  {
   "cell_type": "code",
   "execution_count": 176,
   "metadata": {},
   "outputs": [],
   "source": [
    "y_pred_probs =clfLR.predict_proba(df4_test.drop(['Sales_Contract_No','Stage'], axis=1))[:,1]"
   ]
  },
  {
   "cell_type": "code",
   "execution_count": 177,
   "metadata": {},
   "outputs": [],
   "source": [
    "#Creo un dataframe con el formato ( id , precio (El precio predecido ))\n",
    "prediccion = df4_test['Opportunity_ID'].to_frame()\n",
    "prediccion.insert(1,'Target', y_pred_probs , True) \n",
    "#Exportamos la prediccion en formato csv sin labels\n",
    "prediccion.to_csv(r'./MPL2capas100neuronas2capas75neuronas(datos estandarizados versión 2).csv',index=False , header=True)\n",
    "#prediccion.head()"
   ]
  },
  {
   "cell_type": "markdown",
   "metadata": {},
   "source": [
    "## Multi Layer Perceptrón con 4 capas de 100 neuronas"
   ]
  },
  {
   "cell_type": "markdown",
   "metadata": {},
   "source": [
    "Probamos ahora con una red neuronal con 4 capas ocultas con 100 neuronas:"
   ]
  },
  {
   "cell_type": "code",
   "execution_count": 178,
   "metadata": {},
   "outputs": [],
   "source": [
    "clfLR = MLPClassifier(hidden_layer_sizes=(100,100,100,100),random_state=1)#solver='lbfgs', alpha=1e-5,hidden_layer_sizes=(5, 2), random_state=1)"
   ]
  },
  {
   "cell_type": "markdown",
   "metadata": {},
   "source": [
    "### Entrenamiento usando Multi Layer Perceptrón"
   ]
  },
  {
   "cell_type": "code",
   "execution_count": 179,
   "metadata": {
    "scrolled": true
   },
   "outputs": [
    {
     "data": {
      "text/plain": [
       "MLPClassifier(activation='relu', alpha=0.0001, batch_size='auto', beta_1=0.9,\n",
       "       beta_2=0.999, early_stopping=False, epsilon=1e-08,\n",
       "       hidden_layer_sizes=(100, 100, 100, 100), learning_rate='constant',\n",
       "       learning_rate_init=0.001, max_iter=200, momentum=0.9,\n",
       "       n_iter_no_change=10, nesterovs_momentum=True, power_t=0.5,\n",
       "       random_state=1, shuffle=True, solver='adam', tol=0.0001,\n",
       "       validation_fraction=0.1, verbose=False, warm_start=False)"
      ]
     },
     "execution_count": 179,
     "metadata": {},
     "output_type": "execute_result"
    }
   ],
   "source": [
    "clfLR.fit(X_train, y_train)"
   ]
  },
  {
   "cell_type": "markdown",
   "metadata": {},
   "source": [
    "### Validación usando Multi Layer Perceptrón"
   ]
  },
  {
   "cell_type": "code",
   "execution_count": 180,
   "metadata": {},
   "outputs": [],
   "source": [
    "y_validation =clfLR.predict(X_test)"
   ]
  },
  {
   "cell_type": "code",
   "execution_count": 181,
   "metadata": {},
   "outputs": [
    {
     "data": {
      "text/plain": [
       "0.669883189436262"
      ]
     },
     "execution_count": 181,
     "metadata": {},
     "output_type": "execute_result"
    }
   ],
   "source": [
    "#valor previo sin estandarizar datos (como referencia) 0.665312341289995\n",
    "accuracy_score(y_test, y_validation)"
   ]
  },
  {
   "cell_type": "code",
   "execution_count": 182,
   "metadata": {},
   "outputs": [],
   "source": [
    "y_validation_probs = clfLR.predict_proba(X_test)[:,1]"
   ]
  },
  {
   "cell_type": "code",
   "execution_count": 183,
   "metadata": {
    "scrolled": true
   },
   "outputs": [
    {
     "data": {
      "text/plain": [
       "0.5985157700925569"
      ]
     },
     "execution_count": 183,
     "metadata": {},
     "output_type": "execute_result"
    }
   ],
   "source": [
    "#valor previo sin estandarizar datos (como referencia) 0.6305334409524919\n",
    "log_loss(y_test, y_validation_probs)"
   ]
  },
  {
   "cell_type": "markdown",
   "metadata": {},
   "source": [
    "### Predicción usando Multi Layer Perceptrón"
   ]
  },
  {
   "cell_type": "code",
   "execution_count": 184,
   "metadata": {},
   "outputs": [],
   "source": [
    "y_pred_probs =clfLR.predict_proba(df4_test.drop(['Sales_Contract_No','Stage'], axis=1))[:,1]"
   ]
  },
  {
   "cell_type": "code",
   "execution_count": 185,
   "metadata": {},
   "outputs": [],
   "source": [
    "#Creo un dataframe con el formato ( id , precio (El precio predecido ))\n",
    "prediccion = df4_test['Opportunity_ID'].to_frame()\n",
    "prediccion.insert(1,'Target', y_pred_probs , True) \n",
    "#Exportamos la prediccion en formato csv sin labels\n",
    "prediccion.to_csv(r'./MPL4capas100neuronas(datos estandarizados versión 2).csv',index=False , header=True)\n",
    "#prediccion.head()"
   ]
  },
  {
   "cell_type": "markdown",
   "metadata": {},
   "source": [
    "## Multi Layer Perceptrón con 4 capas de 200 neuronas funcion tanh"
   ]
  },
  {
   "cell_type": "code",
   "execution_count": 186,
   "metadata": {},
   "outputs": [],
   "source": [
    "clfLR = MLPClassifier(hidden_layer_sizes=(200,200,200,200),random_state=1,activation='tanh')#, alpha=1e-5,hidden_layer_sizes=(5, 2), random_state=1)"
   ]
  },
  {
   "cell_type": "markdown",
   "metadata": {},
   "source": [
    "### Entrenamiento usando Multi Layer Perceptrón"
   ]
  },
  {
   "cell_type": "code",
   "execution_count": 187,
   "metadata": {
    "scrolled": true
   },
   "outputs": [
    {
     "data": {
      "text/plain": [
       "MLPClassifier(activation='tanh', alpha=0.0001, batch_size='auto', beta_1=0.9,\n",
       "       beta_2=0.999, early_stopping=False, epsilon=1e-08,\n",
       "       hidden_layer_sizes=(200, 200, 200, 200), learning_rate='constant',\n",
       "       learning_rate_init=0.001, max_iter=200, momentum=0.9,\n",
       "       n_iter_no_change=10, nesterovs_momentum=True, power_t=0.5,\n",
       "       random_state=1, shuffle=True, solver='adam', tol=0.0001,\n",
       "       validation_fraction=0.1, verbose=False, warm_start=False)"
      ]
     },
     "execution_count": 187,
     "metadata": {},
     "output_type": "execute_result"
    }
   ],
   "source": [
    "clfLR.fit(X_train, y_train)"
   ]
  },
  {
   "cell_type": "markdown",
   "metadata": {},
   "source": [
    "### Validación usando Multi Layer Perceptrón"
   ]
  },
  {
   "cell_type": "code",
   "execution_count": 188,
   "metadata": {},
   "outputs": [],
   "source": [
    "y_validation =clfLR.predict(X_test)"
   ]
  },
  {
   "cell_type": "code",
   "execution_count": 189,
   "metadata": {},
   "outputs": [
    {
     "data": {
      "text/plain": [
       "0.6028440832910107"
      ]
     },
     "execution_count": 189,
     "metadata": {},
     "output_type": "execute_result"
    }
   ],
   "source": [
    "#valor previo sin estandarizar datos (como referencia) 0.6317927882173692\n",
    "accuracy_score(y_test, y_validation)"
   ]
  },
  {
   "cell_type": "code",
   "execution_count": 190,
   "metadata": {},
   "outputs": [],
   "source": [
    "y_validation_probs = clfLR.predict_proba(X_test)[:,1]"
   ]
  },
  {
   "cell_type": "code",
   "execution_count": 191,
   "metadata": {
    "scrolled": true
   },
   "outputs": [
    {
     "data": {
      "text/plain": [
       "0.6618810297716003"
      ]
     },
     "execution_count": 191,
     "metadata": {},
     "output_type": "execute_result"
    }
   ],
   "source": [
    "#valor previo sin estandarizar datos (como referencia) 0.6332297835667907\n",
    "log_loss(y_test, y_validation_probs)"
   ]
  },
  {
   "cell_type": "markdown",
   "metadata": {},
   "source": [
    "### Predicción usando Multi Layer Perceptrón"
   ]
  },
  {
   "cell_type": "code",
   "execution_count": 192,
   "metadata": {},
   "outputs": [],
   "source": [
    "y_pred_probs =clfLR.predict_proba(df4_test.drop(['Sales_Contract_No','Stage'], axis=1))[:,1]"
   ]
  },
  {
   "cell_type": "code",
   "execution_count": 193,
   "metadata": {},
   "outputs": [],
   "source": [
    "#Creo un dataframe con el formato ( id , precio (El precio predecido ))\n",
    "prediccion = df4_test['Opportunity_ID'].to_frame()\n",
    "prediccion.insert(1,'Target', y_pred_probs , True) \n",
    "#Exportamos la prediccion en formato csv sin labels\n",
    "prediccion.to_csv(r'./MPL4capas200neuronas_tanh(datos estandarizados versión 2).csv',index=False , header=True)\n",
    "#prediccion.head()"
   ]
  },
  {
   "cell_type": "markdown",
   "metadata": {},
   "source": [
    "## Multi Layer Perceptrón con 4 capas de 200 neuronas funcion tanh alpha 0,00001"
   ]
  },
  {
   "cell_type": "code",
   "execution_count": 194,
   "metadata": {},
   "outputs": [],
   "source": [
    "clfLR = MLPClassifier(hidden_layer_sizes=(200,200,200,200),random_state=1,alpha=0.00001,activation='tanh')#, alpha=1e-5,hidden_layer_sizes=(5, 2), random_state=1)"
   ]
  },
  {
   "cell_type": "markdown",
   "metadata": {},
   "source": [
    "### Entrenamiento usando Multi Layer Perceptrón"
   ]
  },
  {
   "cell_type": "code",
   "execution_count": 195,
   "metadata": {
    "scrolled": true
   },
   "outputs": [
    {
     "data": {
      "text/plain": [
       "MLPClassifier(activation='tanh', alpha=1e-05, batch_size='auto', beta_1=0.9,\n",
       "       beta_2=0.999, early_stopping=False, epsilon=1e-08,\n",
       "       hidden_layer_sizes=(200, 200, 200, 200), learning_rate='constant',\n",
       "       learning_rate_init=0.001, max_iter=200, momentum=0.9,\n",
       "       n_iter_no_change=10, nesterovs_momentum=True, power_t=0.5,\n",
       "       random_state=1, shuffle=True, solver='adam', tol=0.0001,\n",
       "       validation_fraction=0.1, verbose=False, warm_start=False)"
      ]
     },
     "execution_count": 195,
     "metadata": {},
     "output_type": "execute_result"
    }
   ],
   "source": [
    "clfLR.fit(X_train, y_train)"
   ]
  },
  {
   "cell_type": "markdown",
   "metadata": {},
   "source": [
    "### Validación usando Multi Layer Perceptrón"
   ]
  },
  {
   "cell_type": "code",
   "execution_count": 196,
   "metadata": {},
   "outputs": [],
   "source": [
    "y_validation =clfLR.predict(X_test)"
   ]
  },
  {
   "cell_type": "code",
   "execution_count": 197,
   "metadata": {},
   "outputs": [
    {
     "data": {
      "text/plain": [
       "0.6028440832910107"
      ]
     },
     "execution_count": 197,
     "metadata": {},
     "output_type": "execute_result"
    }
   ],
   "source": [
    "#valor previo sin estandarizar datos (como referencia) 0.6841036058913154\n",
    "accuracy_score(y_test, y_validation)"
   ]
  },
  {
   "cell_type": "code",
   "execution_count": 198,
   "metadata": {},
   "outputs": [],
   "source": [
    "y_validation_probs = clfLR.predict_proba(X_test)[:,1]"
   ]
  },
  {
   "cell_type": "code",
   "execution_count": 199,
   "metadata": {
    "scrolled": true
   },
   "outputs": [
    {
     "data": {
      "text/plain": [
       "0.6602630365791881"
      ]
     },
     "execution_count": 199,
     "metadata": {},
     "output_type": "execute_result"
    }
   ],
   "source": [
    "#valor previo sin estandarizar datos (como referencia) 0.6033469731032436\n",
    "log_loss(y_test, y_validation_probs)"
   ]
  },
  {
   "cell_type": "markdown",
   "metadata": {},
   "source": [
    "### Predicción usando Multi Layer Perceptrón"
   ]
  },
  {
   "cell_type": "code",
   "execution_count": 200,
   "metadata": {},
   "outputs": [],
   "source": [
    "y_pred_probs =clfLR.predict_proba(df4_test.drop(['Sales_Contract_No','Stage'], axis=1))[:,1]"
   ]
  },
  {
   "cell_type": "code",
   "execution_count": 201,
   "metadata": {},
   "outputs": [],
   "source": [
    "#Creo un dataframe con el formato ( id , precio (El precio predecido ))\n",
    "prediccion = df4_test['Opportunity_ID'].to_frame()\n",
    "prediccion.insert(1,'Target', y_pred_probs , True) \n",
    "#Exportamos la prediccion en formato csv sin labels\n",
    "prediccion.to_csv(r'./MLP4capas200neuronas_tanh_alfa_0,00001(datos estandarizados versión 2).csv',index=False , header=True)\n",
    "#prediccion.head()"
   ]
  },
  {
   "cell_type": "code",
   "execution_count": null,
   "metadata": {},
   "outputs": [],
   "source": []
  },
  {
   "cell_type": "code",
   "execution_count": 202,
   "metadata": {},
   "outputs": [],
   "source": [
    "#TODO subir los cvs generados a partir de acá\n",
    "#   ||\n",
    "#  _||_\n",
    "#  \\  /\n",
    "#   \\/"
   ]
  },
  {
   "cell_type": "markdown",
   "metadata": {},
   "source": [
    "## Logistic Regression con class_weight='Balanced'"
   ]
  },
  {
   "cell_type": "code",
   "execution_count": 203,
   "metadata": {},
   "outputs": [],
   "source": [
    "from sklearn.linear_model import LogisticRegression\n",
    "clfLR = LogisticRegression(random_state=0,class_weight=\"balanced\")"
   ]
  },
  {
   "cell_type": "markdown",
   "metadata": {},
   "source": [
    "### Entrenamiento usando Logistic Regression"
   ]
  },
  {
   "cell_type": "code",
   "execution_count": 204,
   "metadata": {},
   "outputs": [
    {
     "name": "stderr",
     "output_type": "stream",
     "text": [
      "C:\\Users\\licha\\Miniconda3\\envs\\orgadatos\\lib\\site-packages\\sklearn\\linear_model\\logistic.py:433: FutureWarning: Default solver will be changed to 'lbfgs' in 0.22. Specify a solver to silence this warning.\n",
      "  FutureWarning)\n"
     ]
    },
    {
     "data": {
      "text/plain": [
       "LogisticRegression(C=1.0, class_weight='balanced', dual=False,\n",
       "          fit_intercept=True, intercept_scaling=1, max_iter=100,\n",
       "          multi_class='warn', n_jobs=None, penalty='l2', random_state=0,\n",
       "          solver='warn', tol=0.0001, verbose=0, warm_start=False)"
      ]
     },
     "execution_count": 204,
     "metadata": {},
     "output_type": "execute_result"
    }
   ],
   "source": [
    "clfLR.fit(X_train, y_train)"
   ]
  },
  {
   "cell_type": "markdown",
   "metadata": {},
   "source": [
    "### Validación usando Logistic Regression"
   ]
  },
  {
   "cell_type": "code",
   "execution_count": 205,
   "metadata": {},
   "outputs": [],
   "source": [
    "y_validation =clfLR.predict(X_test)\n"
   ]
  },
  {
   "cell_type": "code",
   "execution_count": 206,
   "metadata": {},
   "outputs": [
    {
     "data": {
      "text/plain": [
       "0.8161503301168106"
      ]
     },
     "execution_count": 206,
     "metadata": {},
     "output_type": "execute_result"
    }
   ],
   "source": [
    "#valor previo sin estandarizar datos (como referencia) 0.5738953783646521\n",
    "accuracy_score(y_test, y_validation)"
   ]
  },
  {
   "cell_type": "code",
   "execution_count": 207,
   "metadata": {},
   "outputs": [],
   "source": [
    "y_validation_probs = clfLR.predict_proba(X_test)[:,1]"
   ]
  },
  {
   "cell_type": "code",
   "execution_count": 208,
   "metadata": {},
   "outputs": [
    {
     "data": {
      "text/plain": [
       "0.41422406411595425"
      ]
     },
     "execution_count": 208,
     "metadata": {},
     "output_type": "execute_result"
    }
   ],
   "source": [
    "#valor previo sin estandarizar datos (como referencia) 0.6702551242506127\n",
    "log_loss(y_test, y_validation_probs)"
   ]
  },
  {
   "cell_type": "markdown",
   "metadata": {},
   "source": [
    "### Predicción usando Logistic Regression"
   ]
  },
  {
   "cell_type": "code",
   "execution_count": 209,
   "metadata": {},
   "outputs": [],
   "source": [
    "df3_test = df2_test.drop(['Last_Activity_Day_mean','Last_Activity_Day_std','Last_Activity_Day_min','Last_Activity_Day_max',\n",
    "                            'Last_Activity_Month_mean','Last_Activity_Month_std','Last_Activity_Month_min','Last_Activity_Month_max', \n",
    "                                   'Last_Activity_Year_mean','Last_Activity_Year_std','Last_Activity_Year_min','Last_Activity_Year_max', \n",
    "                            'Actual_Delivery_Date_Day_mean','Actual_Delivery_Date_Day_std','Actual_Delivery_Date_Day_min','Actual_Delivery_Date_Day_max',\n",
    "                                   'Actual_Delivery_Date_Month_mean','Actual_Delivery_Date_Month_std','Actual_Delivery_Date_Month_min','Actual_Delivery_Date_Month_max', \n",
    "                                   'Actual_Delivery_Date_Year_mean','Actual_Delivery_Date_Year_std','Actual_Delivery_Date_Year_min','Actual_Delivery_Date_Year_max'], axis=1)\n"
   ]
  },
  {
   "cell_type": "code",
   "execution_count": 210,
   "metadata": {},
   "outputs": [],
   "source": [
    "df4_test = df3_test.dropna()                                 "
   ]
  },
  {
   "cell_type": "code",
   "execution_count": 211,
   "metadata": {},
   "outputs": [],
   "source": [
    "y_pred_probs =clfLR.predict_proba(df4_test.drop(['Sales_Contract_No','Stage'], axis=1))[:,1]"
   ]
  },
  {
   "cell_type": "code",
   "execution_count": 212,
   "metadata": {},
   "outputs": [],
   "source": [
    "#Creo un dataframe con el formato ( id , precio (El precio predecido ))\n",
    "prediccion = df4_test['Opportunity_ID'].to_frame()\n",
    "prediccion.insert(1,'Target', y_pred_probs , True) \n",
    "#Exportamos la prediccion en formato csv sin labels\n",
    "prediccion.to_csv(r'./LogisticRegression_class_weight=Balanced(datos estandarizados versión 2).csv',index=False , header=True)\n",
    "#prediccion.head()"
   ]
  },
  {
   "cell_type": "code",
   "execution_count": 33,
   "metadata": {},
   "outputs": [],
   "source": [
    "#TODO probar tambien multilayer perceptron escalando los datos de train y test con StandardScaler "
   ]
  },
  {
   "cell_type": "code",
   "execution_count": null,
   "metadata": {},
   "outputs": [],
   "source": []
  },
  {
   "cell_type": "code",
   "execution_count": null,
   "metadata": {},
   "outputs": [],
   "source": []
  },
  {
   "cell_type": "code",
   "execution_count": null,
   "metadata": {},
   "outputs": [],
   "source": []
  },
  {
   "cell_type": "code",
   "execution_count": null,
   "metadata": {},
   "outputs": [],
   "source": []
  },
  {
   "cell_type": "code",
   "execution_count": null,
   "metadata": {},
   "outputs": [],
   "source": []
  },
  {
   "cell_type": "code",
   "execution_count": null,
   "metadata": {},
   "outputs": [],
   "source": []
  },
  {
   "cell_type": "markdown",
   "metadata": {},
   "source": [
    "## Multi Layer Perceptrón con 4 capas de 100 neuronas (estandarizando los datos)"
   ]
  },
  {
   "cell_type": "code",
   "execution_count": 27,
   "metadata": {},
   "outputs": [
    {
     "name": "stderr",
     "output_type": "stream",
     "text": [
      "C:\\Users\\licha\\Miniconda3\\envs\\orgadatos\\lib\\site-packages\\sklearn\\preprocessing\\data.py:645: DataConversionWarning: Data with input dtype int64, float64 were all converted to float64 by StandardScaler.\n",
      "  return self.partial_fit(X, y)\n",
      "C:\\Users\\licha\\Miniconda3\\envs\\orgadatos\\lib\\site-packages\\sklearn\\base.py:464: DataConversionWarning: Data with input dtype int64, float64 were all converted to float64 by StandardScaler.\n",
      "  return self.fit(X, **fit_params).transform(X)\n",
      "C:\\Users\\licha\\Miniconda3\\envs\\orgadatos\\lib\\site-packages\\ipykernel_launcher.py:4: DataConversionWarning: Data with input dtype int64, float64 were all converted to float64 by StandardScaler.\n",
      "  after removing the cwd from sys.path.\n"
     ]
    }
   ],
   "source": [
    "from sklearn.preprocessing import StandardScaler \n",
    "sc_X = StandardScaler()\n",
    "X_trainscaled=sc_X.fit_transform(X_train)\n",
    "X_testscaled=sc_X.transform(X_test)"
   ]
  },
  {
   "cell_type": "markdown",
   "metadata": {},
   "source": [
    "Probamos ahora con una red neuronal con 4 capas ocultas con 100 neuronas:"
   ]
  },
  {
   "cell_type": "code",
   "execution_count": 58,
   "metadata": {},
   "outputs": [],
   "source": [
    "clfLR = MLPClassifier(hidden_layer_sizes=(100,100,100,100),random_state=1)#solver='lbfgs', alpha=1e-5,hidden_layer_sizes=(5, 2), random_state=1)"
   ]
  },
  {
   "cell_type": "markdown",
   "metadata": {},
   "source": [
    "### Entrenamiento usando Multi Layer Perceptrón"
   ]
  },
  {
   "cell_type": "code",
   "execution_count": 59,
   "metadata": {
    "scrolled": true
   },
   "outputs": [
    {
     "data": {
      "text/plain": [
       "MLPClassifier(activation='relu', alpha=0.0001, batch_size='auto', beta_1=0.9,\n",
       "       beta_2=0.999, early_stopping=False, epsilon=1e-08,\n",
       "       hidden_layer_sizes=(100, 100, 100, 100), learning_rate='constant',\n",
       "       learning_rate_init=0.001, max_iter=200, momentum=0.9,\n",
       "       n_iter_no_change=10, nesterovs_momentum=True, power_t=0.5,\n",
       "       random_state=1, shuffle=True, solver='adam', tol=0.0001,\n",
       "       validation_fraction=0.1, verbose=False, warm_start=False)"
      ]
     },
     "execution_count": 59,
     "metadata": {},
     "output_type": "execute_result"
    }
   ],
   "source": [
    "clfLR.fit(X_trainscaled, y_train)"
   ]
  },
  {
   "cell_type": "markdown",
   "metadata": {},
   "source": [
    "### Validación usando Multi Layer Perceptrón"
   ]
  },
  {
   "cell_type": "code",
   "execution_count": 60,
   "metadata": {},
   "outputs": [],
   "source": [
    "y_validation =clfLR.predict(X_testscaled)"
   ]
  },
  {
   "cell_type": "code",
   "execution_count": 61,
   "metadata": {},
   "outputs": [
    {
     "data": {
      "text/plain": [
       "0.814118842051803"
      ]
     },
     "execution_count": 61,
     "metadata": {},
     "output_type": "execute_result"
    }
   ],
   "source": [
    "accuracy_score(y_test, y_validation)"
   ]
  },
  {
   "cell_type": "code",
   "execution_count": 62,
   "metadata": {},
   "outputs": [],
   "source": [
    "y_validation_probs = clfLR.predict_proba(X_testscaled)[:,1]"
   ]
  },
  {
   "cell_type": "code",
   "execution_count": 63,
   "metadata": {
    "scrolled": true
   },
   "outputs": [
    {
     "data": {
      "text/plain": [
       "1.181590607283636"
      ]
     },
     "execution_count": 63,
     "metadata": {},
     "output_type": "execute_result"
    }
   ],
   "source": [
    "log_loss(y_test, y_validation_probs)"
   ]
  },
  {
   "cell_type": "markdown",
   "metadata": {},
   "source": [
    "### Predicción usando Multi Layer Perceptrón"
   ]
  },
  {
   "cell_type": "code",
   "execution_count": 64,
   "metadata": {},
   "outputs": [],
   "source": [
    "y_pred_probs =clfLR.predict_proba(df4_test.drop(['Sales_Contract_No','Stage'], axis=1))[:,1]"
   ]
  },
  {
   "cell_type": "code",
   "execution_count": 65,
   "metadata": {},
   "outputs": [],
   "source": [
    "#Creo un dataframe con el formato ( id , precio (El precio predecido ))\n",
    "prediccion = df4_test['Opportunity_ID'].to_frame()\n",
    "prediccion.insert(1,'Target', y_pred_probs , True) \n",
    "#Exportamos la prediccion en formato csv sin labels\n",
    "prediccion.to_csv(r'./MLP4capas100neuronas(DatosEstandarizados).csv',index=False , header=True)\n",
    "#prediccion.head()"
   ]
  },
  {
   "cell_type": "markdown",
   "metadata": {},
   "source": [
    "## Multi Layer Perceptrón con 4 capas de 200 neuronas funcion tanh (estandarizando los datos)"
   ]
  },
  {
   "cell_type": "code",
   "execution_count": 66,
   "metadata": {},
   "outputs": [],
   "source": [
    "clfLR = MLPClassifier(hidden_layer_sizes=(200,200,200,200),random_state=1,activation='tanh')#, alpha=1e-5,hidden_layer_sizes=(5, 2), random_state=1)"
   ]
  },
  {
   "cell_type": "markdown",
   "metadata": {},
   "source": [
    "### Entrenamiento usando Multi Layer Perceptrón"
   ]
  },
  {
   "cell_type": "code",
   "execution_count": 67,
   "metadata": {
    "scrolled": true
   },
   "outputs": [
    {
     "data": {
      "text/plain": [
       "MLPClassifier(activation='tanh', alpha=0.0001, batch_size='auto', beta_1=0.9,\n",
       "       beta_2=0.999, early_stopping=False, epsilon=1e-08,\n",
       "       hidden_layer_sizes=(200, 200, 200, 200), learning_rate='constant',\n",
       "       learning_rate_init=0.001, max_iter=200, momentum=0.9,\n",
       "       n_iter_no_change=10, nesterovs_momentum=True, power_t=0.5,\n",
       "       random_state=1, shuffle=True, solver='adam', tol=0.0001,\n",
       "       validation_fraction=0.1, verbose=False, warm_start=False)"
      ]
     },
     "execution_count": 67,
     "metadata": {},
     "output_type": "execute_result"
    }
   ],
   "source": [
    "clfLR.fit(X_trainscaled, y_train)"
   ]
  },
  {
   "cell_type": "markdown",
   "metadata": {},
   "source": [
    "### Validación usando Multi Layer Perceptrón"
   ]
  },
  {
   "cell_type": "code",
   "execution_count": 68,
   "metadata": {},
   "outputs": [],
   "source": [
    "y_validation =clfLR.predict(X_testscaled)"
   ]
  },
  {
   "cell_type": "code",
   "execution_count": 69,
   "metadata": {},
   "outputs": [
    {
     "data": {
      "text/plain": [
       "0.8324022346368715"
      ]
     },
     "execution_count": 69,
     "metadata": {},
     "output_type": "execute_result"
    }
   ],
   "source": [
    "accuracy_score(y_test, y_validation)"
   ]
  },
  {
   "cell_type": "code",
   "execution_count": 70,
   "metadata": {},
   "outputs": [],
   "source": [
    "y_validation_probs = clfLR.predict_proba(X_testscaled)[:,1]"
   ]
  },
  {
   "cell_type": "code",
   "execution_count": 71,
   "metadata": {
    "scrolled": true
   },
   "outputs": [
    {
     "data": {
      "text/plain": [
       "1.1365617545276594"
      ]
     },
     "execution_count": 71,
     "metadata": {},
     "output_type": "execute_result"
    }
   ],
   "source": [
    "log_loss(y_test, y_validation_probs)"
   ]
  },
  {
   "cell_type": "markdown",
   "metadata": {},
   "source": [
    "### Predicción usando Multi Layer Perceptrón"
   ]
  },
  {
   "cell_type": "code",
   "execution_count": 72,
   "metadata": {},
   "outputs": [],
   "source": [
    "y_pred_probs =clfLR.predict_proba(df4_test.drop(['Sales_Contract_No','Stage'], axis=1))[:,1]"
   ]
  },
  {
   "cell_type": "code",
   "execution_count": 73,
   "metadata": {},
   "outputs": [],
   "source": [
    "#Creo un dataframe con el formato ( id , precio (El precio predecido ))\n",
    "prediccion = df4_test['Opportunity_ID'].to_frame()\n",
    "prediccion.insert(1,'Target', y_pred_probs , True) \n",
    "#Exportamos la prediccion en formato csv sin labels\n",
    "prediccion.to_csv(r'./MLP4capas200neuronas_tanh(DatosEstandarizados).csv',index=False , header=True)\n",
    "#prediccion.head()"
   ]
  },
  {
   "cell_type": "markdown",
   "metadata": {},
   "source": [
    "## Multi Layer Perceptrón con 4 capas de 200 neuronas funcion tanh alpha 0,00001 (estandarizando los datos)"
   ]
  },
  {
   "cell_type": "code",
   "execution_count": 74,
   "metadata": {},
   "outputs": [],
   "source": [
    "clfLR = MLPClassifier(hidden_layer_sizes=(200,200,200,200),random_state=1,alpha=0.00001,activation='tanh')#, alpha=1e-5,hidden_layer_sizes=(5, 2), random_state=1)"
   ]
  },
  {
   "cell_type": "markdown",
   "metadata": {},
   "source": [
    "### Entrenamiento usando Multi Layer Perceptrón"
   ]
  },
  {
   "cell_type": "code",
   "execution_count": 75,
   "metadata": {
    "scrolled": true
   },
   "outputs": [
    {
     "data": {
      "text/plain": [
       "MLPClassifier(activation='tanh', alpha=1e-05, batch_size='auto', beta_1=0.9,\n",
       "       beta_2=0.999, early_stopping=False, epsilon=1e-08,\n",
       "       hidden_layer_sizes=(200, 200, 200, 200), learning_rate='constant',\n",
       "       learning_rate_init=0.001, max_iter=200, momentum=0.9,\n",
       "       n_iter_no_change=10, nesterovs_momentum=True, power_t=0.5,\n",
       "       random_state=1, shuffle=True, solver='adam', tol=0.0001,\n",
       "       validation_fraction=0.1, verbose=False, warm_start=False)"
      ]
     },
     "execution_count": 75,
     "metadata": {},
     "output_type": "execute_result"
    }
   ],
   "source": [
    "clfLR.fit(X_trainscaled, y_train)"
   ]
  },
  {
   "cell_type": "markdown",
   "metadata": {},
   "source": [
    "### Validación usando Multi Layer Perceptrón"
   ]
  },
  {
   "cell_type": "code",
   "execution_count": 76,
   "metadata": {},
   "outputs": [],
   "source": [
    "y_validation =clfLR.predict(X_testscaled)"
   ]
  },
  {
   "cell_type": "code",
   "execution_count": 77,
   "metadata": {},
   "outputs": [
    {
     "data": {
      "text/plain": [
       "0.8395124428643982"
      ]
     },
     "execution_count": 77,
     "metadata": {},
     "output_type": "execute_result"
    }
   ],
   "source": [
    "accuracy_score(y_test, y_validation)"
   ]
  },
  {
   "cell_type": "code",
   "execution_count": 78,
   "metadata": {},
   "outputs": [],
   "source": [
    "y_validation_probs = clfLR.predict_proba(X_testscaled)[:,1]"
   ]
  },
  {
   "cell_type": "code",
   "execution_count": 79,
   "metadata": {
    "scrolled": true
   },
   "outputs": [
    {
     "data": {
      "text/plain": [
       "1.1019599272665879"
      ]
     },
     "execution_count": 79,
     "metadata": {},
     "output_type": "execute_result"
    }
   ],
   "source": [
    "log_loss(y_test, y_validation_probs)"
   ]
  },
  {
   "cell_type": "markdown",
   "metadata": {},
   "source": [
    "### Predicción usando Multi Layer Perceptrón"
   ]
  },
  {
   "cell_type": "code",
   "execution_count": 80,
   "metadata": {},
   "outputs": [],
   "source": [
    "y_pred_probs =clfLR.predict_proba(df4_test.drop(['Sales_Contract_No','Stage'], axis=1))[:,1]"
   ]
  },
  {
   "cell_type": "code",
   "execution_count": 81,
   "metadata": {},
   "outputs": [],
   "source": [
    "#Creo un dataframe con el formato ( id , precio (El precio predecido ))\n",
    "prediccion = df4_test['Opportunity_ID'].to_frame()\n",
    "prediccion.insert(1,'Target', y_pred_probs , True) \n",
    "#Exportamos la prediccion en formato csv sin labels\n",
    "prediccion.to_csv(r'./MLP4capas200neuronas_tanh_alfa_0,00001(DatosEstandarizados).csv',index=False , header=True)\n",
    "#prediccion.head()"
   ]
  },
  {
   "cell_type": "markdown",
   "metadata": {},
   "source": [
    "## Multi Layer Perceptrón con 4 capas de 200 neuronas funcion relu (estandarizando los datos)"
   ]
  },
  {
   "cell_type": "code",
   "execution_count": 66,
   "metadata": {},
   "outputs": [],
   "source": [
    "clfLR = MLPClassifier(hidden_layer_sizes=(200,200,200,200),random_state=1)#, alpha=1e-5,hidden_layer_sizes=(5, 2), random_state=1)"
   ]
  },
  {
   "cell_type": "markdown",
   "metadata": {},
   "source": [
    "### Entrenamiento usando Multi Layer Perceptrón"
   ]
  },
  {
   "cell_type": "code",
   "execution_count": 67,
   "metadata": {
    "scrolled": true
   },
   "outputs": [
    {
     "data": {
      "text/plain": [
       "MLPClassifier(activation='relu', alpha=0.0001, batch_size='auto', beta_1=0.9,\n",
       "       beta_2=0.999, early_stopping=False, epsilon=1e-08,\n",
       "       hidden_layer_sizes=(200, 200, 200, 200), learning_rate='constant',\n",
       "       learning_rate_init=0.001, max_iter=200, momentum=0.9,\n",
       "       n_iter_no_change=10, nesterovs_momentum=True, power_t=0.5,\n",
       "       random_state=1, shuffle=True, solver='adam', tol=0.0001,\n",
       "       validation_fraction=0.1, verbose=False, warm_start=False)"
      ]
     },
     "execution_count": 67,
     "metadata": {},
     "output_type": "execute_result"
    }
   ],
   "source": [
    "clfLR.fit(X_trainscaled, y_train)"
   ]
  },
  {
   "cell_type": "markdown",
   "metadata": {},
   "source": [
    "### Validación usando Multi Layer Perceptrón"
   ]
  },
  {
   "cell_type": "code",
   "execution_count": 68,
   "metadata": {},
   "outputs": [],
   "source": [
    "y_validation =clfLR.predict(X_testscaled)"
   ]
  },
  {
   "cell_type": "code",
   "execution_count": 69,
   "metadata": {},
   "outputs": [
    {
     "data": {
      "text/plain": [
       "0.8252920264093448"
      ]
     },
     "execution_count": 69,
     "metadata": {},
     "output_type": "execute_result"
    }
   ],
   "source": [
    "accuracy_score(y_test, y_validation)"
   ]
  },
  {
   "cell_type": "code",
   "execution_count": 70,
   "metadata": {},
   "outputs": [],
   "source": [
    "y_validation_probs = clfLR.predict_proba(X_testscaled)[:,1]"
   ]
  },
  {
   "cell_type": "code",
   "execution_count": 71,
   "metadata": {
    "scrolled": true
   },
   "outputs": [
    {
     "data": {
      "text/plain": [
       "1.0245772609672683"
      ]
     },
     "execution_count": 71,
     "metadata": {},
     "output_type": "execute_result"
    }
   ],
   "source": [
    "log_loss(y_test, y_validation_probs)"
   ]
  },
  {
   "cell_type": "markdown",
   "metadata": {},
   "source": [
    "### Predicción usando Multi Layer Perceptrón"
   ]
  },
  {
   "cell_type": "code",
   "execution_count": 72,
   "metadata": {},
   "outputs": [],
   "source": [
    "y_pred_probs =clfLR.predict_proba(df4_test.drop(['Sales_Contract_No','Stage'], axis=1))[:,1]"
   ]
  },
  {
   "cell_type": "code",
   "execution_count": 73,
   "metadata": {},
   "outputs": [],
   "source": [
    "#Creo un dataframe con el formato ( id , precio (El precio predecido ))\n",
    "prediccion = df4_test['Opportunity_ID'].to_frame()\n",
    "prediccion.insert(1,'Target', y_pred_probs , True) \n",
    "#Exportamos la prediccion en formato csv sin labels\n",
    "prediccion.to_csv(r'./MLP4capas200neuronas(DatosEstandarizados).csv',index=False , header=True)\n",
    "#prediccion.head()"
   ]
  },
  {
   "cell_type": "code",
   "execution_count": null,
   "metadata": {},
   "outputs": [],
   "source": []
  },
  {
   "cell_type": "code",
   "execution_count": null,
   "metadata": {},
   "outputs": [],
   "source": []
  }
 ],
 "metadata": {
  "kernelspec": {
   "display_name": "Python 3",
   "language": "python",
   "name": "python3"
  },
  "language_info": {
   "codemirror_mode": {
    "name": "ipython",
    "version": 3
   },
   "file_extension": ".py",
   "mimetype": "text/x-python",
   "name": "python",
   "nbconvert_exporter": "python",
   "pygments_lexer": "ipython3",
   "version": "3.7.9"
  }
 },
 "nbformat": 4,
 "nbformat_minor": 4
}
